{
 "cells": [
  {
   "cell_type": "code",
   "execution_count": 1,
   "id": "32dfeb83",
   "metadata": {},
   "outputs": [],
   "source": [
    "def fact(n):\n",
    "    if n==0:\n",
    "        return 1\n",
    "    return n*fact(n-1)"
   ]
  },
  {
   "cell_type": "code",
   "execution_count": 2,
   "id": "341df3ec",
   "metadata": {},
   "outputs": [
    {
     "data": {
      "text/plain": [
       "120"
      ]
     },
     "execution_count": 2,
     "metadata": {},
     "output_type": "execute_result"
    }
   ],
   "source": [
    "fact(5)"
   ]
  },
  {
   "cell_type": "code",
   "execution_count": 5,
   "id": "37e90c3d",
   "metadata": {},
   "outputs": [],
   "source": [
    "def sum_natural_number(x):\n",
    "    if x==0:\n",
    "        return 0\n",
    "    return x+sum_natural_number(x-1)"
   ]
  },
  {
   "cell_type": "code",
   "execution_count": 6,
   "id": "73510d14",
   "metadata": {},
   "outputs": [
    {
     "data": {
      "text/plain": [
       "55"
      ]
     },
     "execution_count": 6,
     "metadata": {},
     "output_type": "execute_result"
    }
   ],
   "source": [
    "sum_natural_number(10)"
   ]
  },
  {
   "cell_type": "code",
   "execution_count": 19,
   "id": "81efa880",
   "metadata": {},
   "outputs": [],
   "source": [
    "def x_pow_y(x,y):\n",
    "    if x==0:\n",
    "        return 0\n",
    "    if x==1 or y==0:\n",
    "        return 1\n",
    "    if y==1:\n",
    "        return x\n",
    "    return x*x_pow_y(x,y-1)"
   ]
  },
  {
   "cell_type": "code",
   "execution_count": 23,
   "id": "fa646486",
   "metadata": {},
   "outputs": [
    {
     "name": "stdout",
     "output_type": "stream",
     "text": [
      "3 4\n"
     ]
    },
    {
     "data": {
      "text/plain": [
       "81"
      ]
     },
     "execution_count": 23,
     "metadata": {},
     "output_type": "execute_result"
    }
   ],
   "source": [
    "x,y = input().split()\n",
    "x = int(x)\n",
    "y = int(y)\n",
    "x_pow_y(x,y)"
   ]
  },
  {
   "cell_type": "code",
   "execution_count": null,
   "id": "409efba2",
   "metadata": {},
   "outputs": [],
   "source": []
  }
 ],
 "metadata": {
  "kernelspec": {
   "display_name": "Python 3 (ipykernel)",
   "language": "python",
   "name": "python3"
  },
  "language_info": {
   "codemirror_mode": {
    "name": "ipython",
    "version": 3
   },
   "file_extension": ".py",
   "mimetype": "text/x-python",
   "name": "python",
   "nbconvert_exporter": "python",
   "pygments_lexer": "ipython3",
   "version": "3.9.13"
  }
 },
 "nbformat": 4,
 "nbformat_minor": 5
}
