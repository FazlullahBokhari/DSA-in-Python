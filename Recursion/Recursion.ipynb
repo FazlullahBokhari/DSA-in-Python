{
 "cells": [
  {
   "cell_type": "code",
   "execution_count": 1,
   "id": "32dfeb83",
   "metadata": {},
   "outputs": [],
   "source": [
    "def fact(n):\n",
    "    if n==0:\n",
    "        return 1\n",
    "    return n*fact(n-1)"
   ]
  },
  {
   "cell_type": "code",
   "execution_count": 2,
   "id": "341df3ec",
   "metadata": {},
   "outputs": [
    {
     "data": {
      "text/plain": [
       "120"
      ]
     },
     "execution_count": 2,
     "metadata": {},
     "output_type": "execute_result"
    }
   ],
   "source": [
    "fact(5)"
   ]
  },
  {
   "cell_type": "code",
   "execution_count": 3,
   "id": "37e90c3d",
   "metadata": {},
   "outputs": [],
   "source": [
    "def sum_natural_number(x):\n",
    "    if x==0:\n",
    "        return 0\n",
    "    return x+sum_natural_number(x-1)"
   ]
  },
  {
   "cell_type": "code",
   "execution_count": 4,
   "id": "73510d14",
   "metadata": {},
   "outputs": [
    {
     "data": {
      "text/plain": [
       "55"
      ]
     },
     "execution_count": 4,
     "metadata": {},
     "output_type": "execute_result"
    }
   ],
   "source": [
    "sum_natural_number(10)"
   ]
  },
  {
   "cell_type": "code",
   "execution_count": 5,
   "id": "81efa880",
   "metadata": {},
   "outputs": [],
   "source": [
    "def x_pow_y(x,y):\n",
    "    if x==0:\n",
    "        return 0\n",
    "    if x==1 or y==0:\n",
    "        return 1\n",
    "    if y==1:\n",
    "        return x\n",
    "    return x*x_pow_y(x,y-1)"
   ]
  },
  {
   "cell_type": "code",
   "execution_count": 6,
   "id": "fa646486",
   "metadata": {},
   "outputs": [
    {
     "name": "stdout",
     "output_type": "stream",
     "text": [
      "5 3\n"
     ]
    },
    {
     "data": {
      "text/plain": [
       "125"
      ]
     },
     "execution_count": 6,
     "metadata": {},
     "output_type": "execute_result"
    }
   ],
   "source": [
    "x,y = input().split()\n",
    "x = int(x)\n",
    "y = int(y)\n",
    "x_pow_y(x,y)"
   ]
  },
  {
   "cell_type": "code",
   "execution_count": 7,
   "id": "409efba2",
   "metadata": {},
   "outputs": [],
   "source": [
    "def fib(n):\n",
    "    if n==0:\n",
    "        return 0\n",
    "    if n==1:\n",
    "        return 1\n",
    "    return fib(n-1)+fib(n-2)"
   ]
  },
  {
   "cell_type": "code",
   "execution_count": 8,
   "id": "ac5b5da7",
   "metadata": {},
   "outputs": [
    {
     "data": {
      "text/plain": [
       "55"
      ]
     },
     "execution_count": 8,
     "metadata": {},
     "output_type": "execute_result"
    }
   ],
   "source": [
    "fib(10)"
   ]
  },
  {
   "cell_type": "code",
   "execution_count": 9,
   "id": "a7cfc641",
   "metadata": {},
   "outputs": [],
   "source": [
    "def print_fib(n):\n",
    "    for i in range(n):\n",
    "        print(fib(i),end=\" \")"
   ]
  },
  {
   "cell_type": "code",
   "execution_count": 10,
   "id": "eaa30d19",
   "metadata": {},
   "outputs": [
    {
     "name": "stdout",
     "output_type": "stream",
     "text": [
      "0 1 1 2 3 5 8 13 21 34 "
     ]
    }
   ],
   "source": [
    "print_fib(10)"
   ]
  },
  {
   "cell_type": "code",
   "execution_count": 11,
   "id": "8d9ae030",
   "metadata": {},
   "outputs": [],
   "source": [
    "def print_fibb(n):\n",
    "    a = 0\n",
    "    b = 1\n",
    "    if n<1:\n",
    "        return \n",
    "    print(a, end=\" \")\n",
    "    for i in range(1,n):\n",
    "        print(b, end=\" \")\n",
    "        c = a+b\n",
    "        a = b\n",
    "        b = c"
   ]
  },
  {
   "cell_type": "code",
   "execution_count": 12,
   "id": "688972c3",
   "metadata": {},
   "outputs": [
    {
     "name": "stdout",
     "output_type": "stream",
     "text": [
      "0 1 1 2 3 "
     ]
    }
   ],
   "source": [
    "print_fibb(5)"
   ]
  },
  {
   "cell_type": "code",
   "execution_count": 13,
   "id": "24c4d42f",
   "metadata": {},
   "outputs": [],
   "source": [
    "def fun(n):\n",
    "    if n==4:\n",
    "        return n\n",
    "    return 2*fun(n+1)"
   ]
  },
  {
   "cell_type": "code",
   "execution_count": 14,
   "id": "675cb805",
   "metadata": {},
   "outputs": [
    {
     "data": {
      "text/plain": [
       "16"
      ]
     },
     "execution_count": 14,
     "metadata": {},
     "output_type": "execute_result"
    }
   ],
   "source": [
    "fun(2)"
   ]
  },
  {
   "cell_type": "code",
   "execution_count": 15,
   "id": "61342c2e",
   "metadata": {},
   "outputs": [],
   "source": [
    "def check_sorted_list(lst):\n",
    "    for i in range(len(lst)-1):\n",
    "        if lst[i]<lst[i+1]:\n",
    "            continue\n",
    "        return \"Not sorted\"\n",
    "    return \"Sorted\" "
   ]
  },
  {
   "cell_type": "code",
   "execution_count": 16,
   "id": "5cd8e18a",
   "metadata": {},
   "outputs": [
    {
     "data": {
      "text/plain": [
       "'Sorted'"
      ]
     },
     "execution_count": 16,
     "metadata": {},
     "output_type": "execute_result"
    }
   ],
   "source": [
    "lst = [10,50,90,95]\n",
    "check_sorted_list(lst)"
   ]
  },
  {
   "cell_type": "code",
   "execution_count": 34,
   "id": "2f67853b",
   "metadata": {},
   "outputs": [],
   "source": [
    "def check_sorted_rec(lst):\n",
    "    length = len(lst)\n",
    "    if length == 0 or length == 1:\n",
    "        return True\n",
    "    if lst[0]>lst[1]:\n",
    "        return False\n",
    "    return check_sorted_rec(lst[1:])"
   ]
  },
  {
   "cell_type": "code",
   "execution_count": 35,
   "id": "50a661ac",
   "metadata": {},
   "outputs": [
    {
     "data": {
      "text/plain": [
       "False"
      ]
     },
     "execution_count": 35,
     "metadata": {},
     "output_type": "execute_result"
    }
   ],
   "source": [
    "lst = [10,50,98,95]\n",
    "check_sorted_rec(lst)"
   ]
  },
  {
   "cell_type": "code",
   "execution_count": null,
   "id": "3f7752b2",
   "metadata": {},
   "outputs": [],
   "source": []
  }
 ],
 "metadata": {
  "kernelspec": {
   "display_name": "Python 3 (ipykernel)",
   "language": "python",
   "name": "python3"
  },
  "language_info": {
   "codemirror_mode": {
    "name": "ipython",
    "version": 3
   },
   "file_extension": ".py",
   "mimetype": "text/x-python",
   "name": "python",
   "nbconvert_exporter": "python",
   "pygments_lexer": "ipython3",
   "version": "3.9.13"
  }
 },
 "nbformat": 4,
 "nbformat_minor": 5
}
