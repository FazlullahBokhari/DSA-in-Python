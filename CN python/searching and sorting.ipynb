{
 "cells": [
  {
   "cell_type": "code",
   "execution_count": 1,
   "id": "e696ef70",
   "metadata": {},
   "outputs": [
    {
     "name": "stdout",
     "output_type": "stream",
     "text": [
      "Lower Bound 0\n",
      "upper Bound 5\n",
      "Middle 2\n",
      "Lower Bound 3\n",
      "upper Bound 5\n",
      "Middle 4\n",
      "Lower Bound 3\n",
      "upper Bound 3\n",
      "Middle 3\n",
      "Lower Bound 0\n",
      "upper Bound 9\n",
      "Middle 4\n"
     ]
    },
    {
     "data": {
      "text/plain": [
       "('Your Value is found at middle at index', 4)"
      ]
     },
     "execution_count": 1,
     "metadata": {},
     "output_type": "execute_result"
    }
   ],
   "source": [
    "def binary_search(array,element,debug=False):\n",
    "    lower_bound=0\n",
    "    upper_bound=len(array)-1\n",
    "    while lower_bound<=upper_bound:\n",
    "        middle=(lower_bound+upper_bound)//2 #integer\n",
    "        if debug:\n",
    "            print(\"Lower Bound\",lower_bound)\n",
    "            print(\"upper Bound\",upper_bound)\n",
    "            print(\"Middle\",middle)\n",
    "        if element==array[middle]:\n",
    "            return \"Your Value is found at middle at index\",middle\n",
    "        elif element<array[middle]: #Lesser condition\n",
    "            #no change in lower bound\n",
    "            upper_bound=middle-1\n",
    "        else:#greater condition\n",
    "            #upper bound remains same\n",
    "            lower_bound=middle+1 \n",
    "    return \"Your element isn't available in the array\"\n",
    "    \n",
    "\n",
    "array=[12,34,45,56,67,89]\n",
    "x1=56\n",
    "x2=57\n",
    "binary_search(array,x1,debug=True)\n",
    "\n",
    "array=[12,34,45,56,56,56,56,56,67,89]\n",
    "x1=56\n",
    "x2=57\n",
    "binary_search(array,x1,debug=True)"
   ]
  },
  {
   "cell_type": "code",
   "execution_count": 31,
   "id": "d3351fd9",
   "metadata": {},
   "outputs": [
    {
     "data": {
      "text/plain": [
       "2"
      ]
     },
     "execution_count": 31,
     "metadata": {},
     "output_type": "execute_result"
    }
   ],
   "source": [
    "def binarySearch(arr, x): \n",
    "    r = len(arr)-1\n",
    "    l = 0\n",
    "    while l <= r:\n",
    "        mid = l + (r - l)//2\n",
    "        if arr[mid] == x:\n",
    "            return mid\n",
    "\n",
    "        elif arr[mid] < x:\n",
    "            l = mid + 1\n",
    "\n",
    "\n",
    "        else:\n",
    "            r = mid - 1\n",
    "\n",
    "    return -1\n",
    "       \n",
    "\n",
    "arr = [2, 3, 4, 10, 40]\n",
    "x = 4\n",
    "\n",
    "binarySearch(arr,x)      "
   ]
  },
  {
   "cell_type": "code",
   "execution_count": 25,
   "id": "1d1e8d4b",
   "metadata": {},
   "outputs": [
    {
     "data": {
      "text/plain": [
       "'ba'"
      ]
     },
     "execution_count": 25,
     "metadata": {},
     "output_type": "execute_result"
    }
   ],
   "source": [
    "str1 = \"aqwdqwd abwqdqwd bkjfkljrlfjlekrf cewfwef dewfwefw ewdwqd fqsqs gefewf hwefwef iewf jewf kewfwef lwded2e ba\"\n",
    "def count_len(str1):\n",
    "    count = 1000\n",
    "    output = \"\"\n",
    "    str1 = str1.split(\" \")\n",
    "    for i in str1:\n",
    "        if len(i)<count:\n",
    "            count = len(i)\n",
    "            output = i\n",
    "    return output \n",
    "\n",
    "count_len(str1)"
   ]
  },
  {
   "cell_type": "code",
   "execution_count": 39,
   "id": "36518f68",
   "metadata": {},
   "outputs": [
    {
     "name": "stdout",
     "output_type": "stream",
     "text": [
      "[[1, 2, 3, 4], [5, 6, 7, 8], [9, 10, 11, 12]]\n",
      "[[1, 2, 3, 4], [5, 6, 7, 8], [9, 10, 11, 12]]\n",
      "[[1, 2, 3, 4], [5, 6, 7, 8], [9, 10, 11, 12]]\n",
      "[[1, 2, 3, 4], [5, 6, 7, 8], [9, 10, 11, 12]]\n",
      "[1, 2, 3, 4] [5, 6, 7, 8] [9, 10, 11, 12] "
     ]
    },
    {
     "ename": "IndexError",
     "evalue": "list index out of range",
     "output_type": "error",
     "traceback": [
      "\u001b[1;31m---------------------------------------------------------------------------\u001b[0m",
      "\u001b[1;31mIndexError\u001b[0m                                Traceback (most recent call last)",
      "\u001b[1;32m~\\AppData\\Local\\Temp/ipykernel_11124/939479243.py\u001b[0m in \u001b[0;36m<module>\u001b[1;34m\u001b[0m\n\u001b[0;32m     18\u001b[0m     \u001b[0mprint\u001b[0m\u001b[1;33m(\u001b[0m\u001b[0mrow\u001b[0m\u001b[1;33m)\u001b[0m\u001b[1;33m\u001b[0m\u001b[1;33m\u001b[0m\u001b[0m\n\u001b[0;32m     19\u001b[0m     \u001b[0mmat\u001b[0m\u001b[1;33m.\u001b[0m\u001b[0mappend\u001b[0m\u001b[1;33m(\u001b[0m\u001b[0mrow\u001b[0m\u001b[1;33m)\u001b[0m\u001b[1;33m\u001b[0m\u001b[1;33m\u001b[0m\u001b[0m\n\u001b[1;32m---> 20\u001b[1;33m \u001b[0mprint2DArray\u001b[0m\u001b[1;33m(\u001b[0m\u001b[0mmat\u001b[0m\u001b[1;33m,\u001b[0m \u001b[0mrows\u001b[0m\u001b[1;33m,\u001b[0m \u001b[0mcols\u001b[0m\u001b[1;33m)\u001b[0m\u001b[1;33m\u001b[0m\u001b[1;33m\u001b[0m\u001b[0m\n\u001b[0m",
      "\u001b[1;32m~\\AppData\\Local\\Temp/ipykernel_11124/939479243.py\u001b[0m in \u001b[0;36mprint2DArray\u001b[1;34m(mat, rows, cols)\u001b[0m\n\u001b[0;32m      4\u001b[0m         \u001b[1;32mfor\u001b[0m \u001b[0ml\u001b[0m \u001b[1;32min\u001b[0m \u001b[0mrange\u001b[0m\u001b[1;33m(\u001b[0m\u001b[0mk\u001b[0m\u001b[1;33m-\u001b[0m\u001b[1;36m1\u001b[0m\u001b[1;33m,\u001b[0m \u001b[1;33m-\u001b[0m\u001b[1;36m1\u001b[0m\u001b[1;33m,\u001b[0m \u001b[1;33m-\u001b[0m\u001b[1;36m1\u001b[0m\u001b[1;33m)\u001b[0m \u001b[1;33m:\u001b[0m\u001b[1;33m\u001b[0m\u001b[1;33m\u001b[0m\u001b[0m\n\u001b[0;32m      5\u001b[0m             \u001b[1;32mfor\u001b[0m \u001b[0mj\u001b[0m \u001b[1;32min\u001b[0m \u001b[0mrange\u001b[0m\u001b[1;33m(\u001b[0m\u001b[0mcols\u001b[0m\u001b[1;33m)\u001b[0m \u001b[1;33m:\u001b[0m\u001b[1;33m\u001b[0m\u001b[1;33m\u001b[0m\u001b[0m\n\u001b[1;32m----> 6\u001b[1;33m                 \u001b[0mprint\u001b[0m\u001b[1;33m(\u001b[0m\u001b[0mmat\u001b[0m\u001b[1;33m[\u001b[0m\u001b[0mi\u001b[0m\u001b[1;33m]\u001b[0m\u001b[1;33m[\u001b[0m\u001b[0mj\u001b[0m\u001b[1;33m]\u001b[0m\u001b[1;33m,\u001b[0m \u001b[0mend\u001b[0m \u001b[1;33m=\u001b[0m \u001b[1;34m\" \"\u001b[0m\u001b[1;33m)\u001b[0m\u001b[1;33m\u001b[0m\u001b[1;33m\u001b[0m\u001b[0m\n\u001b[0m\u001b[0;32m      7\u001b[0m             \u001b[0mprint\u001b[0m\u001b[1;33m(\u001b[0m\u001b[1;33m)\u001b[0m\u001b[1;33m\u001b[0m\u001b[1;33m\u001b[0m\u001b[0m\n\u001b[0;32m      8\u001b[0m \u001b[1;33m\u001b[0m\u001b[0m\n",
      "\u001b[1;31mIndexError\u001b[0m: list index out of range"
     ]
    }
   ],
   "source": [
    "def print2DArray(mat, rows, cols):\n",
    "    k = rows\n",
    "    for i in range(rows) :\n",
    "        for l in range(k-1, -1, -1) :\n",
    "            for j in range(cols) :\n",
    "                print(mat[i][j], end = \" \")\n",
    "            print()\n",
    "\n",
    "        k -= 1\n",
    "#main\n",
    "mat = []\n",
    "li = [[1,2,3,4],[5,6,7,8],[9,10,11,12]]\n",
    "rows = len(li[0])\n",
    "cols = len(li[1])\n",
    "for i in range(rows):\n",
    "    row = [[1,2,3,4],[5,6,7,8],[9,10,11,12]]\n",
    "    #[int(elem) for elem in list(input().strip().split())]\n",
    "    print(row)\n",
    "    mat.append(row)\n",
    "print2DArray(mat, rows, cols)"
   ]
  },
  {
   "cell_type": "code",
   "execution_count": null,
   "id": "d6ff4d71",
   "metadata": {},
   "outputs": [],
   "source": []
  }
 ],
 "metadata": {
  "kernelspec": {
   "display_name": "Python 3",
   "language": "python",
   "name": "python3"
  },
  "language_info": {
   "codemirror_mode": {
    "name": "ipython",
    "version": 3
   },
   "file_extension": ".py",
   "mimetype": "text/x-python",
   "name": "python",
   "nbconvert_exporter": "python",
   "pygments_lexer": "ipython3",
   "version": "3.8.8"
  }
 },
 "nbformat": 4,
 "nbformat_minor": 5
}
