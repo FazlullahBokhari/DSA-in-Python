{
 "cells": [
  {
   "cell_type": "code",
   "execution_count": 1,
   "id": "e696ef70",
   "metadata": {},
   "outputs": [
    {
     "name": "stdout",
     "output_type": "stream",
     "text": [
      "Lower Bound 0\n",
      "upper Bound 5\n",
      "Middle 2\n",
      "Lower Bound 3\n",
      "upper Bound 5\n",
      "Middle 4\n",
      "Lower Bound 3\n",
      "upper Bound 3\n",
      "Middle 3\n",
      "Lower Bound 0\n",
      "upper Bound 9\n",
      "Middle 4\n"
     ]
    },
    {
     "data": {
      "text/plain": [
       "('Your Value is found at middle at index', 4)"
      ]
     },
     "execution_count": 1,
     "metadata": {},
     "output_type": "execute_result"
    }
   ],
   "source": [
    "def binary_search(array,element,debug=False):\n",
    "    lower_bound=0\n",
    "    upper_bound=len(array)-1\n",
    "    while lower_bound<=upper_bound:\n",
    "        middle=(lower_bound+upper_bound)//2 #integer\n",
    "        if debug:\n",
    "            print(\"Lower Bound\",lower_bound)\n",
    "            print(\"upper Bound\",upper_bound)\n",
    "            print(\"Middle\",middle)\n",
    "        if element==array[middle]:\n",
    "            return \"Your Value is found at middle at index\",middle\n",
    "        elif element<array[middle]: #Lesser condition\n",
    "            #no change in lower bound\n",
    "            upper_bound=middle-1\n",
    "        else:#greater condition\n",
    "            #upper bound remains same\n",
    "            lower_bound=middle+1 \n",
    "    return \"Your element isn't available in the array\"\n",
    "    \n",
    "\n",
    "array=[12,34,45,56,67,89]\n",
    "x1=56\n",
    "x2=57\n",
    "binary_search(array,x1,debug=True)\n",
    "\n",
    "array=[12,34,45,56,56,56,56,56,67,89]\n",
    "x1=56\n",
    "x2=57\n",
    "binary_search(array,x1,debug=True)"
   ]
  },
  {
   "cell_type": "code",
   "execution_count": 31,
   "id": "d3351fd9",
   "metadata": {},
   "outputs": [
    {
     "data": {
      "text/plain": [
       "2"
      ]
     },
     "execution_count": 31,
     "metadata": {},
     "output_type": "execute_result"
    }
   ],
   "source": [
    "def binarySearch(arr, x): \n",
    "    r = len(arr)-1\n",
    "    l = 0\n",
    "    while l <= r:\n",
    "        mid = l + (r - l)//2\n",
    "        if arr[mid] == x:\n",
    "            return mid\n",
    "\n",
    "        elif arr[mid] < x:\n",
    "            l = mid + 1\n",
    "\n",
    "\n",
    "        else:\n",
    "            r = mid - 1\n",
    "\n",
    "    return -1\n",
    "       \n",
    "\n",
    "arr = [2, 3, 4, 10, 40]\n",
    "x = 4\n",
    "\n",
    "binarySearch(arr,x)      "
   ]
  },
  {
   "cell_type": "code",
   "execution_count": 8,
   "id": "e3d96045",
   "metadata": {},
   "outputs": [
    {
     "data": {
      "text/plain": [
       "[0, 1, 2, 4, 4, 5, 7, 9, 14, 18, 18]"
      ]
     },
     "execution_count": 8,
     "metadata": {},
     "output_type": "execute_result"
    }
   ],
   "source": [
    "def selection_sort(arr):\n",
    "    for i in range(len(arr)):\n",
    "        min_index = i\n",
    "        for j in range(i+1,len(arr)):\n",
    "            if arr[j]<arr[min_index]:\n",
    "                min_index = j\n",
    "        arr[i],arr[min_index] = arr[min_index],arr[i]\n",
    "    return arr\n",
    "arr = [1, 7, 14, 0, 9, 4, 18, 18, 2, 4, 5 ]\n",
    "selection_sort(arr)"
   ]
  },
  {
   "cell_type": "code",
   "execution_count": 1,
   "id": "3b23a1cb",
   "metadata": {},
   "outputs": [
    {
     "name": "stdout",
     "output_type": "stream",
     "text": [
      "This is pass - 0\n",
      "The pair is 8 and  5\n",
      "The pair is 8 and  3\n",
      "The pair is 8 and  1\n",
      "This is pass - 1\n",
      "The pair is 5 and  3\n",
      "The pair is 5 and  1\n",
      "This is pass - 2\n",
      "The pair is 3 and  1\n",
      "This is pass - 3\n"
     ]
    },
    {
     "data": {
      "text/plain": [
       "[1, 3, 5, 8]"
      ]
     },
     "execution_count": 1,
     "metadata": {},
     "output_type": "execute_result"
    }
   ],
   "source": [
    "def bubble_sort(a):\n",
    "    for i in range(len(a)):\n",
    "        print(\"This is pass -\",i)\n",
    "        for j in range(len(a)-1):\n",
    "            if a[j]>a[j+1]:\n",
    "                print(\"The pair is\",a[j],\"and \",a[j+1])\n",
    "                a[j],a[j+1]=a[j+1],a[j]\n",
    "    return a\n",
    "\n",
    "bubble_sort([8,5,3,1])"
   ]
  },
  {
   "cell_type": "code",
   "execution_count": 1,
   "id": "48ef1564",
   "metadata": {},
   "outputs": [
    {
     "data": {
      "text/plain": [
       "[1, 3, 4, 5, 7, 9]"
      ]
     },
     "execution_count": 1,
     "metadata": {},
     "output_type": "execute_result"
    }
   ],
   "source": [
    "def bubble_sort(array):\n",
    "    for i in range(len(array)-1):\n",
    "        for j in range(len(array)-1-i):\n",
    "            if array[j]>array[j+1]:\n",
    "                array[j],array[j+1]=array[j+1],array[j]\n",
    "    return array\n",
    "bubble_sort([9,5,7,3,1,4])"
   ]
  },
  {
   "cell_type": "code",
   "execution_count": null,
   "id": "9847c58e",
   "metadata": {},
   "outputs": [],
   "source": []
  },
  {
   "cell_type": "code",
   "execution_count": null,
   "id": "20a00800",
   "metadata": {},
   "outputs": [],
   "source": []
  },
  {
   "cell_type": "code",
   "execution_count": null,
   "id": "3a04e136",
   "metadata": {},
   "outputs": [],
   "source": []
  },
  {
   "cell_type": "code",
   "execution_count": null,
   "id": "1716b63d",
   "metadata": {},
   "outputs": [],
   "source": []
  },
  {
   "cell_type": "code",
   "execution_count": null,
   "id": "b7de1a98",
   "metadata": {},
   "outputs": [],
   "source": []
  },
  {
   "cell_type": "code",
   "execution_count": null,
   "id": "0196b45f",
   "metadata": {},
   "outputs": [],
   "source": []
  },
  {
   "cell_type": "code",
   "execution_count": null,
   "id": "127cf689",
   "metadata": {},
   "outputs": [],
   "source": []
  },
  {
   "cell_type": "code",
   "execution_count": null,
   "id": "2f08491e",
   "metadata": {},
   "outputs": [],
   "source": []
  },
  {
   "cell_type": "code",
   "execution_count": 25,
   "id": "1d1e8d4b",
   "metadata": {},
   "outputs": [
    {
     "data": {
      "text/plain": [
       "'ba'"
      ]
     },
     "execution_count": 25,
     "metadata": {},
     "output_type": "execute_result"
    }
   ],
   "source": [
    "str1 = \"aqwdqwd abwqdqwd bkjfkljrlfjlekrf cewfwef dewfwefw ewdwqd fqsqs gefewf hwefwef iewf jewf kewfwef lwded2e ba\"\n",
    "def count_len(str1):\n",
    "    count = 1000\n",
    "    output = \"\"\n",
    "    str1 = str1.split(\" \")\n",
    "    for i in str1:\n",
    "        if len(i)<count:\n",
    "            count = len(i)\n",
    "            output = i\n",
    "    return output \n",
    "\n",
    "count_len(str1)"
   ]
  },
  {
   "cell_type": "code",
   "execution_count": 41,
   "id": "b899bead",
   "metadata": {},
   "outputs": [
    {
     "name": "stdout",
     "output_type": "stream",
     "text": [
      "[1, 2, 3, 4] [5, 6, 7, 8] [9, 10, 11, 12] \n",
      "[1, 2, 3, 4] [5, 6, 7, 8] [9, 10, 11, 12] \n",
      "[1, 2, 3, 4] [5, 6, 7, 8] [9, 10, 11, 12] \n",
      "[1, 2, 3, 4] [5, 6, 7, 8] [9, 10, 11, 12] \n",
      "[1, 2, 3, 4] [5, 6, 7, 8] [9, 10, 11, 12] \n",
      "[1, 2, 3, 4] [5, 6, 7, 8] [9, 10, 11, 12] \n",
      "[1, 2, 3, 4] [5, 6, 7, 8] [9, 10, 11, 12] \n",
      "[1, 2, 3, 4] [5, 6, 7, 8] [9, 10, 11, 12] \n",
      "[1, 2, 3, 4] [5, 6, 7, 8] [9, 10, 11, 12] \n"
     ]
    }
   ],
   "source": [
    "def print2DArray(mat, rows, cols):\n",
    "    k = rows\n",
    "    for i in range(rows-1) :\n",
    "        for l in range(k-1, -1, -1) :\n",
    "            for j in range(cols-1) :\n",
    "                print(mat[i][j], end = \" \")\n",
    "            print()\n",
    "\n",
    "        k -= 1\n",
    "#main\n",
    "mat = []\n",
    "li = [[1,2,3,4],[5,6,7,8],[9,10,11,12]]\n",
    "rows = len(li[0])\n",
    "cols = len(li[1])\n",
    "for i in range(rows):\n",
    "    row = [[1,2,3,4],[5,6,7,8],[9,10,11,12]]\n",
    "    #[int(elem) for elem in list(input().strip().split())]\n",
    "    mat.append(row)\n",
    "print2DArray(mat, rows, cols)"
   ]
  },
  {
   "cell_type": "code",
   "execution_count": 1,
   "id": "1c923453",
   "metadata": {},
   "outputs": [
    {
     "name": "stdout",
     "output_type": "stream",
     "text": [
      "fq fazlullah bokhari a\n",
      "a\n"
     ]
    }
   ],
   "source": [
    "str = input()\n",
    "min_len = len(str)\n",
    "min_str = str\n",
    "curr_str = \"\"\n",
    "for char in str:\n",
    "    if char ==' ':\n",
    "        if(len(curr_str) < min_len):\n",
    "            min_len = len(curr_str)\n",
    "            min_str = curr_str\n",
    "        curr_str = \"\"\n",
    "    else:\n",
    "        curr_str = curr_str + char\n",
    "if(len(curr_str) < min_len):\n",
    "    min_len = len(curr_str)\n",
    "    min_str = curr_str\n",
    "print(min_str)"
   ]
  },
  {
   "cell_type": "code",
   "execution_count": 4,
   "id": "7cb6f15b",
   "metadata": {},
   "outputs": [
    {
     "name": "stdout",
     "output_type": "stream",
     "text": [
      "5\n",
      "13 17 5 4 6\n",
      "17 6 "
     ]
    }
   ],
   "source": [
    "n = int(input())\n",
    "arr = [int(ele) for ele in input().split()]\n",
    "curr_max = arr[n-1]\n",
    "ans = [arr[n-1]]\n",
    "for i in range(n-2,-1,-1):\n",
    "    if arr[i] >= curr_max:\n",
    "        ans.append(arr[i])\n",
    "        curr_max = arr[i]\n",
    "\n",
    "for i in range(len(ans)-1,-1,-1):\n",
    "    print(ans[i],end= ' ')\n"
   ]
  },
  {
   "cell_type": "code",
   "execution_count": null,
   "id": "83ac5310",
   "metadata": {},
   "outputs": [],
   "source": []
  }
 ],
 "metadata": {
  "kernelspec": {
   "display_name": "Python 3",
   "language": "python",
   "name": "python3"
  },
  "language_info": {
   "codemirror_mode": {
    "name": "ipython",
    "version": 3
   },
   "file_extension": ".py",
   "mimetype": "text/x-python",
   "name": "python",
   "nbconvert_exporter": "python",
   "pygments_lexer": "ipython3",
   "version": "3.8.8"
  }
 },
 "nbformat": 4,
 "nbformat_minor": 5
}
