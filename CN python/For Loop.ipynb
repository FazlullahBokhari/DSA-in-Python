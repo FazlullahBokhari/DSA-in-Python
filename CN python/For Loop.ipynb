{
 "cells": [
  {
   "cell_type": "code",
   "execution_count": 1,
   "id": "76fc90f7",
   "metadata": {},
   "outputs": [
    {
     "name": "stdout",
     "output_type": "stream",
     "text": [
      "5\n",
      "0 1 2 3 4 5 "
     ]
    }
   ],
   "source": [
    "n = int(input())\n",
    "\n",
    "for i in range(0,n+1):\n",
    "    print(i, end=\" \")"
   ]
  },
  {
   "cell_type": "code",
   "execution_count": 4,
   "id": "51596c82",
   "metadata": {},
   "outputs": [
    {
     "name": "stdout",
     "output_type": "stream",
     "text": [
      "80\n",
      "80 78 76 74 72 70 68 66 64 62 60 58 56 54 52 50 48 46 44 42 "
     ]
    }
   ],
   "source": [
    "n = int(input())\n",
    "for i in range(n,n//2,-2):\n",
    "    print(i,end=\" \")"
   ]
  },
  {
   "cell_type": "code",
   "execution_count": 8,
   "id": "f96df6dc",
   "metadata": {},
   "outputs": [
    {
     "name": "stdout",
     "output_type": "stream",
     "text": [
      "7\n",
      "True\n"
     ]
    }
   ],
   "source": [
    "n = int(input())\n",
    "for i in range(2,n):\n",
    "    if n%i == 0:\n",
    "        print(False)\n",
    "        break\n",
    "    else:\n",
    "        print(True)\n",
    "        break"
   ]
  },
  {
   "cell_type": "code",
   "execution_count": 33,
   "id": "4d297fc0",
   "metadata": {},
   "outputs": [
    {
     "name": "stdout",
     "output_type": "stream",
     "text": [
      "4\n",
      "   1\n",
      "  232\n",
      " 34543\n",
      "4567654\n"
     ]
    }
   ],
   "source": [
    "n = int(input())\n",
    "\n",
    "for i in range(1,n+1):\n",
    "    for k in range(n-i):\n",
    "        print(\" \",end=\"\")\n",
    "    for j in range(i):\n",
    "        print(i+j,end=\"\")\n",
    "    for r in range(i-1):\n",
    "        print(i-r+j-1,end=\"\")\n",
    "    print()"
   ]
  },
  {
   "cell_type": "code",
   "execution_count": 35,
   "id": "c25e7cc0",
   "metadata": {},
   "outputs": [
    {
     "name": "stdout",
     "output_type": "stream",
     "text": [
      "4\n",
      "   1\n",
      "  232\n",
      " 34543\n",
      "4567654\n"
     ]
    }
   ],
   "source": [
    "n = int(input())\n",
    "\n",
    "for i in range(1,n+1):\n",
    "    for k in range(n-i):\n",
    "        print(\" \",end=\"\")\n",
    "    for j in range(i,2*i):\n",
    "        print(j,end=\"\")\n",
    "    for r in range(2*i-2,i-1,-1):\n",
    "        print(r,end=\"\")\n",
    "    print()"
   ]
  },
  {
   "cell_type": "code",
   "execution_count": 43,
   "id": "4338d566",
   "metadata": {},
   "outputs": [
    {
     "name": "stdout",
     "output_type": "stream",
     "text": [
      "10\n",
      "2\n",
      "3\n",
      "5\n",
      "7\n"
     ]
    }
   ],
   "source": [
    "n = int(input())\n",
    "k = 2\n",
    "while k<=n:\n",
    "    d = 2\n",
    "    flag = False\n",
    "    while d<k:\n",
    "        if k%d == 0:\n",
    "            flag = True \n",
    "            break\n",
    "        d = d + 1\n",
    "    if not flag:\n",
    "        print(k)\n",
    "    k = k + 1"
   ]
  },
  {
   "cell_type": "code",
   "execution_count": 44,
   "id": "2b011056",
   "metadata": {},
   "outputs": [
    {
     "name": "stdout",
     "output_type": "stream",
     "text": [
      "4\n",
      "0\n",
      "1\n",
      "2\n",
      "3\n",
      "this will also be printed at the end\n"
     ]
    }
   ],
   "source": [
    "n = int(input())\n",
    "for i in range(n):\n",
    "    print(i)\n",
    "else:\n",
    "    print(\"this will also be printed at the end\")"
   ]
  },
  {
   "cell_type": "code",
   "execution_count": 47,
   "id": "62ea6422",
   "metadata": {},
   "outputs": [
    {
     "name": "stdout",
     "output_type": "stream",
     "text": [
      "5\n",
      "0\n",
      "1\n",
      "2\n",
      "3\n",
      "else loop will not run because of break, which is reposible to terminate this loop\n"
     ]
    }
   ],
   "source": [
    "n = int(input())\n",
    "for i in range(n):\n",
    "    if i == 4:\n",
    "        print(\"else loop will not run because of break, which is reposible to terminate this loop\")\n",
    "        break\n",
    "    print(i)\n",
    "else:\n",
    "    print(\"this will also be printed at the end\")"
   ]
  },
  {
   "cell_type": "code",
   "execution_count": 45,
   "id": "98511153",
   "metadata": {},
   "outputs": [
    {
     "name": "stdout",
     "output_type": "stream",
     "text": [
      "4\n",
      "0\n",
      "1\n",
      "2\n",
      "3\n",
      "4\n",
      "this will also be printed at the end\n"
     ]
    }
   ],
   "source": [
    "n = int(input())\n",
    "i = 0\n",
    "while i<=n:\n",
    "    print(i)\n",
    "    i = i + 1 \n",
    "else:\n",
    "    print(\"this will also be printed at the end\")\n",
    "    "
   ]
  },
  {
   "cell_type": "code",
   "execution_count": 48,
   "id": "ef561eff",
   "metadata": {},
   "outputs": [
    {
     "name": "stdout",
     "output_type": "stream",
     "text": [
      "6\n",
      "0\n",
      "1\n",
      "2\n",
      "3\n",
      "else loop will not run because of break, which is reposible to terminate this loop\n"
     ]
    }
   ],
   "source": [
    "n = int(input())\n",
    "i = 0\n",
    "while i<=n:\n",
    "    if i == 4:\n",
    "        print(\"else loop will not run because of break, which is reposible to terminate this loop\")\n",
    "        break\n",
    "    print(i)\n",
    "    i = i + 1 \n",
    "else:\n",
    "    print(\"this will also be printed at the end\")\n",
    "    "
   ]
  },
  {
   "cell_type": "code",
   "execution_count": 51,
   "id": "5b6399ca",
   "metadata": {},
   "outputs": [
    {
     "name": "stdout",
     "output_type": "stream",
     "text": [
      "1 2 4 5 1 2 4 5 "
     ]
    }
   ],
   "source": [
    "i=1\n",
    "while i<3:\n",
    "    j=0\n",
    "    while j<5:\n",
    "        j = j +1\n",
    "        if j==3:\n",
    "            continue\n",
    "        print(j,end=\" \")\n",
    "    i = i +1"
   ]
  },
  {
   "cell_type": "raw",
   "id": "774af65e",
   "metadata": {},
   "source": [
    "Pattern for N = 4\n",
    "1111\n",
    "000\n",
    "11\n",
    "0"
   ]
  },
  {
   "cell_type": "code",
   "execution_count": 67,
   "id": "f5e1633c",
   "metadata": {},
   "outputs": [
    {
     "name": "stdout",
     "output_type": "stream",
     "text": [
      "4\n",
      "1111\n",
      "000\n",
      "11\n",
      "0\n"
     ]
    }
   ],
   "source": [
    "n = int(input())\n",
    "for i in range(1,n+1):\n",
    "    for j in range(1,n-i+2):\n",
    "        if i%2 != 0:\n",
    "            print(1,end=\"\")\n",
    "        else:\n",
    "            print(0,end=\"\")\n",
    "    print()"
   ]
  },
  {
   "cell_type": "raw",
   "id": "70e87c29",
   "metadata": {},
   "source": [
    "For eg. N = 6\n",
    "123456\n",
    "  23456\n",
    "    3456\n",
    "      456\n",
    "        56\n",
    "          6\n",
    "        56\n",
    "      456\n",
    "    3456\n",
    "  23456\n",
    "123456"
   ]
  },
  {
   "cell_type": "code",
   "execution_count": 140,
   "id": "7be9c83d",
   "metadata": {},
   "outputs": [
    {
     "name": "stdout",
     "output_type": "stream",
     "text": [
      "6\n",
      "123456\n",
      " 23456\n",
      "  3456\n",
      "   456\n",
      "    56\n",
      "     6\n",
      "    56\n",
      "   456\n",
      "  3456\n",
      " 23456\n",
      "123456\n"
     ]
    }
   ],
   "source": [
    "## Read input as specified in the question.\n",
    "## Print output as specified in the question.\n",
    "n=int(input())\n",
    "for i in range(n,0,-1):\n",
    "    for j in range(n-i):\n",
    "        print(\" \",end=\"\")\n",
    "    for k in range(1,i+1):\n",
    "        print(n-i+k,end=\"\")\n",
    "    print()\n",
    "for i in range(2,n+1):\n",
    "    for j in range(1,n-i+1):\n",
    "        print(\" \",end=\"\")\n",
    "    for k in range(1,i+1):\n",
    "        print(k+n-i,end=\"\")\n",
    "    print()"
   ]
  },
  {
   "cell_type": "code",
   "execution_count": 137,
   "id": "3d586374",
   "metadata": {},
   "outputs": [
    {
     "name": "stdout",
     "output_type": "stream",
     "text": [
      "6\n",
      "    65\n",
      "   654\n",
      "  6543\n",
      " 65432\n",
      "654321\n"
     ]
    }
   ],
   "source": [
    "n=int(input())\n",
    "for i in range(2,n+1):\n",
    "    for j in range(1,n-i+1):\n",
    "        print(\" \",end=\"\")\n",
    "    for k in range(1,i+1):\n",
    "        print(n-k+1,end=\"\")\n",
    "    print()"
   ]
  },
  {
   "cell_type": "code",
   "execution_count": 106,
   "id": "e8fd62ab",
   "metadata": {},
   "outputs": [
    {
     "name": "stdout",
     "output_type": "stream",
     "text": [
      "6\n",
      "123456\n",
      " 23456\n",
      "  3456\n",
      "   456\n",
      "    56\n",
      "     6\n",
      "    56\n",
      "   456\n",
      "  3456\n",
      " 23456\n",
      "123456\n"
     ]
    }
   ],
   "source": [
    "num=int(input())\n",
    "i=0\n",
    "while num>i:\n",
    "    spaces=1\n",
    "    while spaces<=i:\n",
    "        print(\" \",end=\"\")\n",
    "        spaces=spaces+1\n",
    "    j=1\n",
    "    while num-i >=j:\n",
    "        print(j+i,end=\"\")\n",
    "        j=j+1\n",
    "    i=i+1\n",
    "    print()\n",
    "while i>1:\n",
    "    spaces=1\n",
    "    while spaces<=i-2:\n",
    "        print(\" \",end=\"\")\n",
    "        spaces=spaces+1\n",
    "    j=num\n",
    "    k=1\n",
    "    while j>=i-1:\n",
    "        print(i+k-2,end=\"\")\n",
    "        j=j-1\n",
    "        k=k+1\n",
    "\n",
    "    i=i-1\n",
    "    print()"
   ]
  },
  {
   "cell_type": "raw",
   "id": "a5ff6c8e",
   "metadata": {},
   "source": [
    "Pattern for N = 5\n",
    "\n",
    "  *\n",
    " ***\n",
    "*****\n",
    " ***\n",
    "  *"
   ]
  },
  {
   "cell_type": "code",
   "execution_count": 19,
   "id": "ff8efe40",
   "metadata": {},
   "outputs": [
    {
     "name": "stdout",
     "output_type": "stream",
     "text": [
      "5\n",
      "  *\n",
      " ***\n",
      "*****\n",
      " ***\n",
      "  *\n"
     ]
    }
   ],
   "source": [
    "n = int(input())\n",
    "n1 = int((n+1)/2)\n",
    "n2 = n1-1\n",
    "for i in range(1,n1+1):\n",
    "    for k in range(1,n1-i+1):\n",
    "        print(\" \",end=\"\")\n",
    "    for j in range(1, 2*i):\n",
    "        print(\"*\",end=\"\")\n",
    "    print()\n",
    "for i in range(n2,0,-1):\n",
    "    for j in range(n2-i+1,0,-1):\n",
    "        print(\" \",end=\"\")\n",
    "    for k in range(2*i-1,0,-1):\n",
    "        print(\"*\",end=\"\")\n",
    "    print()"
   ]
  },
  {
   "cell_type": "code",
   "execution_count": 14,
   "id": "cd5fd430",
   "metadata": {},
   "outputs": [
    {
     "name": "stdout",
     "output_type": "stream",
     "text": [
      "5\n",
      "  *\n",
      " ***\n",
      "*****\n",
      " ***\n",
      "  *\n"
     ]
    }
   ],
   "source": [
    "n = int(input())\n",
    "n1 = int((n+1)/2)\n",
    "n2 = n1-1\n",
    "i = 1\n",
    "while i<=n1:\n",
    "    k = 1\n",
    "    while k<=n1-i:\n",
    "        print(\" \",end=\"\")\n",
    "        k +=1\n",
    "    j = 1\n",
    "    while j<=2*i-1:\n",
    "        print(\"*\",end=\"\")\n",
    "        j +=1\n",
    "    print()\n",
    "    i = i + 1\n",
    "q = n2\n",
    "while q>=1:\n",
    "    r = n2-q+1\n",
    "    while r>=1:\n",
    "        print(\" \",end=\"\")\n",
    "        r = r - 1\n",
    "    s = 2*q-1\n",
    "    while s>=1:\n",
    "        print(\"*\",end=\"\")\n",
    "        s -= 1\n",
    "    print()    \n",
    "    q = q - 1"
   ]
  },
  {
   "cell_type": "raw",
   "id": "7be822b5",
   "metadata": {},
   "source": [
    "Pattern for N = 4\n",
    "4444444\n",
    "4333334\n",
    "4322234\n",
    "4321234\n",
    "4322234\n",
    "4333334  \n",
    "4444444"
   ]
  },
  {
   "cell_type": "code",
   "execution_count": null,
   "id": "ed73d0cb",
   "metadata": {},
   "outputs": [],
   "source": [
    "n = int(input())\n",
    "for i in range(1,n+1):\n",
    "    temp = n\n",
    "    for j in range(1,i):\n",
    "        print(temp,end=\"\")\n",
    "        temp = temp -1\n",
    "    for j in range(1,(2*n) - (2*i) + 2):\n",
    "        print(n-i+1,end=\"\")\n",
    "    for j in range(1,i):\n",
    "        temp = temp+1\n",
    "        print(temp,end=\"\")\n",
    "    print()\n",
    "for i in range(n-1,0,-1):\n",
    "    temp = n\n",
    "    for j in range(1,i):\n",
    "        print(temp,end=\"\")\n",
    "        temp = temp - 1\n",
    "    for j in range(1,(2*n) - (2*i) + 2):\n",
    "        print(n-i+1,end=\"\")\n",
    " for j in range(1,i):\n",
    " temp = temp+1\n",
    " print(temp,end=\"\")\n",
    " print()\n",
    "# In[ "
   ]
  },
  {
   "cell_type": "code",
   "execution_count": 32,
   "id": "54e29f7f",
   "metadata": {},
   "outputs": [
    {
     "name": "stdout",
     "output_type": "stream",
     "text": [
      "4\n",
      "4444444\n",
      "4333334\n",
      "4322234\n",
      "4321234\n",
      "4322234\n",
      "4333334\n",
      "4444444\n"
     ]
    }
   ],
   "source": [
    "n=int(input())\n",
    "answer=[['1']]\n",
    "for i in range(2, n+1):\n",
    "    #print(\"i= \"+str(i))\n",
    "    t=[str(i)]*((2*i)-3)\n",
    "    t2=[str(i)]*((2*i)-3)\n",
    "    answer.insert(0, t2)\n",
    "    answer.append(t)\n",
    "    for a in answer:\n",
    "        a.insert(0,str(i))\n",
    "        a.append(str(i))\n",
    "\n",
    "answerfinal=[]\n",
    "for a in answer:\n",
    "    answerfinal.append(\"\".join(a))\n",
    "for a in answerfinal:\n",
    "    print(a)"
   ]
  },
  {
   "cell_type": "code",
   "execution_count": 31,
   "id": "61c54904",
   "metadata": {},
   "outputs": [
    {
     "name": "stdout",
     "output_type": "stream",
     "text": [
      "3\n",
      "33333\n",
      "32223\n",
      "32123\n",
      "32223\n",
      "33333\n"
     ]
    }
   ],
   "source": [
    "n=int(input())\n",
    "answer=[['1']]\n",
    "for i in range(2, n+1):\n",
    "    #print(\"i= \"+str(i))\n",
    "    t=[str(i)]*((2*i)-3)\n",
    "    t2=[str(i)]*((2*i)-3)\n",
    "    answer.insert(0, t2)\n",
    "    answer.append(t)\n",
    "    for a in answer:\n",
    "        a.insert(0,str(i))\n",
    "        a.append(str(i))\n",
    "\n",
    "answerfinal=[]\n",
    "for a in answer:\n",
    "    answerfinal.append(\"\".join(a))\n",
    "for a in answerfinal:\n",
    "    print(a)"
   ]
  },
  {
   "cell_type": "code",
   "execution_count": null,
   "id": "0a55a002",
   "metadata": {},
   "outputs": [],
   "source": []
  }
 ],
 "metadata": {
  "kernelspec": {
   "display_name": "Python 3",
   "language": "python",
   "name": "python3"
  },
  "language_info": {
   "codemirror_mode": {
    "name": "ipython",
    "version": 3
   },
   "file_extension": ".py",
   "mimetype": "text/x-python",
   "name": "python",
   "nbconvert_exporter": "python",
   "pygments_lexer": "ipython3",
   "version": "3.8.8"
  }
 },
 "nbformat": 4,
 "nbformat_minor": 5
}
