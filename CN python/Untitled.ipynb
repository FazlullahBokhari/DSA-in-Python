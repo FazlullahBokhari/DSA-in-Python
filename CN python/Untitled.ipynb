{
 "cells": [
  {
   "cell_type": "code",
   "execution_count": 5,
   "id": "bef3dd7e",
   "metadata": {},
   "outputs": [
    {
     "name": "stdout",
     "output_type": "stream",
     "text": [
      "3\n",
      "3\n",
      "1\n",
      "3  is largest.\n"
     ]
    }
   ],
   "source": [
    "a = int(input())\n",
    "b = int(input())\n",
    "c = int(input())\n",
    "\n",
    "if a >= b and a >= c:\n",
    "    print(a, \" is largest.\")\n",
    "elif b >= a and b >= c:\n",
    "    print(b, \" is largest.\")\n",
    "else:\n",
    "    print(c, \" is largest.\")"
   ]
  },
  {
   "cell_type": "code",
   "execution_count": 10,
   "id": "252f8c9e",
   "metadata": {},
   "outputs": [
    {
     "name": "stdout",
     "output_type": "stream",
     "text": [
      "8\n",
      "green\n"
     ]
    }
   ],
   "source": [
    "n = int(input())\n",
    "\n",
    "if n > 10:\n",
    "    print(\"red\")\n",
    "elif n>=5:\n",
    "    print(\"green\")\n",
    "elif n >0:\n",
    "    print(\"yellow\")\n",
    "elif n<0:\n",
    "    print(\"do it again\")"
   ]
  },
  {
   "cell_type": "code",
   "execution_count": 11,
   "id": "eebb2961",
   "metadata": {},
   "outputs": [
    {
     "name": "stdout",
     "output_type": "stream",
     "text": [
      "B\n"
     ]
    }
   ],
   "source": [
    "if True or True:\n",
    "    if False and True or False:\n",
    "        print('A')\n",
    "    elif False and False or True and True:\n",
    "       print('B')\n",
    "    else:\n",
    "      print('C')\n",
    "else:\n",
    "     print('D')\n"
   ]
  },
  {
   "cell_type": "code",
   "execution_count": 13,
   "id": "ed630930",
   "metadata": {},
   "outputs": [
    {
     "name": "stdout",
     "output_type": "stream",
     "text": [
      "10\n",
      "1\n",
      "2\n",
      "3\n",
      "4\n",
      "5\n",
      "6\n",
      "7\n",
      "8\n",
      "9\n",
      "10\n"
     ]
    }
   ],
   "source": [
    "n = int(input())\n",
    "count = 1\n",
    "\n",
    "while count<=n:\n",
    "    print(count)\n",
    "    count += 1"
   ]
  },
  {
   "cell_type": "code",
   "execution_count": 14,
   "id": "812ca910",
   "metadata": {},
   "outputs": [
    {
     "name": "stdout",
     "output_type": "stream",
     "text": [
      "10\n",
      "55\n"
     ]
    }
   ],
   "source": [
    "# Read input as sepcified in the question\n",
    "# Print output as specified in the question\n",
    "\n",
    "n = int(input())\n",
    "\n",
    "count = 1\n",
    "sum = 0\n",
    "\n",
    "while count<=n:\n",
    "    sum += count\n",
    "    count += 1\n",
    "print(sum)    \n",
    "    \n"
   ]
  },
  {
   "cell_type": "code",
   "execution_count": 18,
   "id": "e71040c9",
   "metadata": {},
   "outputs": [
    {
     "name": "stdout",
     "output_type": "stream",
     "text": [
      "10\n",
      "not prime\n"
     ]
    }
   ],
   "source": [
    "n = int(input())\n",
    "\n",
    "d = 2\n",
    "flag = False\n",
    "while d<n:\n",
    "    \n",
    "    if n%d==0:\n",
    "        flag = True\n",
    "        break\n",
    "    d += 1\n",
    "if flag:\n",
    "    print(\"not prime\")    \n",
    "else:\n",
    "    print(\"prime\")"
   ]
  },
  {
   "cell_type": "code",
   "execution_count": 20,
   "id": "cbcb1f81",
   "metadata": {},
   "outputs": [
    {
     "name": "stdout",
     "output_type": "stream",
     "text": [
      "0\n",
      "1\n",
      "2\n",
      "3\n",
      "4\n",
      "5\n",
      "6\n",
      "7\n",
      "8\n",
      "9\n"
     ]
    }
   ],
   "source": [
    "i=0\n",
    "while i<10:\n",
    "    print(i)\n",
    "    i = i+1"
   ]
  },
  {
   "cell_type": "code",
   "execution_count": 21,
   "id": "2deee72f",
   "metadata": {},
   "outputs": [
    {
     "name": "stdout",
     "output_type": "stream",
     "text": [
      "10\n",
      "2\n",
      "3\n",
      "5\n",
      "7\n"
     ]
    }
   ],
   "source": [
    "n = int(input())\n",
    "\n",
    "k = 2\n",
    "\n",
    "while k<=n:\n",
    "    d = 2\n",
    "    flag = False\n",
    "    while d<k:\n",
    "        if k%d==0:\n",
    "            flag = True\n",
    "        d = d + 1\n",
    "    if not flag:\n",
    "        print(k)\n",
    "    k = k + 1    "
   ]
  },
  {
   "cell_type": "code",
   "execution_count": 25,
   "id": "6b8aa245",
   "metadata": {},
   "outputs": [
    {
     "name": "stdout",
     "output_type": "stream",
     "text": [
      "0\n",
      "100\n",
      "20\n",
      "0 -17\n",
      "20 -6\n",
      "40 4\n",
      "60 15\n",
      "80 26\n",
      "100 37\n"
     ]
    }
   ],
   "source": [
    "s = int(input())\n",
    "e = int(input())\n",
    "w = int(input())\n",
    "\n",
    "while s<=e:\n",
    "    c = int((s-32)/1.8)\n",
    "    print(s,c)\n",
    "    s = s + w"
   ]
  },
  {
   "cell_type": "raw",
   "id": "258294fd",
   "metadata": {},
   "source": [
    "n=5\n",
    "5432*\n",
    "543*1\n",
    "54*21\n",
    "5*321\n",
    "*4321"
   ]
  },
  {
   "cell_type": "code",
   "execution_count": 8,
   "id": "0c914ed7",
   "metadata": {},
   "outputs": [
    {
     "name": "stdout",
     "output_type": "stream",
     "text": [
      "5\n",
      "5432*\n",
      "543*1\n",
      "54*21\n",
      "5*321\n",
      "*4321\n"
     ]
    }
   ],
   "source": [
    "n = int(input())\n",
    "\n",
    "i=1  \n",
    "while(i<=n):\n",
    "    j=n\n",
    "    while (j>=1):\n",
    "        if j!=i:  \n",
    "            print(j, end='', flush=True)  \n",
    "        else:  \n",
    "            print('*', end='', flush=True)  \n",
    "        j=j-1  \n",
    "    print(\"\")  \n",
    "    i=i+1"
   ]
  },
  {
   "cell_type": "raw",
   "id": "e58a01f6",
   "metadata": {},
   "source": [
    "n=5\n",
    "*0000*0000*\n",
    "0*000*000*0\n",
    "00*00*00*00\n",
    "000*0*0*000\n",
    "0000***0000"
   ]
  },
  {
   "cell_type": "code",
   "execution_count": 9,
   "id": "e52f99cd",
   "metadata": {},
   "outputs": [
    {
     "name": "stdout",
     "output_type": "stream",
     "text": [
      "5\n",
      "*0000*0000*\n",
      "0*000*000*0\n",
      "00*00*00*00\n",
      "000*0*0*000\n",
      "0000***0000\n"
     ]
    }
   ],
   "source": [
    "n = int(input())\n",
    "i = 1\n",
    "j = 1\n",
    "while i<=n:\n",
    "    j = 1\n",
    "    while j<=n:\n",
    "        if j == i:\n",
    "            print(\"*\",end=\"\")\n",
    "        else:\n",
    "            print(0,end=\"\")\n",
    "        j = j + 1\n",
    "    j = j - 1\n",
    "    print(\"*\",end=\"\")\n",
    "    while j>=1:\n",
    "        if j == i:\n",
    "            print(\"*\",end=\"\")\n",
    "        else:\n",
    "            print(0,end=\"\")\n",
    "        j = j - 1\n",
    "    print()\n",
    "    i = i + 1"
   ]
  },
  {
   "cell_type": "code",
   "execution_count": null,
   "id": "3fd0584a",
   "metadata": {},
   "outputs": [],
   "source": []
  }
 ],
 "metadata": {
  "kernelspec": {
   "display_name": "Python 3",
   "language": "python",
   "name": "python3"
  },
  "language_info": {
   "codemirror_mode": {
    "name": "ipython",
    "version": 3
   },
   "file_extension": ".py",
   "mimetype": "text/x-python",
   "name": "python",
   "nbconvert_exporter": "python",
   "pygments_lexer": "ipython3",
   "version": "3.8.8"
  }
 },
 "nbformat": 4,
 "nbformat_minor": 5
}
