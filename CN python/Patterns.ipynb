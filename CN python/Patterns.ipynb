{
 "cells": [
  {
   "cell_type": "code",
   "execution_count": 3,
   "id": "1f403302",
   "metadata": {},
   "outputs": [
    {
     "name": "stdout",
     "output_type": "stream",
     "text": [
      "5\n",
      "* * * * * \n",
      "* * * * * \n",
      "* * * * * \n",
      "* * * * * \n",
      "* * * * * \n"
     ]
    }
   ],
   "source": [
    "n = int(input())\n",
    "i = 1\n",
    "\n",
    "while i<=n:\n",
    "    j = 1\n",
    "    while j <= n:\n",
    "        print(\"*\",end=\" \")\n",
    "        j = j+1\n",
    "    print()    \n",
    "    i = i+1"
   ]
  },
  {
   "cell_type": "code",
   "execution_count": 6,
   "id": "5481c65b",
   "metadata": {},
   "outputs": [
    {
     "name": "stdout",
     "output_type": "stream",
     "text": [
      "5\n",
      "55555\n",
      "55555\n",
      "55555\n",
      "55555\n",
      "55555\n"
     ]
    }
   ],
   "source": [
    "## Read input as specified in the question\n",
    "## Print the required output in given format\n",
    "n = int(input())\n",
    "\n",
    "i = 1\n",
    "while i<=n:\n",
    "    j = 1\n",
    "    while j<=n:\n",
    "        print(n,end=\"\")\n",
    "        j = j + 1\n",
    "    print()\n",
    "    i = i+1"
   ]
  },
  {
   "cell_type": "code",
   "execution_count": 8,
   "id": "4ca6ae2b",
   "metadata": {},
   "outputs": [
    {
     "name": "stdout",
     "output_type": "stream",
     "text": [
      "4\n",
      "1111\n",
      "2222\n",
      "3333\n",
      "4444\n"
     ]
    }
   ],
   "source": [
    "## Read input as specified in the question\n",
    "## Print the required output in given format\n",
    "n = int(input())\n",
    "\n",
    "i = 1\n",
    "while i<=n:\n",
    "    j = 1\n",
    "    while j<=n:\n",
    "        print(i,end=\"\")\n",
    "        j = j + 1\n",
    "    print()\n",
    "    i = i+1"
   ]
  },
  {
   "cell_type": "code",
   "execution_count": 7,
   "id": "b5d0eeb8",
   "metadata": {},
   "outputs": [
    {
     "name": "stdout",
     "output_type": "stream",
     "text": [
      "4\n",
      "1234\n",
      "1234\n",
      "1234\n",
      "1234\n"
     ]
    }
   ],
   "source": [
    "## Read input as specified in the question\n",
    "## Print the required output in given format\n",
    "n = int(input())\n",
    "\n",
    "i = 1\n",
    "while i<=n:\n",
    "    j = 1\n",
    "    while j<=n:\n",
    "        print(j,end=\"\")\n",
    "        j = j + 1\n",
    "    print()\n",
    "    i = i+1"
   ]
  },
  {
   "cell_type": "code",
   "execution_count": 14,
   "id": "95b56eac",
   "metadata": {},
   "outputs": [
    {
     "name": "stdout",
     "output_type": "stream",
     "text": [
      "4\n",
      "4321\n",
      "4321\n",
      "4321\n",
      "4321\n"
     ]
    }
   ],
   "source": [
    "## Read input as specified in the question\n",
    "## Print the required output in given format\n",
    "n = int(input())\n",
    "\n",
    "i = 1\n",
    "while i<=n:\n",
    "    j = 1\n",
    "    while j<=n:\n",
    "        print(n-j+1,end=\"\")\n",
    "        j = j + 1\n",
    "    print()\n",
    "    i = i+1"
   ]
  },
  {
   "cell_type": "code",
   "execution_count": 15,
   "id": "1b5e1d4f",
   "metadata": {},
   "outputs": [
    {
     "name": "stdout",
     "output_type": "stream",
     "text": [
      "4\n",
      "1\n",
      "12\n",
      "123\n",
      "1234\n"
     ]
    }
   ],
   "source": [
    "## Read input as specified in the question\n",
    "## Print the required output in given format\n",
    "n = int(input())\n",
    "\n",
    "i = 1\n",
    "while i<=n:\n",
    "    j = 1\n",
    "    while j<=i:\n",
    "        print(j,end=\"\")\n",
    "        j = j + 1\n",
    "    print()\n",
    "    i = i+1"
   ]
  },
  {
   "cell_type": "code",
   "execution_count": 18,
   "id": "a47fca1f",
   "metadata": {},
   "outputs": [
    {
     "name": "stdout",
     "output_type": "stream",
     "text": [
      "4\n",
      "1\n",
      "23\n",
      "345\n",
      "4567\n"
     ]
    }
   ],
   "source": [
    "## Read input as specified in the question\n",
    "## Print the required output in given format\n",
    "n = int(input())\n",
    "\n",
    "i = 1\n",
    "while i<=n:\n",
    "    j = 1\n",
    "    while j<=i:\n",
    "        print(i+j-1,end=\"\")\n",
    "        j = j + 1\n",
    "    print()\n",
    "    i = i+1"
   ]
  },
  {
   "cell_type": "code",
   "execution_count": 21,
   "id": "16ceddfb",
   "metadata": {},
   "outputs": [
    {
     "name": "stdout",
     "output_type": "stream",
     "text": [
      "4\n",
      "1\n",
      "23\n",
      "345\n",
      "4567\n"
     ]
    }
   ],
   "source": [
    "## Read input as specified in the question\n",
    "## Print the required output in given format\n",
    "n = int(input())\n",
    "\n",
    "i = 1\n",
    "while i<=n:\n",
    "    j = 1\n",
    "    p = i\n",
    "    while j<=i:\n",
    "        print(p,end=\"\")\n",
    "        j = j + 1\n",
    "        p = p+1\n",
    "    print()\n",
    "    i = i+1"
   ]
  },
  {
   "cell_type": "code",
   "execution_count": 23,
   "id": "f668cb42",
   "metadata": {},
   "outputs": [
    {
     "name": "stdout",
     "output_type": "stream",
     "text": [
      "4\n",
      "1\n",
      "23\n",
      "456\n",
      "78910\n"
     ]
    }
   ],
   "source": [
    "## Read input as specified in the question\n",
    "## Print the required output in given format\n",
    "n = int(input())\n",
    "\n",
    "i = 1\n",
    "p = 1\n",
    "while i<=n:\n",
    "    j = 1\n",
    "    while j<=i:\n",
    "        print(p,end=\"\")\n",
    "        j = j + 1\n",
    "        p = p+1\n",
    "    print()\n",
    "    i = i+1"
   ]
  },
  {
   "cell_type": "code",
   "execution_count": 30,
   "id": "08c6dbe7",
   "metadata": {},
   "outputs": [
    {
     "name": "stdout",
     "output_type": "stream",
     "text": [
      "4\n",
      "1\n",
      "21\n",
      "321\n",
      "4321\n"
     ]
    }
   ],
   "source": [
    "## Read input as specified in the question\n",
    "## Print the required output in given format\n",
    "n = int(input())\n",
    "\n",
    "i = 1\n",
    "\n",
    "while i<=n:\n",
    "    j = 1\n",
    "    while j<=i:\n",
    "        print(i-j+1,end=\"\")\n",
    "        j = j + 1\n",
    "    print()\n",
    "    i = i + 1"
   ]
  },
  {
   "cell_type": "code",
   "execution_count": 35,
   "id": "264425cf",
   "metadata": {},
   "outputs": [
    {
     "name": "stdout",
     "output_type": "stream",
     "text": [
      "4\n",
      "ABCD\n",
      "ABCD\n",
      "ABCD\n",
      "ABCD\n"
     ]
    }
   ],
   "source": [
    "## Read input as specified in the question\n",
    "## Print the required output in given format\n",
    "n = int(input())\n",
    "\n",
    "i = 1\n",
    "\n",
    "while i<=n:\n",
    "    j = 1\n",
    "    while j<=n:\n",
    "        print(chr(65+j-1),end=\"\")\n",
    "        j = j + 1\n",
    "    print()\n",
    "    i = i + 1"
   ]
  },
  {
   "cell_type": "code",
   "execution_count": 36,
   "id": "2c167c9f",
   "metadata": {},
   "outputs": [
    {
     "name": "stdout",
     "output_type": "stream",
     "text": [
      "4\n"
     ]
    },
    {
     "data": {
      "text/plain": [
       "'D'"
      ]
     },
     "execution_count": 36,
     "metadata": {},
     "output_type": "execute_result"
    }
   ],
   "source": [
    "k = int(input())\n",
    "x = ord(\"A\")\n",
    "asciiTarget = x + k - 1\n",
    "targetChar = chr(asciiTarget)\n",
    "targetChar"
   ]
  },
  {
   "cell_type": "code",
   "execution_count": 42,
   "id": "16400aea",
   "metadata": {},
   "outputs": [
    {
     "name": "stdout",
     "output_type": "stream",
     "text": [
      "4\n",
      "ABCD\n",
      "BCDE\n",
      "CDEF\n",
      "DEFG\n"
     ]
    }
   ],
   "source": [
    "## Read input as specified in the question\n",
    "## Print the required output in given format\n",
    "n = int(input())\n",
    "\n",
    "i = 1\n",
    "\n",
    "while i<=n:\n",
    "    j = 1\n",
    "    start_chr = ord('A') + i - 1\n",
    "    while j<=n:\n",
    "        charP = chr(start_chr+j-1)\n",
    "        print(charP,end=\"\")\n",
    "        j = j + 1\n",
    "    print()\n",
    "    i = i + 1"
   ]
  },
  {
   "cell_type": "code",
   "execution_count": 43,
   "id": "c3ee5127",
   "metadata": {},
   "outputs": [
    {
     "name": "stdout",
     "output_type": "stream",
     "text": [
      "4\n",
      "A\n",
      "BC\n",
      "CDE\n",
      "DEFG\n"
     ]
    }
   ],
   "source": [
    "## Read input as specified in the question\n",
    "## Print the required output in given format\n",
    "n = int(input())\n",
    "\n",
    "i = 1\n",
    "\n",
    "while i<=n:\n",
    "    j = 1\n",
    "    start_chr = ord('A') + i - 1\n",
    "    while j<=i:\n",
    "        charP = chr(start_chr+j-1)\n",
    "        print(charP,end=\"\")\n",
    "        j = j + 1\n",
    "    print()\n",
    "    i = i + 1"
   ]
  },
  {
   "cell_type": "code",
   "execution_count": 53,
   "id": "4f11a704",
   "metadata": {},
   "outputs": [
    {
     "name": "stdout",
     "output_type": "stream",
     "text": [
      "5\n",
      "E\n",
      "DE\n",
      "CDE\n",
      "BCDE\n",
      "ABCDE\n"
     ]
    }
   ],
   "source": [
    "## Read input as specified in the question\n",
    "## Print the required output in given format\n",
    "n = int(input())\n",
    "\n",
    "i = 1\n",
    "\n",
    "while i<=n:\n",
    "    j = 1\n",
    "    start_chr = ord('A') + n \n",
    "    while j<=i:\n",
    "        charP = chr(start_chr + j - i - 1)\n",
    "        print(charP,end=\"\")\n",
    "        j = j + 1\n",
    "    print()\n",
    "    i = i + 1"
   ]
  },
  {
   "cell_type": "code",
   "execution_count": 54,
   "id": "7cff8c85",
   "metadata": {},
   "outputs": [
    {
     "name": "stdout",
     "output_type": "stream",
     "text": [
      "4\n",
      "1\n",
      "11\n",
      "111\n",
      "1111\n"
     ]
    }
   ],
   "source": [
    "## Read input as specified in the question\n",
    "## Print the required output in given format\n",
    "n = int(input())\n",
    "\n",
    "i = 1\n",
    "\n",
    "while i<=n:\n",
    "    j = 1\n",
    "    while j<=i:\n",
    "        print(1,end=\"\")\n",
    "        j = j + 1\n",
    "    print()\n",
    "    i = i + 1"
   ]
  },
  {
   "cell_type": "code",
   "execution_count": 58,
   "id": "7e284759",
   "metadata": {},
   "outputs": [
    {
     "name": "stdout",
     "output_type": "stream",
     "text": [
      "4\n",
      "1\n",
      "11\n",
      "202\n",
      "3003\n"
     ]
    }
   ],
   "source": [
    "## Read input as specified in the question.\n",
    "## Print output as specified in the question.\n",
    "n = int(input())\n",
    "i=1\n",
    "\n",
    "while i <= n:\n",
    "    j=1\n",
    "    while j <= i:\n",
    "        if i == 1:                                                                                         \n",
    "            print(1,end ='')\n",
    "        \n",
    "        elif j == 1 or j == i:\n",
    "            print(i-1,end ='')\n",
    "            \n",
    "        else:\n",
    "            print(0,end='')\n",
    "            \n",
    "        j=j+1\n",
    "    print()\n",
    "    i=i+1"
   ]
  },
  {
   "cell_type": "code",
   "execution_count": 61,
   "id": "e4959ca5",
   "metadata": {},
   "outputs": [
    {
     "name": "stdout",
     "output_type": "stream",
     "text": [
      "4\n",
      "1\n",
      "11\n",
      "222\n",
      "3223\n"
     ]
    }
   ],
   "source": [
    "## Read input as specified in the question.\n",
    "## Print output as specified in the question.\n",
    "n = int(input())\n",
    "i=1\n",
    "\n",
    "while i <= n:\n",
    "    j=1\n",
    "    while j <= i:\n",
    "        if i == 1:                                                                                         \n",
    "            print(1,end ='')\n",
    "        \n",
    "        elif j == 1 or j == i:\n",
    "            print(i-1,end ='')\n",
    "            \n",
    "        else:\n",
    "            print(2,end='')\n",
    "            \n",
    "        j=j+1\n",
    "    print()\n",
    "    i=i+1"
   ]
  },
  {
   "cell_type": "code",
   "execution_count": 15,
   "id": "e2b4b04e",
   "metadata": {},
   "outputs": [
    {
     "name": "stdout",
     "output_type": "stream",
     "text": [
      "5\n",
      "12345\n",
      "1234\n",
      "123\n",
      "12\n",
      "1\n"
     ]
    }
   ],
   "source": [
    "## Read input as specified in the question.\n",
    "## Print output as specified in the question.\n",
    "n = int(input())\n",
    "i=1\n",
    "\n",
    "while i <= n:\n",
    "    j=n\n",
    "    while j >= i:\n",
    "        print(n-j+1,end=\"\")\n",
    "        j = j - 1\n",
    "    print()\n",
    "    i = i + 1"
   ]
  },
  {
   "cell_type": "code",
   "execution_count": 19,
   "id": "690779ff",
   "metadata": {},
   "outputs": [
    {
     "name": "stdout",
     "output_type": "stream",
     "text": [
      "3\n",
      "A\n",
      "BB\n",
      "CCC\n"
     ]
    }
   ],
   "source": [
    "## Read input as specified in the question.\n",
    "## Print output as specified in the question.\n",
    "n = int(input())\n",
    "i=1\n",
    "\n",
    "while i <= n:\n",
    "    j=1\n",
    "    while j <= i:\n",
    "        first_chr = ord('A')\n",
    "        print(chr(first_chr+i-1),end=\"\")\n",
    "        j = j + 1\n",
    "    print()\n",
    "    i = i + 1"
   ]
  },
  {
   "cell_type": "code",
   "execution_count": 6,
   "id": "207cb9b1",
   "metadata": {},
   "outputs": [
    {
     "name": "stdout",
     "output_type": "stream",
     "text": [
      "5\n",
      "*****\n",
      "****\n",
      "***\n",
      "**\n",
      "*\n"
     ]
    }
   ],
   "source": [
    "n = int(input())\n",
    "i = 1\n",
    "while i<=n:\n",
    "    j = 1\n",
    "    while j <= n-i+1:\n",
    "        print(\"*\",end=\"\")\n",
    "        j = j + 1\n",
    "    print()\n",
    "    i = i + 1"
   ]
  },
  {
   "cell_type": "code",
   "execution_count": 8,
   "id": "be030981",
   "metadata": {},
   "outputs": [
    {
     "name": "stdout",
     "output_type": "stream",
     "text": [
      "4\n",
      "4444\n",
      "333\n",
      "22\n",
      "1\n"
     ]
    }
   ],
   "source": [
    "## Read input as specified in the question\n",
    "## Print the required output in given format\n",
    "n = int(input())\n",
    "\n",
    "i = 1\n",
    "while i<=n:\n",
    "    j = 1\n",
    "    while j<=n-i+1:\n",
    "        print(n-i+1,end=\"\")\n",
    "        j = j + 1\n",
    "    print()\n",
    "    i = i + 1"
   ]
  },
  {
   "cell_type": "code",
   "execution_count": 19,
   "id": "32055850",
   "metadata": {},
   "outputs": [
    {
     "name": "stdout",
     "output_type": "stream",
     "text": [
      "5\n",
      "    *\n",
      "   **\n",
      "  ***\n",
      " ****\n",
      "*****\n"
     ]
    }
   ],
   "source": [
    "n = int(input())\n",
    "i = 1\n",
    "while i<=n:\n",
    "    spaces = 1\n",
    "    while spaces<=n-i:\n",
    "        print(\" \",end=\"\")\n",
    "        spaces += 1  \n",
    "    star = 1\n",
    "    while star<=i:\n",
    "        print(\"*\",end=\"\")\n",
    "        star += 1\n",
    "    print()\n",
    "    i = i + 1      "
   ]
  },
  {
   "cell_type": "code",
   "execution_count": 48,
   "id": "0dce9129",
   "metadata": {},
   "outputs": [
    {
     "name": "stdout",
     "output_type": "stream",
     "text": [
      "4\n",
      "   1\n",
      "  12\n",
      " 123\n",
      "1234\n"
     ]
    }
   ],
   "source": [
    "## Read input as specified in the question\n",
    "## Print the required output in given format\n",
    "n = int(input())\n",
    "i = 1\n",
    "\n",
    "while i<=n:\n",
    "    spaces = 1\n",
    "    \n",
    "    while spaces <= n - i:\n",
    "        print(\" \",end=\"\")\n",
    "        spaces += 1 \n",
    "    star = 1\n",
    "    while star<=i:\n",
    "        print(star,end=\"\")\n",
    "        star += 1\n",
    "    print()\n",
    "    i = i + 1"
   ]
  },
  {
   "cell_type": "code",
   "execution_count": null,
   "id": "1359a77a",
   "metadata": {},
   "outputs": [],
   "source": []
  }
 ],
 "metadata": {
  "kernelspec": {
   "display_name": "Python 3",
   "language": "python",
   "name": "python3"
  },
  "language_info": {
   "codemirror_mode": {
    "name": "ipython",
    "version": 3
   },
   "file_extension": ".py",
   "mimetype": "text/x-python",
   "name": "python",
   "nbconvert_exporter": "python",
   "pygments_lexer": "ipython3",
   "version": "3.8.8"
  }
 },
 "nbformat": 4,
 "nbformat_minor": 5
}
