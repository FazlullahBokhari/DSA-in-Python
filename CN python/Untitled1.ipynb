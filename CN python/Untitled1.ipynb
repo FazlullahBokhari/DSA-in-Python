{
 "cells": [
  {
   "cell_type": "raw",
   "id": "c58072c0",
   "metadata": {},
   "source": [
    "1. If the input is 1, then 2 integers are taken from the user and their sum is printed.\n",
    "2. If the input is 2, then 2 integers are taken from the user and their difference(1st number - 2nd number) is printed.\n",
    "3. If the input is 3, then 2 integers are taken from the user and their product is printed.\n",
    "4. If the input is 4, then 2 integers are taken from the user and the quotient obtained (on dividing 1st number by 2nd number) is printed.\n",
    "5. If the input is 5, then 2 integers are taken from the user and their remainder(1st number mod 2nd number) is printed.\n",
    "6. If the input is 6, then the program exits.\n",
    "7. For any other input, then print \"Invalid Operation\"."
   ]
  },
  {
   "cell_type": "code",
   "execution_count": 10,
   "id": "f986532d",
   "metadata": {},
   "outputs": [
    {
     "name": "stdout",
     "output_type": "stream",
     "text": [
      "3\n",
      "1\n",
      "2\n",
      "2 ********\n",
      "4\n",
      "4\n",
      "2\n",
      "2 //////\n",
      "1\n",
      "3\n",
      "2\n",
      "5 ++++\n",
      "7\n",
      "Invalid Operation\n",
      "6\n"
     ]
    }
   ],
   "source": [
    "# Write your code here\n",
    "while True:\n",
    "    n = int(input())\n",
    "    if n>=1 and n<=5:\n",
    "        a = int(input())\n",
    "        b = int(input()) \n",
    "    if n==1:\n",
    "        print(a+b,\"++++\")\n",
    "    elif n==2:\n",
    "        print(a-b,\"-----\")\n",
    "    elif n==3:\n",
    "        print(a*b,\"********\")\n",
    "    elif n==4:\n",
    "        print(a//b,\"//////\")\n",
    "    elif n==5:\n",
    "        print(a%b,\"%%%%%%%%\")\n",
    "    elif n==6:\n",
    "        break\n",
    "    elif n==7:\n",
    "        print(\"Invalid Operation\")"
   ]
  },
  {
   "cell_type": "code",
   "execution_count": null,
   "id": "1400e835",
   "metadata": {},
   "outputs": [],
   "source": [
    "3\n",
    "1\n",
    "2\n",
    "4\n",
    "4\n",
    "2\n",
    "1\n",
    "3\n",
    "2\n",
    "7\n",
    "6"
   ]
  },
  {
   "cell_type": "code",
   "execution_count": 8,
   "id": "ff01df7f",
   "metadata": {},
   "outputs": [
    {
     "name": "stdout",
     "output_type": "stream",
     "text": [
      "1. Addition\n",
      "2. Subtraction\n",
      "3. Multiplication\n",
      "4. Division\n",
      "5. Exit\n",
      "Enter Your Choice (1-5): 1\n",
      "\n",
      "Enter Two Numbers: 1\n",
      "2\n",
      "\n",
      "Result = 3.0\n",
      "------------------------\n",
      "1. Addition\n",
      "2. Subtraction\n",
      "3. Multiplication\n",
      "4. Division\n",
      "5. Exit\n",
      "Enter Your Choice (1-5): 5\n"
     ]
    }
   ],
   "source": [
    "while True:\n",
    "   ch = int(input())\n",
    "   if ch>=1 and ch<=4:\n",
    "      print(\"\\nEnter Two Numbers: \", end=\"\")\n",
    "      numOne = float(input())\n",
    "      numTwo = float(input())\n",
    "   if ch==1:\n",
    "      res = numOne + numTwo\n",
    "      print(\"\\nResult =\", res)\n",
    "   elif ch==2:\n",
    "      res = numOne - numTwo\n",
    "      print(\"\\nResult =\", res)\n",
    "   elif ch==3:\n",
    "      res = numOne * numTwo\n",
    "      print(\"\\nResult =\", res)\n",
    "   elif ch==4:\n",
    "      res = numOne / numTwo\n",
    "      print(\"\\nResult =\", res)\n",
    "   elif ch==5:\n",
    "      break\n",
    "   else:\n",
    "      print(\"\\nInvalid Input!..Try Again!\")\n",
    "   print(\"------------------------\")"
   ]
  },
  {
   "cell_type": "code",
   "execution_count": 23,
   "id": "7671e77d",
   "metadata": {},
   "outputs": [
    {
     "name": "stdout",
     "output_type": "stream",
     "text": [
      "1040\n",
      "401\n"
     ]
    }
   ],
   "source": [
    "#Write Your Code Here\n",
    "n = int(input())\n",
    "result = 0\n",
    "while n>0:\n",
    "    r = n%10\n",
    "    n = n // 10\n",
    "    result = result*10 + r\n",
    "print(result)    "
   ]
  },
  {
   "cell_type": "code",
   "execution_count": 28,
   "id": "c7bd3890",
   "metadata": {},
   "outputs": [
    {
     "name": "stdout",
     "output_type": "stream",
     "text": [
      "401\n",
      "104\n"
     ]
    }
   ],
   "source": [
    "#Write Your Code Here\n",
    "n = int(input())\n",
    "result = 0\n",
    "while n>0:\n",
    "    r = n%10\n",
    "    n = n // 10\n",
    "    result = result*10 + r\n",
    "print(result)    "
   ]
  },
  {
   "cell_type": "code",
   "execution_count": 42,
   "id": "2e1da45e",
   "metadata": {},
   "outputs": [
    {
     "name": "stdout",
     "output_type": "stream",
     "text": [
      "101\n",
      "true\n"
     ]
    }
   ],
   "source": [
    "def checkPalindrome(num):\n",
    "    \n",
    "#Implement Your Code Here\n",
    "    n = num\n",
    "    result = 0\n",
    "    while n>0:\n",
    "        r = n%10\n",
    "        n = n // 10\n",
    "        result = result*10 + r\n",
    "    if num == result:\n",
    "        return True\n",
    "    else:\n",
    "        return False\n",
    "\n",
    "num = int(input())\n",
    "isPalindrome = checkPalindrome(num)\n",
    "if(isPalindrome):\n",
    "    print('true')\n",
    "else:\n",
    "    print('false')\n",
    "    "
   ]
  },
  {
   "cell_type": "code",
   "execution_count": 55,
   "id": "a4d031d7",
   "metadata": {},
   "outputs": [
    {
     "name": "stdout",
     "output_type": "stream",
     "text": [
      "123\n",
      "2 4\n"
     ]
    }
   ],
   "source": [
    "## Note : For printing multiple values in one line, put them inside print separated by space.\n",
    "## You can follow this syntax for printing values of two variables val1 and val2 separaetd by space -\n",
    "## print(val1, \" \", val2)\n",
    "n = int(input())\n",
    "even = 0\n",
    "odd = 0\n",
    "\n",
    "while n>0:\n",
    "    r = n%10\n",
    "    n = n//10\n",
    "    if r%2==0:\n",
    "        even = even + r\n",
    "    if r%2!=0:\n",
    "        odd = odd + r\n",
    "print(even,odd)        "
   ]
  },
  {
   "cell_type": "code",
   "execution_count": 5,
   "id": "7ef5dd47",
   "metadata": {},
   "outputs": [
    {
     "name": "stdout",
     "output_type": "stream",
     "text": [
      "2\n",
      "1\n"
     ]
    }
   ],
   "source": [
    "m = int(input())\n",
    "a=1\n",
    "b=1\n",
    "c = 1\n",
    "while m>2:\n",
    "    c = a+b\n",
    "    a = b\n",
    "    b = c\n",
    "    m = m - 1\n",
    "print(c)    "
   ]
  },
  {
   "cell_type": "code",
   "execution_count": 16,
   "id": "cca0b125",
   "metadata": {},
   "outputs": [
    {
     "name": "stdout",
     "output_type": "stream",
     "text": [
      "6\n",
      "5\n"
     ]
    }
   ],
   "source": [
    "def get_fib(n):\n",
    "    if n == 1:\n",
    "        return 0\n",
    "    if n==2:\n",
    "        return 1\n",
    "    return get_fib(n-1)+get_fib(n-2)\n",
    "n = int(input())\n",
    "result = get_fib(n)\n",
    "print(result)"
   ]
  },
  {
   "cell_type": "code",
   "execution_count": null,
   "id": "9de20af5",
   "metadata": {},
   "outputs": [],
   "source": []
  }
 ],
 "metadata": {
  "kernelspec": {
   "display_name": "Python 3",
   "language": "python",
   "name": "python3"
  },
  "language_info": {
   "codemirror_mode": {
    "name": "ipython",
    "version": 3
   },
   "file_extension": ".py",
   "mimetype": "text/x-python",
   "name": "python",
   "nbconvert_exporter": "python",
   "pygments_lexer": "ipython3",
   "version": "3.8.8"
  }
 },
 "nbformat": 4,
 "nbformat_minor": 5
}
