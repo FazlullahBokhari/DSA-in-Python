{
 "cells": [
  {
   "cell_type": "code",
   "execution_count": 1,
   "id": "e10645dd",
   "metadata": {},
   "outputs": [
    {
     "data": {
      "text/plain": [
       "55"
      ]
     },
     "execution_count": 1,
     "metadata": {},
     "output_type": "execute_result"
    }
   ],
   "source": [
    "def sum2(a,b,*more):\n",
    "    ans = a+b\n",
    "    for i in more:\n",
    "        ans = ans + i\n",
    "    return ans\n",
    "sum2(1,2,3,4,5,6,7,8,9,10)"
   ]
  },
  {
   "cell_type": "code",
   "execution_count": 4,
   "id": "ef569f20",
   "metadata": {},
   "outputs": [
    {
     "data": {
      "text/plain": [
       "(6, 2)"
      ]
     },
     "execution_count": 4,
     "metadata": {},
     "output_type": "execute_result"
    }
   ],
   "source": [
    "def sum_diff(a,b):\n",
    "    return a+b, a-b\n",
    "sum_diff(4,2)"
   ]
  },
  {
   "cell_type": "code",
   "execution_count": 6,
   "id": "89a1d8f9",
   "metadata": {},
   "outputs": [],
   "source": [
    "add, diff = sum_diff(14,10)"
   ]
  },
  {
   "cell_type": "code",
   "execution_count": 7,
   "id": "0ad2a9b5",
   "metadata": {},
   "outputs": [
    {
     "data": {
      "text/plain": [
       "24"
      ]
     },
     "execution_count": 7,
     "metadata": {},
     "output_type": "execute_result"
    }
   ],
   "source": [
    "add"
   ]
  },
  {
   "cell_type": "code",
   "execution_count": 8,
   "id": "48404ae3",
   "metadata": {},
   "outputs": [
    {
     "data": {
      "text/plain": [
       "4"
      ]
     },
     "execution_count": 8,
     "metadata": {},
     "output_type": "execute_result"
    }
   ],
   "source": [
    "diff"
   ]
  },
  {
   "cell_type": "code",
   "execution_count": 9,
   "id": "3b7345f9",
   "metadata": {},
   "outputs": [],
   "source": [
    "c = dict([(\"fname\",\"fazlullah\"),(\"lname\",\"bokhari\")])"
   ]
  },
  {
   "cell_type": "code",
   "execution_count": 10,
   "id": "839aa44c",
   "metadata": {},
   "outputs": [
    {
     "data": {
      "text/plain": [
       "{'fname': 'fazlullah', 'lname': 'bokhari'}"
      ]
     },
     "execution_count": 10,
     "metadata": {},
     "output_type": "execute_result"
    }
   ],
   "source": [
    "c"
   ]
  },
  {
   "cell_type": "code",
   "execution_count": 11,
   "id": "a25382f5",
   "metadata": {},
   "outputs": [],
   "source": [
    "d = dict.fromkeys([\"fname\",\"lname\"])"
   ]
  },
  {
   "cell_type": "code",
   "execution_count": 12,
   "id": "52707c79",
   "metadata": {},
   "outputs": [
    {
     "data": {
      "text/plain": [
       "{'fname': None, 'lname': None}"
      ]
     },
     "execution_count": 12,
     "metadata": {},
     "output_type": "execute_result"
    }
   ],
   "source": [
    "d"
   ]
  },
  {
   "cell_type": "code",
   "execution_count": 13,
   "id": "36fc2f0a",
   "metadata": {},
   "outputs": [],
   "source": [
    "d = dict.fromkeys([\"fname\",\"lname\"],10)"
   ]
  },
  {
   "cell_type": "code",
   "execution_count": 15,
   "id": "a6757cab",
   "metadata": {},
   "outputs": [
    {
     "data": {
      "text/plain": [
       "{'fname': 10, 'lname': 10}"
      ]
     },
     "execution_count": 15,
     "metadata": {},
     "output_type": "execute_result"
    }
   ],
   "source": [
    "d"
   ]
  },
  {
   "cell_type": "code",
   "execution_count": 2,
   "id": "b22f70df",
   "metadata": {},
   "outputs": [
    {
     "data": {
      "text/plain": [
       "{9: 1, 3: 1, 5: 2, 6: 2, 12: 1, 4: 1, 32: 1}"
      ]
     },
     "execution_count": 2,
     "metadata": {},
     "output_type": "execute_result"
    }
   ],
   "source": [
    "lst = [9, 3, 5, 5, 6, 6, 12, 4, 32]\n",
    "d = {}\n",
    "for i in lst:\n",
    "    d[i] = d.get(i,0)+1\n",
    "d"
   ]
  },
  {
   "cell_type": "code",
   "execution_count": 5,
   "id": "ec936eea",
   "metadata": {},
   "outputs": [
    {
     "data": {
      "text/plain": [
       "'not found'"
      ]
     },
     "execution_count": 5,
     "metadata": {},
     "output_type": "execute_result"
    }
   ],
   "source": [
    "d.get(55,\"not found\")"
   ]
  },
  {
   "cell_type": "code",
   "execution_count": 4,
   "id": "d6520235",
   "metadata": {},
   "outputs": [
    {
     "data": {
      "text/plain": [
       "2"
      ]
     },
     "execution_count": 4,
     "metadata": {},
     "output_type": "execute_result"
    }
   ],
   "source": [
    "d.get(5,\"not found\")"
   ]
  },
  {
   "cell_type": "code",
   "execution_count": null,
   "id": "1f62cb43",
   "metadata": {},
   "outputs": [],
   "source": []
  }
 ],
 "metadata": {
  "kernelspec": {
   "display_name": "Python 3",
   "language": "python",
   "name": "python3"
  },
  "language_info": {
   "codemirror_mode": {
    "name": "ipython",
    "version": 3
   },
   "file_extension": ".py",
   "mimetype": "text/x-python",
   "name": "python",
   "nbconvert_exporter": "python",
   "pygments_lexer": "ipython3",
   "version": "3.8.8"
  }
 },
 "nbformat": 4,
 "nbformat_minor": 5
}
