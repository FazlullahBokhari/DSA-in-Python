{
 "cells": [
  {
   "cell_type": "code",
   "execution_count": 1,
   "id": "6f8b5b5c",
   "metadata": {},
   "outputs": [
    {
     "data": {
      "text/plain": [
       "55"
      ]
     },
     "execution_count": 1,
     "metadata": {},
     "output_type": "execute_result"
    }
   ],
   "source": [
    "def sum2(a,b,*more):\n",
    "    ans = a+b\n",
    "    for i in more:\n",
    "        ans = ans + i\n",
    "    return ans\n",
    "sum2(1,2,3,4,5,6,7,8,9,10)"
   ]
  },
  {
   "cell_type": "code",
   "execution_count": 4,
   "id": "67bee185",
   "metadata": {},
   "outputs": [
    {
     "data": {
      "text/plain": [
       "(6, 2)"
      ]
     },
     "execution_count": 4,
     "metadata": {},
     "output_type": "execute_result"
    }
   ],
   "source": [
    "def sum_diff(a,b):\n",
    "    return a+b, a-b\n",
    "sum_diff(4,2)"
   ]
  },
  {
   "cell_type": "code",
   "execution_count": 6,
   "id": "4ded92f8",
   "metadata": {},
   "outputs": [],
   "source": [
    "add, diff = sum_diff(14,10)"
   ]
  },
  {
   "cell_type": "code",
   "execution_count": 7,
   "id": "96535f1b",
   "metadata": {},
   "outputs": [
    {
     "data": {
      "text/plain": [
       "24"
      ]
     },
     "execution_count": 7,
     "metadata": {},
     "output_type": "execute_result"
    }
   ],
   "source": [
    "add"
   ]
  },
  {
   "cell_type": "code",
   "execution_count": 8,
   "id": "954aa8e3",
   "metadata": {},
   "outputs": [
    {
     "data": {
      "text/plain": [
       "4"
      ]
     },
     "execution_count": 8,
     "metadata": {},
     "output_type": "execute_result"
    }
   ],
   "source": [
    "diff"
   ]
  },
  {
   "cell_type": "code",
   "execution_count": null,
   "id": "95873ba7",
   "metadata": {},
   "outputs": [],
   "source": [
    "c = dict([])"
   ]
  }
 ],
 "metadata": {
  "kernelspec": {
   "display_name": "Python 3",
   "language": "python",
   "name": "python3"
  },
  "language_info": {
   "codemirror_mode": {
    "name": "ipython",
    "version": 3
   },
   "file_extension": ".py",
   "mimetype": "text/x-python",
   "name": "python",
   "nbconvert_exporter": "python",
   "pygments_lexer": "ipython3",
   "version": "3.8.8"
  }
 },
 "nbformat": 4,
 "nbformat_minor": 5
}
