{
 "cells": [
  {
   "cell_type": "code",
   "execution_count": 2,
   "id": "e3cce75d",
   "metadata": {},
   "outputs": [
    {
     "name": "stdout",
     "output_type": "stream",
     "text": [
      "9\n"
     ]
    },
    {
     "data": {
      "text/plain": [
       "False"
      ]
     },
     "execution_count": 2,
     "metadata": {},
     "output_type": "execute_result"
    }
   ],
   "source": [
    "def isPrime(n):\n",
    "    for i in range(2,n):\n",
    "        if n%i == 0:\n",
    "            return False\n",
    "    else:\n",
    "        return True\n",
    "n = int(input())\n",
    "isPrime(n)"
   ]
  },
  {
   "cell_type": "code",
   "execution_count": 4,
   "id": "b1d2b2f5",
   "metadata": {},
   "outputs": [
    {
     "name": "stdout",
     "output_type": "stream",
     "text": [
      "20\n",
      "2 3 5 7 11 13 17 19 "
     ]
    }
   ],
   "source": [
    "def getPrime(n):\n",
    "    for j in range(2,n+1):\n",
    "        check = isPrime(j)\n",
    "        if check == True:\n",
    "            print(j,end=\" \")\n",
    "n = int(input())                  \n",
    "getPrime(n)"
   ]
  },
  {
   "cell_type": "code",
   "execution_count": 5,
   "id": "22522e9f",
   "metadata": {},
   "outputs": [
    {
     "name": "stdout",
     "output_type": "stream",
     "text": [
      "5\n"
     ]
    }
   ],
   "source": [
    "def func(a):\n",
    "    a = a + 10\n",
    "    return a\n",
    "a = 5\n",
    "func(a)\n",
    "print(a)"
   ]
  },
  {
   "cell_type": "code",
   "execution_count": 6,
   "id": "8ba74e6f",
   "metadata": {},
   "outputs": [
    {
     "name": "stdout",
     "output_type": "stream",
     "text": [
      "16\n"
     ]
    }
   ],
   "source": [
    "def square(a):\n",
    "    ans  = a*a\n",
    "    return  ans\n",
    "\n",
    "a = 4\n",
    "a = square(a)\n",
    "print(a)"
   ]
  },
  {
   "cell_type": "code",
   "execution_count": 11,
   "id": "63f09940",
   "metadata": {},
   "outputs": [
    {
     "name": "stdout",
     "output_type": "stream",
     "text": [
      "0\n",
      "100\n",
      "20\n",
      "0 -17\n",
      "20 -6\n",
      "40 4\n",
      "60 15\n",
      "80 26\n",
      "100 37\n"
     ]
    }
   ],
   "source": [
    "s = int(input())\n",
    "e = int(input())\n",
    "w = int(input())\n",
    "\n",
    "while s<=e:\n",
    "    c = int((s-32)/1.8)\n",
    "    print(s,c)\n",
    "    s = s + w"
   ]
  },
  {
   "cell_type": "code",
   "execution_count": 14,
   "id": "20faad71",
   "metadata": {},
   "outputs": [
    {
     "name": "stdout",
     "output_type": "stream",
     "text": [
      "0\n",
      "100\n",
      "20\n",
      "0 -17\n",
      "20 -6\n",
      "40 4\n",
      "60 15\n",
      "80 26\n",
      "100 37\n"
     ]
    }
   ],
   "source": [
    "def printTable(start,end,step):\n",
    "#Implement Your Code Here\n",
    "  for i in range(start,end+1,step):\n",
    "        c = int((i-32)/1.8)\n",
    "        print(i,c)\n",
    "\n",
    "s = int(input())\n",
    "e = int(input())\n",
    "step = int(input())\n",
    "printTable(s,e,step)"
   ]
  },
  {
   "cell_type": "code",
   "execution_count": 33,
   "id": "b45ee04c",
   "metadata": {},
   "outputs": [
    {
     "name": "stdout",
     "output_type": "stream",
     "text": [
      "0\n",
      "100\n",
      "20\n",
      "0\t-17\n",
      "20\t-6\n",
      "40\t4\n",
      "60\t15\n",
      "80\t26\n",
      "100\t37\n"
     ]
    }
   ],
   "source": [
    "def printTable(start,end,step):\n",
    "    currentValue = start\n",
    "    while(currentValue <= end):\n",
    "        fValue = int((5/9)*(currentValue-32))\n",
    "        print(currentValue,end=\"\\t\")\n",
    "        print(fValue)\n",
    "        currentValue = currentValue + step\n",
    "s = int(input())\n",
    "e = int(input())\n",
    "step = int(input())\n",
    "printTable(s,e,step)"
   ]
  },
  {
   "cell_type": "code",
   "execution_count": null,
   "id": "7e2b0ae5",
   "metadata": {},
   "outputs": [],
   "source": [
    "def isFibb(n):\n",
    "    "
   ]
  },
  {
   "cell_type": "code",
   "execution_count": 28,
   "id": "26003e95",
   "metadata": {},
   "outputs": [
    {
     "name": "stdout",
     "output_type": "stream",
     "text": [
      "3\n"
     ]
    },
    {
     "data": {
      "text/plain": [
       "1"
      ]
     },
     "execution_count": 28,
     "metadata": {},
     "output_type": "execute_result"
    }
   ],
   "source": [
    "n = int(input())\n",
    "def getFibbList(n):\n",
    "    if n == 1:\n",
    "        return 0\n",
    "    elif n == 2:\n",
    "        return 1\n",
    "    else:\n",
    "        return getFibbList(n-2)+getFibbList(n-1)\n",
    "getFibbList(n)"
   ]
  },
  {
   "cell_type": "code",
   "execution_count": 43,
   "id": "ef415670",
   "metadata": {},
   "outputs": [
    {
     "data": {
      "text/plain": [
       "[0, 1, 1, 2, 3, 5, 8, 13, 21, 34, 55]"
      ]
     },
     "execution_count": 43,
     "metadata": {},
     "output_type": "execute_result"
    }
   ],
   "source": [
    "def prinFibb(n):\n",
    "    a = 0\n",
    "    b = 1\n",
    "    fibbList = [a,b]\n",
    "    if n == 1:\n",
    "        fibb = a\n",
    "    elif n == 2:\n",
    "        fibb = b\n",
    "    else:\n",
    "        for i in range(2,n+1):\n",
    "            fibb = a+b\n",
    "            a = b\n",
    "            b = fibb\n",
    "            fibbList.append(fibb)\n",
    "    return fibbList\n",
    "prinFibb(10)            "
   ]
  },
  {
   "cell_type": "code",
   "execution_count": 47,
   "id": "201990ba",
   "metadata": {},
   "outputs": [
    {
     "name": "stdout",
     "output_type": "stream",
     "text": [
      "8\n",
      "true\n"
     ]
    }
   ],
   "source": [
    "def checkMember(n):\n",
    "    a = 0\n",
    "    b = 1\n",
    "    fibbList = [a,b]\n",
    "    if n == 1:\n",
    "        fibb = a\n",
    "    elif n == 2:\n",
    "        fibb = b\n",
    "    else:\n",
    "        for i in range(2,n+1):\n",
    "            fibb = a+b\n",
    "            a = b\n",
    "            b = fibb\n",
    "            fibbList.append(fibb)\n",
    "    if n in fibbList:\n",
    "        return True\n",
    "    return False\n",
    "\n",
    "n=int(input())\n",
    "if(checkMember(n)):\n",
    "    print(\"true\")\n",
    "else:\n",
    "    print(\"false\")"
   ]
  },
  {
   "cell_type": "code",
   "execution_count": null,
   "id": "16c2b6af",
   "metadata": {},
   "outputs": [],
   "source": []
  }
 ],
 "metadata": {
  "kernelspec": {
   "display_name": "Python 3",
   "language": "python",
   "name": "python3"
  },
  "language_info": {
   "codemirror_mode": {
    "name": "ipython",
    "version": 3
   },
   "file_extension": ".py",
   "mimetype": "text/x-python",
   "name": "python",
   "nbconvert_exporter": "python",
   "pygments_lexer": "ipython3",
   "version": "3.8.8"
  }
 },
 "nbformat": 4,
 "nbformat_minor": 5
}
