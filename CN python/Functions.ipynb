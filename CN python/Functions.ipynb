{
 "cells": [
  {
   "cell_type": "code",
   "execution_count": 2,
   "id": "ef986f13",
   "metadata": {},
   "outputs": [
    {
     "name": "stdout",
     "output_type": "stream",
     "text": [
      "9\n"
     ]
    },
    {
     "data": {
      "text/plain": [
       "False"
      ]
     },
     "execution_count": 2,
     "metadata": {},
     "output_type": "execute_result"
    }
   ],
   "source": [
    "def isPrime(n):\n",
    "    for i in range(2,n):\n",
    "        if n%i == 0:\n",
    "            return False\n",
    "    else:\n",
    "        return True\n",
    "n = int(input())\n",
    "isPrime(n)"
   ]
  },
  {
   "cell_type": "code",
   "execution_count": null,
   "id": "d2eff60d",
   "metadata": {},
   "outputs": [],
   "source": [
    "def getPrime(n):\n",
    "    primeList = []\n",
    "    for j in range(2,n+1):\n",
    "        check = isPrime(j)\n",
    "        if check == True:\n",
    "            primeList.append(j)\n",
    "        \n",
    "            \n",
    "        \n",
    "    "
   ]
  }
 ],
 "metadata": {
  "kernelspec": {
   "display_name": "Python 3",
   "language": "python",
   "name": "python3"
  },
  "language_info": {
   "codemirror_mode": {
    "name": "ipython",
    "version": 3
   },
   "file_extension": ".py",
   "mimetype": "text/x-python",
   "name": "python",
   "nbconvert_exporter": "python",
   "pygments_lexer": "ipython3",
   "version": "3.8.8"
  }
 },
 "nbformat": 4,
 "nbformat_minor": 5
}
