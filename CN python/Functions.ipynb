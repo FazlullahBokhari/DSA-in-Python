{
 "cells": [
  {
   "cell_type": "code",
   "execution_count": 2,
   "id": "50cdde7f",
   "metadata": {},
   "outputs": [
    {
     "name": "stdout",
     "output_type": "stream",
     "text": [
      "9\n"
     ]
    },
    {
     "data": {
      "text/plain": [
       "False"
      ]
     },
     "execution_count": 2,
     "metadata": {},
     "output_type": "execute_result"
    }
   ],
   "source": [
    "def isPrime(n):\n",
    "    for i in range(2,n):\n",
    "        if n%i == 0:\n",
    "            return False\n",
    "    else:\n",
    "        return True\n",
    "n = int(input())\n",
    "isPrime(n)"
   ]
  },
  {
   "cell_type": "code",
   "execution_count": 4,
   "id": "3fac02af",
   "metadata": {},
   "outputs": [
    {
     "name": "stdout",
     "output_type": "stream",
     "text": [
      "20\n",
      "2 3 5 7 11 13 17 19 "
     ]
    }
   ],
   "source": [
    "def getPrime(n):\n",
    "    for j in range(2,n+1):\n",
    "        check = isPrime(j)\n",
    "        if check == True:\n",
    "            print(j,end=\" \")\n",
    "n = int(input())                  \n",
    "getPrime(n)"
   ]
  },
  {
   "cell_type": "code",
   "execution_count": 5,
   "id": "0a310b87",
   "metadata": {},
   "outputs": [
    {
     "name": "stdout",
     "output_type": "stream",
     "text": [
      "5\n"
     ]
    }
   ],
   "source": [
    "def func(a):\n",
    "    a = a + 10\n",
    "    return a\n",
    "a = 5\n",
    "func(a)\n",
    "print(a)"
   ]
  },
  {
   "cell_type": "code",
   "execution_count": 6,
   "id": "acabbfdc",
   "metadata": {},
   "outputs": [
    {
     "name": "stdout",
     "output_type": "stream",
     "text": [
      "16\n"
     ]
    }
   ],
   "source": [
    "def square(a):\n",
    "    ans  = a*a\n",
    "    return  ans\n",
    "\n",
    "a = 4\n",
    "a = square(a)\n",
    "print(a)"
   ]
  },
  {
   "cell_type": "code",
   "execution_count": 11,
   "id": "ab976f43",
   "metadata": {},
   "outputs": [
    {
     "name": "stdout",
     "output_type": "stream",
     "text": [
      "0\n",
      "100\n",
      "20\n",
      "0 -17\n",
      "20 -6\n",
      "40 4\n",
      "60 15\n",
      "80 26\n",
      "100 37\n"
     ]
    }
   ],
   "source": [
    "s = int(input())\n",
    "e = int(input())\n",
    "w = int(input())\n",
    "\n",
    "while s<=e:\n",
    "    c = int((s-32)/1.8)\n",
    "    print(s,c)\n",
    "    s = s + w"
   ]
  },
  {
   "cell_type": "code",
   "execution_count": 14,
   "id": "07a0f9bf",
   "metadata": {},
   "outputs": [
    {
     "name": "stdout",
     "output_type": "stream",
     "text": [
      "0\n",
      "100\n",
      "20\n",
      "0 -17\n",
      "20 -6\n",
      "40 4\n",
      "60 15\n",
      "80 26\n",
      "100 37\n"
     ]
    }
   ],
   "source": [
    "def printTable(start,end,step):\n",
    "#Implement Your Code Here\n",
    "  for i in range(start,end+1,step):\n",
    "        c = int((i-32)/1.8)\n",
    "        print(i,c)\n",
    "\n",
    "s = int(input())\n",
    "e = int(input())\n",
    "step = int(input())\n",
    "printTable(s,e,step)"
   ]
  },
  {
   "cell_type": "code",
   "execution_count": 33,
   "id": "7f3f0784",
   "metadata": {},
   "outputs": [
    {
     "name": "stdout",
     "output_type": "stream",
     "text": [
      "0\n",
      "100\n",
      "20\n",
      "0\t-17\n",
      "20\t-6\n",
      "40\t4\n",
      "60\t15\n",
      "80\t26\n",
      "100\t37\n"
     ]
    }
   ],
   "source": [
    "def printTable(start,end,step):\n",
    "    currentValue = start\n",
    "    while(currentValue <= end):\n",
    "        fValue = int((5/9)*(currentValue-32))\n",
    "        print(currentValue,end=\"\\t\")\n",
    "        print(fValue)\n",
    "        currentValue = currentValue + step\n",
    "s = int(input())\n",
    "e = int(input())\n",
    "step = int(input())\n",
    "printTable(s,e,step)"
   ]
  },
  {
   "cell_type": "code",
   "execution_count": null,
   "id": "0f4db906",
   "metadata": {},
   "outputs": [],
   "source": [
    "def isFibb(n):\n",
    "    "
   ]
  },
  {
   "cell_type": "code",
   "execution_count": 28,
   "id": "c3b20265",
   "metadata": {},
   "outputs": [
    {
     "name": "stdout",
     "output_type": "stream",
     "text": [
      "3\n"
     ]
    },
    {
     "data": {
      "text/plain": [
       "1"
      ]
     },
     "execution_count": 28,
     "metadata": {},
     "output_type": "execute_result"
    }
   ],
   "source": [
    "n = int(input())\n",
    "def getFibbList(n):\n",
    "    if n == 1:\n",
    "        return 0\n",
    "    elif n == 2:\n",
    "        return 1\n",
    "    else:\n",
    "        return getFibbList(n-2)+getFibbList(n-1)\n",
    "getFibbList(n)"
   ]
  },
  {
   "cell_type": "code",
   "execution_count": 43,
   "id": "45eee29c",
   "metadata": {},
   "outputs": [
    {
     "data": {
      "text/plain": [
       "[0, 1, 1, 2, 3, 5, 8, 13, 21, 34, 55]"
      ]
     },
     "execution_count": 43,
     "metadata": {},
     "output_type": "execute_result"
    }
   ],
   "source": [
    "def prinFibb(n):\n",
    "    a = 0\n",
    "    b = 1\n",
    "    fibbList = [a,b]\n",
    "    if n == 1:\n",
    "        fibb = a\n",
    "    elif n == 2:\n",
    "        fibb = b\n",
    "    else:\n",
    "        for i in range(2,n+1):\n",
    "            fibb = a+b\n",
    "            a = b\n",
    "            b = fibb\n",
    "            fibbList.append(fibb)\n",
    "    return fibbList\n",
    "prinFibb(10)            "
   ]
  },
  {
   "cell_type": "code",
   "execution_count": 47,
   "id": "29d922e6",
   "metadata": {},
   "outputs": [
    {
     "name": "stdout",
     "output_type": "stream",
     "text": [
      "8\n",
      "true\n"
     ]
    }
   ],
   "source": [
    "def checkMember(n):\n",
    "    a = 0\n",
    "    b = 1\n",
    "    fibbList = [a,b]\n",
    "    if n == 1:\n",
    "        fibb = a\n",
    "    elif n == 2:\n",
    "        fibb = b\n",
    "    else:\n",
    "        for i in range(2,n+1):\n",
    "            fibb = a+b\n",
    "            a = b\n",
    "            b = fibb\n",
    "            fibbList.append(fibb)\n",
    "    if n in fibbList:\n",
    "        return True\n",
    "    return False\n",
    "\n",
    "n=int(input())\n",
    "if(checkMember(n)):\n",
    "    print(\"true\")\n",
    "else:\n",
    "    print(\"false\")"
   ]
  },
  {
   "cell_type": "code",
   "execution_count": 48,
   "id": "5ad55dfe",
   "metadata": {},
   "outputs": [
    {
     "name": "stdout",
     "output_type": "stream",
     "text": [
      "7\n",
      "false\n"
     ]
    }
   ],
   "source": [
    "# Problem ID 977 Fibonacci Number\n",
    "def checkMember(n):\n",
    "    if(n==0 or n==1 or n==2):\n",
    "        return True\n",
    "    a=0\n",
    "    b=1\n",
    "    while(b<n):\n",
    "        c=a+b\n",
    "        a=b\n",
    "        b=c\n",
    "    if(b==n):\n",
    "        return True\n",
    "    return False\n",
    "n=int(input())\n",
    "if(checkMember(n)):\n",
    "    print(\"true\")\n",
    "else:\n",
    "    print(\"false\")"
   ]
  },
  {
   "cell_type": "code",
   "execution_count": 61,
   "id": "606e4fa9",
   "metadata": {},
   "outputs": [
    {
     "name": "stdout",
     "output_type": "stream",
     "text": [
      "100\n",
      "false\n"
     ]
    }
   ],
   "source": [
    "def checkPalindrome(num):\n",
    "    number = num\n",
    "    number2 = str(num)[::-1]\n",
    "    number2 = int(number2)\n",
    "    if number == number2:\n",
    "        return True\n",
    "    return False\n",
    "num = int(input())\n",
    "isPalindrome = checkPalindrome(num)\n",
    "if(isPalindrome):\n",
    "    print('true')\n",
    "else:\n",
    "    print('false')"
   ]
  },
  {
   "cell_type": "code",
   "execution_count": 59,
   "id": "90cc29c4",
   "metadata": {},
   "outputs": [
    {
     "data": {
      "text/plain": [
       "True"
      ]
     },
     "execution_count": 59,
     "metadata": {},
     "output_type": "execute_result"
    }
   ],
   "source": [
    "def checkPalindrome(num):\n",
    "    number = num\n",
    "    number2 = str(num)[::-1]\n",
    "    number2 = int(number2)\n",
    "    if number == number2:\n",
    "        return True\n",
    "    return False\n",
    "checkPalindrome(121)"
   ]
  },
  {
   "cell_type": "code",
   "execution_count": 62,
   "id": "d38652e4",
   "metadata": {},
   "outputs": [
    {
     "name": "stdout",
     "output_type": "stream",
     "text": [
      "121\n",
      "true\n"
     ]
    }
   ],
   "source": [
    "num = int(input())\n",
    "temp = num\n",
    "rev = 0\n",
    "while temp != 0:\n",
    "    rev = (rev * 10) + (temp % 10)\n",
    "    temp = temp // 10\n",
    "if (num == rev):\n",
    "    print('true')\n",
    "else:\n",
    "    print('false')"
   ]
  },
  {
   "cell_type": "code",
   "execution_count": 72,
   "id": "e6c89f4c",
   "metadata": {},
   "outputs": [
    {
     "name": "stdout",
     "output_type": "stream",
     "text": [
      "1634\n",
      "true\n"
     ]
    }
   ],
   "source": [
    "n = int(input())\n",
    "lenght = len(str(n))\n",
    "number = 0\n",
    "o_number = n\n",
    "while n>0:\n",
    "    r = n%10\n",
    "    number = number + r**lenght\n",
    "    n = n//10\n",
    "if number == o_number:\n",
    "    print(\"true\")\n",
    "else:\n",
    "    print(\"false\")"
   ]
  },
  {
   "cell_type": "code",
   "execution_count": 73,
   "id": "3f9fbacb",
   "metadata": {},
   "outputs": [
    {
     "name": "stdout",
     "output_type": "stream",
     "text": [
      "103\n",
      "false\n"
     ]
    }
   ],
   "source": [
    "def checkArmstrong(n):\n",
    "    digits = 0\n",
    "    num = n\n",
    "    while(num > 0):\n",
    "        digits = digits + 1\n",
    "        num = num//10\n",
    "    newNum = 0\n",
    "    num = n\n",
    "    while(num > 0):\n",
    "        last = num%10\n",
    "        newNum = newNum + (last**digits)\n",
    "        num = num // 10\n",
    "    if(newNum == n):\n",
    "        return True\n",
    "    else:\n",
    "        return False\n",
    "n = int(input())\n",
    "if(checkArmstrong(n)):\n",
    "    print(\"true\")\n",
    "else:\n",
    "    print(\"false\")"
   ]
  },
  {
   "cell_type": "code",
   "execution_count": null,
   "id": "5daf14ee",
   "metadata": {},
   "outputs": [],
   "source": []
  }
 ],
 "metadata": {
  "kernelspec": {
   "display_name": "Python 3",
   "language": "python",
   "name": "python3"
  },
  "language_info": {
   "codemirror_mode": {
    "name": "ipython",
    "version": 3
   },
   "file_extension": ".py",
   "mimetype": "text/x-python",
   "name": "python",
   "nbconvert_exporter": "python",
   "pygments_lexer": "ipython3",
   "version": "3.8.8"
  }
 },
 "nbformat": 4,
 "nbformat_minor": 5
}
