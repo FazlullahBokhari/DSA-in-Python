{
 "cells": [
  {
   "cell_type": "code",
   "execution_count": 5,
   "id": "14731da8",
   "metadata": {},
   "outputs": [
    {
     "name": "stdout",
     "output_type": "stream",
     "text": [
      "faz@u@@ah\n"
     ]
    }
   ],
   "source": [
    "def replace(str,char1,char2):\n",
    "    l = len(str)\n",
    "    newstr = \"\"\n",
    "    for i in range(l):\n",
    "        if str[i] == char1:\n",
    "            newstr = newstr + char2\n",
    "        else:\n",
    "            newstr = newstr + str[i]\n",
    "    return newstr\n",
    "\n",
    "\n",
    "str = \"fazlullah\"\n",
    "result = replace(str,\"l\",\"@\")\n",
    "print(result)"
   ]
  },
  {
   "cell_type": "code",
   "execution_count": 7,
   "id": "e67f1ccc",
   "metadata": {},
   "outputs": [
    {
     "name": "stdout",
     "output_type": "stream",
     "text": [
      "(3, 21, 4, 6)\n",
      "34\n"
     ]
    }
   ],
   "source": [
    "def countInString(st):\n",
    "    v,c,d,s = 0,0,0,0\n",
    "    for char in st:\n",
    "        if (char >='a' and char <='z') or (char>='A' and char<='Z'):\n",
    "            if char in ['a','e','i','o','u'] or char in ['A','E','I','O','U']:\n",
    "                v += 1\n",
    "            else:\n",
    "                c += 1\n",
    "        elif char >= \"0\" and char <= \"9\":\n",
    "            d += 1\n",
    "        else:\n",
    "            s += 1\n",
    "    return v,c,d,s\n",
    "\n",
    "st = \"ahsksnGAKljdl@3$57*djdnjdAhKKL8@!%\"\n",
    "result = countInString(st)\n",
    "print(result)\n",
    "print(len(st))"
   ]
  },
  {
   "cell_type": "code",
   "execution_count": 9,
   "id": "325c4a7c",
   "metadata": {},
   "outputs": [
    {
     "data": {
      "text/plain": [
       "False"
      ]
     },
     "execution_count": 9,
     "metadata": {},
     "output_type": "execute_result"
    }
   ],
   "source": [
    "def isPermutation(string1, string2):\n",
    "    flag = False\n",
    "    if len(string1) != len(string2):\n",
    "        return flag \n",
    "    else:\n",
    "        st1 = sorted(string1)\n",
    "        st2 = sorted(string2)\n",
    "        for i in range(len(st1)):\n",
    "            if st1[i] != st2[i]:\n",
    "                flag = False\n",
    "            else:\n",
    "                flag = True\n",
    "    return flag\n",
    "    \n",
    "st1 = \"abccd\"\n",
    "st2 = \"abrce\"\n",
    "isPermutation(st1, st2)"
   ]
  },
  {
   "cell_type": "code",
   "execution_count": null,
   "id": "60e06a2e",
   "metadata": {},
   "outputs": [],
   "source": []
  }
 ],
 "metadata": {
  "kernelspec": {
   "display_name": "Python 3",
   "language": "python",
   "name": "python3"
  },
  "language_info": {
   "codemirror_mode": {
    "name": "ipython",
    "version": 3
   },
   "file_extension": ".py",
   "mimetype": "text/x-python",
   "name": "python",
   "nbconvert_exporter": "python",
   "pygments_lexer": "ipython3",
   "version": "3.8.8"
  }
 },
 "nbformat": 4,
 "nbformat_minor": 5
}
