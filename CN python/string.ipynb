{
 "cells": [
  {
   "cell_type": "code",
   "execution_count": 5,
   "id": "5f136ec8",
   "metadata": {},
   "outputs": [
    {
     "name": "stdout",
     "output_type": "stream",
     "text": [
      "faz@u@@ah\n"
     ]
    }
   ],
   "source": [
    "def replace(str,char1,char2):\n",
    "    l = len(str)\n",
    "    newstr = \"\"\n",
    "    for i in range(l):\n",
    "        if str[i] == char1:\n",
    "            newstr = newstr + char2\n",
    "        else:\n",
    "            newstr = newstr + str[i]\n",
    "    return newstr\n",
    "\n",
    "\n",
    "str = \"fazlullah\"\n",
    "result = replace(str,\"l\",\"@\")\n",
    "print(result)"
   ]
  },
  {
   "cell_type": "code",
   "execution_count": null,
   "id": "c956eec5",
   "metadata": {},
   "outputs": [],
   "source": []
  }
 ],
 "metadata": {
  "kernelspec": {
   "display_name": "Python 3",
   "language": "python",
   "name": "python3"
  },
  "language_info": {
   "codemirror_mode": {
    "name": "ipython",
    "version": 3
   },
   "file_extension": ".py",
   "mimetype": "text/x-python",
   "name": "python",
   "nbconvert_exporter": "python",
   "pygments_lexer": "ipython3",
   "version": "3.8.8"
  }
 },
 "nbformat": 4,
 "nbformat_minor": 5
}
