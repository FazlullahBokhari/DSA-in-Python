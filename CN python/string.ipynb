{
 "cells": [
  {
   "cell_type": "code",
   "execution_count": 5,
   "id": "14731da8",
   "metadata": {},
   "outputs": [
    {
     "name": "stdout",
     "output_type": "stream",
     "text": [
      "faz@u@@ah\n"
     ]
    }
   ],
   "source": [
    "def replace(str,char1,char2):\n",
    "    l = len(str)\n",
    "    newstr = \"\"\n",
    "    for i in range(l):\n",
    "        if str[i] == char1:\n",
    "            newstr = newstr + char2\n",
    "        else:\n",
    "            newstr = newstr + str[i]\n",
    "    return newstr\n",
    "\n",
    "\n",
    "str = \"fazlullah\"\n",
    "result = replace(str,\"l\",\"@\")\n",
    "print(result)"
   ]
  },
  {
   "cell_type": "code",
   "execution_count": 7,
   "id": "e67f1ccc",
   "metadata": {},
   "outputs": [
    {
     "name": "stdout",
     "output_type": "stream",
     "text": [
      "(3, 21, 4, 6)\n",
      "34\n"
     ]
    }
   ],
   "source": [
    "def countInString(st):\n",
    "    v,c,d,s = 0,0,0,0\n",
    "    for char in st:\n",
    "        if (char >='a' and char <='z') or (char>='A' and char<='Z'):\n",
    "            if char in ['a','e','i','o','u'] or char in ['A','E','I','O','U']:\n",
    "                v += 1\n",
    "            else:\n",
    "                c += 1\n",
    "        elif char >= \"0\" and char <= \"9\":\n",
    "            d += 1\n",
    "        else:\n",
    "            s += 1\n",
    "    return v,c,d,s\n",
    "\n",
    "st = \"ahsksnGAKljdl@3$57*djdnjdAhKKL8@!%\"\n",
    "result = countInString(st)\n",
    "print(result)\n",
    "print(len(st))"
   ]
  },
  {
   "cell_type": "code",
   "execution_count": 11,
   "id": "325c4a7c",
   "metadata": {},
   "outputs": [
    {
     "data": {
      "text/plain": [
       "False"
      ]
     },
     "execution_count": 11,
     "metadata": {},
     "output_type": "execute_result"
    }
   ],
   "source": [
    "def isPermutation(string1, string2):\n",
    "    if len(string1) != len(string2):\n",
    "        return False \n",
    "    else:\n",
    "        st1 = sorted(string1)\n",
    "        st2 = sorted(string2)\n",
    "        if st1 == st2:\n",
    "            return True\n",
    "    return False\n",
    "    \n",
    "st1 = \"abccd\"\n",
    "st2 = \"abrce\"\n",
    "isPermutation(st1, st2)"
   ]
  },
  {
   "cell_type": "code",
   "execution_count": 22,
   "id": "c6840165",
   "metadata": {},
   "outputs": [
    {
     "data": {
      "text/plain": [
       "'xyzx'"
      ]
     },
     "execution_count": 22,
     "metadata": {},
     "output_type": "execute_result"
    }
   ],
   "source": [
    "def removeConsecutiveDuplicates(string):\n",
    "    seen = string[0]\n",
    "    ans = string[0]\n",
    "    for i in string[1:]:\n",
    "        if i != seen:\n",
    "            ans = ans + i\n",
    "            seen = i\n",
    "    return ans\n",
    "st = \"xxyyzxx\"\n",
    "removeConsecutiveDuplicates(st)"
   ]
  },
  {
   "cell_type": "code",
   "execution_count": 29,
   "id": "a3a56e30",
   "metadata": {},
   "outputs": [
    {
     "data": {
      "text/plain": [
       "'emocleW ot gnidoC sajniN'"
      ]
     },
     "execution_count": 29,
     "metadata": {},
     "output_type": "execute_result"
    }
   ],
   "source": [
    "def reverseEachWord(string):\n",
    "    new_seperated_string = string.split(\" \")\n",
    "    temp = [i[::-1] for i in new_seperated_string]\n",
    "    ans = \" \".join(temp)\n",
    "    return ans\n",
    "\n",
    "string = \"Welcome to Coding Ninjas\"\n",
    "reverseEachWord(string) "
   ]
  },
  {
   "cell_type": "code",
   "execution_count": 46,
   "id": "618462cb",
   "metadata": {},
   "outputs": [
    {
     "data": {
      "text/plain": [
       "'bccb'"
      ]
     },
     "execution_count": 46,
     "metadata": {},
     "output_type": "execute_result"
    }
   ],
   "source": [
    "def removeAllOccurrencesOfChar(string, ch):\n",
    "    string = string.replace(ch,\"\")\n",
    "    return string\n",
    "string = \"aabccbaa\"\n",
    "ch = \"a\"\n",
    "removeAllOccurrencesOfChar(string, ch)"
   ]
  },
  {
   "cell_type": "code",
   "execution_count": 48,
   "id": "0c18f557",
   "metadata": {},
   "outputs": [
    {
     "data": {
      "text/plain": [
       "'bccb'"
      ]
     },
     "execution_count": 48,
     "metadata": {},
     "output_type": "execute_result"
    }
   ],
   "source": [
    "def removeAllOccurrencesOfChar2(string, ch):\n",
    "    ans = \"\"\n",
    "    for i in string:\n",
    "        if i != ch:\n",
    "            ans = ans + i\n",
    "    return ans\n",
    "string = \"aabccbaa\"\n",
    "ch = \"a\"\n",
    "removeAllOccurrencesOfChar2(string, ch)"
   ]
  },
  {
   "cell_type": "code",
   "execution_count": null,
   "id": "d34203a6",
   "metadata": {},
   "outputs": [],
   "source": []
  }
 ],
 "metadata": {
  "kernelspec": {
   "display_name": "Python 3",
   "language": "python",
   "name": "python3"
  },
  "language_info": {
   "codemirror_mode": {
    "name": "ipython",
    "version": 3
   },
   "file_extension": ".py",
   "mimetype": "text/x-python",
   "name": "python",
   "nbconvert_exporter": "python",
   "pygments_lexer": "ipython3",
   "version": "3.8.8"
  }
 },
 "nbformat": 4,
 "nbformat_minor": 5
}
