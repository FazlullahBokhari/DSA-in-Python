{
 "cells": [
  {
   "cell_type": "code",
   "execution_count": 3,
   "id": "a0b533d3",
   "metadata": {},
   "outputs": [
    {
     "name": "stdout",
     "output_type": "stream",
     "text": [
      "['abcd', 'def', 5]\n"
     ]
    }
   ],
   "source": [
    "li =['abcd','def']\n",
    "li.insert(4,5)\n",
    "print(li)"
   ]
  },
  {
   "cell_type": "code",
   "execution_count": 4,
   "id": "185e8775",
   "metadata": {},
   "outputs": [
    {
     "name": "stdout",
     "output_type": "stream",
     "text": [
      "['abcd', 'def', 5]\n"
     ]
    }
   ],
   "source": [
    "li = ['abcd',5,'def',5]\n",
    "li.remove(5)\n",
    "print(li)"
   ]
  },
  {
   "cell_type": "code",
   "execution_count": 6,
   "id": "bff1b63e",
   "metadata": {},
   "outputs": [
    {
     "name": "stdout",
     "output_type": "stream",
     "text": [
      "[5, 2, 8]\n",
      "[5, 2, 8, 10]\n"
     ]
    }
   ],
   "source": [
    "li = [5,2,6,8]\n",
    "li.pop(2)\n",
    "print(li)\n",
    "li.append(10)\n",
    "print(li)"
   ]
  },
  {
   "cell_type": "code",
   "execution_count": 2,
   "id": "ba3f56a1",
   "metadata": {},
   "outputs": [
    {
     "name": "stdout",
     "output_type": "stream",
     "text": [
      "5\n",
      "10\n",
      "12\n",
      "13\n",
      "45\n",
      "65\n"
     ]
    }
   ],
   "source": [
    "li = []\n",
    "n = int(input())\n",
    "for i in range(n):\n",
    "    curr = int(input())\n",
    "    li.append(curr)"
   ]
  },
  {
   "cell_type": "code",
   "execution_count": 3,
   "id": "e263c8cf",
   "metadata": {},
   "outputs": [
    {
     "data": {
      "text/plain": [
       "[10, 12, 13, 45, 65]"
      ]
     },
     "execution_count": 3,
     "metadata": {},
     "output_type": "execute_result"
    }
   ],
   "source": [
    "li"
   ]
  },
  {
   "cell_type": "code",
   "execution_count": 4,
   "id": "d6ec6ed4",
   "metadata": {},
   "outputs": [
    {
     "name": "stdout",
     "output_type": "stream",
     "text": [
      "10\n",
      "12\n",
      "13\n",
      "45\n",
      "65\n"
     ]
    }
   ],
   "source": [
    "for ele in li:\n",
    "    print(ele)"
   ]
  },
  {
   "cell_type": "code",
   "execution_count": 5,
   "id": "f473b676",
   "metadata": {},
   "outputs": [
    {
     "name": "stdout",
     "output_type": "stream",
     "text": [
      "5\n",
      "1\n",
      "2\n",
      "3\n",
      "4\n",
      "5\n"
     ]
    }
   ],
   "source": [
    "li = []\n",
    "n = int(input())\n",
    "for i in range(n):\n",
    "    curr = input()\n",
    "    li.append(curr)"
   ]
  },
  {
   "cell_type": "code",
   "execution_count": 6,
   "id": "ea93aa2f",
   "metadata": {},
   "outputs": [
    {
     "data": {
      "text/plain": [
       "['1', '2', '3', '4', '5']"
      ]
     },
     "execution_count": 6,
     "metadata": {},
     "output_type": "execute_result"
    }
   ],
   "source": [
    "li"
   ]
  },
  {
   "cell_type": "code",
   "execution_count": 7,
   "id": "9e90f4ef",
   "metadata": {},
   "outputs": [
    {
     "name": "stdout",
     "output_type": "stream",
     "text": [
      "1 2 3 4 5\n"
     ]
    }
   ],
   "source": [
    "str = input()"
   ]
  },
  {
   "cell_type": "code",
   "execution_count": 8,
   "id": "05714888",
   "metadata": {},
   "outputs": [
    {
     "data": {
      "text/plain": [
       "'1 2 3 4 5'"
      ]
     },
     "execution_count": 8,
     "metadata": {},
     "output_type": "execute_result"
    }
   ],
   "source": [
    "str"
   ]
  },
  {
   "cell_type": "code",
   "execution_count": 9,
   "id": "92b85944",
   "metadata": {},
   "outputs": [],
   "source": [
    "li = []"
   ]
  },
  {
   "cell_type": "code",
   "execution_count": 10,
   "id": "89c2c9b6",
   "metadata": {},
   "outputs": [],
   "source": [
    "str_split = str.split(' ')"
   ]
  },
  {
   "cell_type": "code",
   "execution_count": 11,
   "id": "17a39936",
   "metadata": {},
   "outputs": [
    {
     "data": {
      "text/plain": [
       "['1', '2', '3', '4', '5']"
      ]
     },
     "execution_count": 11,
     "metadata": {},
     "output_type": "execute_result"
    }
   ],
   "source": [
    "str_split"
   ]
  },
  {
   "cell_type": "code",
   "execution_count": 12,
   "id": "3a8390ef",
   "metadata": {},
   "outputs": [
    {
     "data": {
      "text/plain": [
       "[1, 2, 3, 4, 5]"
      ]
     },
     "execution_count": 12,
     "metadata": {},
     "output_type": "execute_result"
    }
   ],
   "source": [
    "for ele in str_split:\n",
    "    li.append(int(ele))\n",
    "li"
   ]
  },
  {
   "cell_type": "code",
   "execution_count": 15,
   "id": "0529eb68",
   "metadata": {},
   "outputs": [
    {
     "name": "stdout",
     "output_type": "stream",
     "text": [
      "1 2 3 4 5 6 7 8 9 10\n"
     ]
    },
    {
     "data": {
      "text/plain": [
       "[1, 2, 3, 4, 5, 6, 7, 8, 9, 10]"
      ]
     },
     "execution_count": 15,
     "metadata": {},
     "output_type": "execute_result"
    }
   ],
   "source": [
    "li = [int(x) for x in input().split()]\n",
    "li"
   ]
  },
  {
   "cell_type": "code",
   "execution_count": 16,
   "id": "18103711",
   "metadata": {},
   "outputs": [
    {
     "data": {
      "text/plain": [
       "[1, 2, 3, 4, 5, 6, 7, 8, 9, 10]"
      ]
     },
     "execution_count": 16,
     "metadata": {},
     "output_type": "execute_result"
    }
   ],
   "source": [
    "li"
   ]
  },
  {
   "cell_type": "code",
   "execution_count": 19,
   "id": "f1a66526",
   "metadata": {},
   "outputs": [
    {
     "name": "stdout",
     "output_type": "stream",
     "text": [
      "5\n",
      "1 2 3 4 5\n"
     ]
    },
    {
     "data": {
      "text/plain": [
       "15"
      ]
     },
     "execution_count": 19,
     "metadata": {},
     "output_type": "execute_result"
    }
   ],
   "source": [
    "n = int(input())\n",
    "li = input()\n",
    "Sum = 0\n",
    "str_split = li.split()\n",
    "for i in range(n):\n",
    "    curr = int(str_split[i])\n",
    "    Sum = Sum + curr\n",
    "Sum"
   ]
  },
  {
   "cell_type": "code",
   "execution_count": 21,
   "id": "9b9ffb69",
   "metadata": {},
   "outputs": [
    {
     "data": {
      "text/plain": [
       "[6, 5, 4, 3, 2, 1]"
      ]
     },
     "execution_count": 21,
     "metadata": {},
     "output_type": "execute_result"
    }
   ],
   "source": [
    "def reverse_list(li):\n",
    "    length = len(li)\n",
    "    for i in range(length//2):\n",
    "        li[i],li[length-i-1] = li[length-i-1],li[i]\n",
    "    return li\n",
    "\n",
    "li = [1,2,3,4,5,6]\n",
    "reverse_list(li)"
   ]
  },
  {
   "cell_type": "code",
   "execution_count": 22,
   "id": "23a582e6",
   "metadata": {},
   "outputs": [
    {
     "name": "stdout",
     "output_type": "stream",
     "text": [
      "[1, 4, 3, 4, 5]\n"
     ]
    }
   ],
   "source": [
    "def change(li):\n",
    "    li[1] = li[1] + 2\n",
    "    li = [3,3,3,4,5]\n",
    "li = [1,2,3,4,5]\n",
    "change(li)\n",
    "print(li)"
   ]
  },
  {
   "cell_type": "code",
   "execution_count": 22,
   "id": "cdc6bdc7",
   "metadata": {},
   "outputs": [
    {
     "name": "stdout",
     "output_type": "stream",
     "text": [
      "[9, 3, 6, 12, 4, 32]\n"
     ]
    },
    {
     "data": {
      "text/plain": [
       "[3, 9, 12, 6, 4, 32]"
      ]
     },
     "execution_count": 22,
     "metadata": {},
     "output_type": "execute_result"
    }
   ],
   "source": [
    "def swapAlternate(arr, n) :\n",
    "    #Your code goes here\n",
    "    i = 0\n",
    "    while n>i:\n",
    "        arr[i],arr[i+1] = arr[i+1],arr[i]\n",
    "        i = i+2\n",
    "        n = n-1\n",
    "li = [9,3,6,12,4,32]\n",
    "print(li)\n",
    "swapAlternate(li,6)"
   ]
  },
  {
   "cell_type": "code",
   "execution_count": 13,
   "id": "1bc97547",
   "metadata": {},
   "outputs": [
    {
     "name": "stdout",
     "output_type": "stream",
     "text": [
      "2 3\n",
      "3 2\n"
     ]
    }
   ],
   "source": [
    "a = 2\n",
    "b = 3\n",
    "print(a,b)\n",
    "a,b=b,a\n",
    "print(a,b)"
   ]
  },
  {
   "cell_type": "code",
   "execution_count": 44,
   "id": "d62e56f3",
   "metadata": {},
   "outputs": [
    {
     "data": {
      "text/plain": [
       "4"
      ]
     },
     "execution_count": 44,
     "metadata": {},
     "output_type": "execute_result"
    }
   ],
   "source": [
    "def findUnique(arr, n):\n",
    "    #Your code goes here\n",
    "    for n in arr:\n",
    "        if arr.count(n) == 1:\n",
    "            return n\n",
    "        \n",
    "li = [2,4,7,2,7]\n",
    "findUnique(li,3)"
   ]
  },
  {
   "cell_type": "code",
   "execution_count": 73,
   "id": "0a602e13",
   "metadata": {},
   "outputs": [
    {
     "name": "stdout",
     "output_type": "stream",
     "text": [
      "2 1 2 "
     ]
    }
   ],
   "source": [
    "import sys\n",
    "def intersections(arr1, n, arr2, m) :\n",
    "    \n",
    "    for i in range(n) :\n",
    "        for j in range(m) :\n",
    "            if arr1[i] == arr2[j] :\n",
    "                print(arr1[i], end = \" \")\n",
    "                arr2[j] = sys.maxsize\n",
    "                break\n",
    "arr1 = [2, 6, 1, 2]\n",
    "n = len(arr1)\n",
    "arr2 = [1, 2, 3, 4, 2]\n",
    "m = len(arr2)\n",
    "intersections(arr1, n, arr2, m)"
   ]
  },
  {
   "cell_type": "code",
   "execution_count": null,
   "id": "6c5984d2",
   "metadata": {},
   "outputs": [],
   "source": [
    "9\n",
    "1 3 6 2 5 4 3 2 4\n",
    "7\n",
    "\n",
    "1. 3 6\n",
    "2. 5 4\n",
    "3. 6 3\n",
    "4. 5 4\n"
   ]
  },
  {
   "cell_type": "code",
   "execution_count": 11,
   "id": "14328b6a",
   "metadata": {},
   "outputs": [
    {
     "name": "stdout",
     "output_type": "stream",
     "text": [
      "1 ---> 0 5 -----> 4\n",
      "1\n",
      "3 ---> 1 3 -----> 6\n",
      "2\n",
      "2 ---> 3 4 -----> 5\n",
      "3\n",
      "2 ---> 3 4 -----> 8\n",
      "4\n",
      "4 ---> 5 2 -----> 7\n",
      "5\n",
      "2 ---> 7 4 -----> 8\n",
      "6\n",
      "6\n"
     ]
    }
   ],
   "source": [
    "lst = [1,3,6,2,5,4,3,2,4]\n",
    "n = len(lst)\n",
    "count = 0\n",
    "x = 6\n",
    "for i in range(n):\n",
    "    for j in range(i+1,n):\n",
    "        if lst[i] + lst[j] == x:\n",
    "            print(lst[i],\"--->\",i,lst[j],\"----->\",j)\n",
    "            count += 1\n",
    "            print(count)\n",
    "print(count)"
   ]
  },
  {
   "cell_type": "code",
   "execution_count": 24,
   "id": "24ad09a7",
   "metadata": {},
   "outputs": [
    {
     "name": "stdout",
     "output_type": "stream",
     "text": [
      "3 4\n"
     ]
    },
    {
     "data": {
      "text/plain": [
       "[0, 0, 0, 1, 1, 1, 1]"
      ]
     },
     "execution_count": 24,
     "metadata": {},
     "output_type": "execute_result"
    }
   ],
   "source": [
    "def sortZeroesAndOne(arr, n):\n",
    "    #Your code goes here \n",
    "    count_0 = 0\n",
    "    count_1 = 0\n",
    "    for i in range(n):\n",
    "        if arr[i] == 0:\n",
    "            count_0 += 1\n",
    "        if arr[i] == 1:\n",
    "            count_1 += 1\n",
    "    for i in range(0,count_0):\n",
    "        arr[i] = 0\n",
    "    for j in range(count_0,count_0+count_1):\n",
    "        arr[j] = 1\n",
    "    return arr\n",
    "\n",
    "n = 7\n",
    "arr = [0,1,1,0,1,0,1]\n",
    "sortZeroesAndOne(arr, n)"
   ]
  },
  {
   "cell_type": "code",
   "execution_count": 29,
   "id": "5e46aa02",
   "metadata": {},
   "outputs": [
    {
     "name": "stdout",
     "output_type": "stream",
     "text": [
      "0\n",
      "1\n",
      "2\n",
      "true\n"
     ]
    }
   ],
   "source": [
    "def isPalindrome(string) :\n",
    "\n",
    "    n = len(string)//2\n",
    "    flag = \"none\"\n",
    "    for i in range(n):\n",
    "        if string[i] == string[len(string)-i-1]:\n",
    "            print(i)\n",
    "            flag = True\n",
    "        else:\n",
    "            flag = False\n",
    "    return flag\n",
    "\n",
    "string = \"abcdcba\"\n",
    "ans = isPalindrome(string)\n",
    "\n",
    "if ans :\n",
    "    print('true')\n",
    "else :\n",
    "    print('false')"
   ]
  },
  {
   "cell_type": "code",
   "execution_count": 2,
   "id": "dc3e46b6",
   "metadata": {},
   "outputs": [
    {
     "data": {
      "text/plain": [
       "[1, 4, 9]"
      ]
     },
     "execution_count": 2,
     "metadata": {},
     "output_type": "execute_result"
    }
   ],
   "source": [
    "li = [1,2,3]\n",
    "new_list = []\n",
    "for i in li:\n",
    "    new_list.append(i**2)\n",
    "new_list"
   ]
  },
  {
   "cell_type": "code",
   "execution_count": 3,
   "id": "156ebf8b",
   "metadata": {},
   "outputs": [
    {
     "data": {
      "text/plain": [
       "[1, 4, 9]"
      ]
     },
     "execution_count": 3,
     "metadata": {},
     "output_type": "execute_result"
    }
   ],
   "source": [
    "new_list_c = [i**2 for i in li]\n",
    "new_list_c"
   ]
  },
  {
   "cell_type": "code",
   "execution_count": 5,
   "id": "e0274666",
   "metadata": {},
   "outputs": [
    {
     "data": {
      "text/plain": [
       "[4, 16, 36]"
      ]
     },
     "execution_count": 5,
     "metadata": {},
     "output_type": "execute_result"
    }
   ],
   "source": [
    "li = [1,2,3,4,5,6]\n",
    "new_list_even = [ele**2 for ele in li if ele%2==0]\n",
    "new_list_even"
   ]
  },
  {
   "cell_type": "code",
   "execution_count": 6,
   "id": "020961e3",
   "metadata": {},
   "outputs": [
    {
     "data": {
      "text/plain": [
       "[36, 144, 324]"
      ]
     },
     "execution_count": 6,
     "metadata": {},
     "output_type": "execute_result"
    }
   ],
   "source": [
    "li = [1,2,3,4,5,6,7,8,9,12,18]\n",
    "new_l = []\n",
    "for ele in li:\n",
    "    if ele%2==0:\n",
    "        if ele%3==0:\n",
    "            new_l.append(ele**2)\n",
    "new_l"
   ]
  },
  {
   "cell_type": "code",
   "execution_count": 7,
   "id": "fc94f439",
   "metadata": {},
   "outputs": [
    {
     "data": {
      "text/plain": [
       "[36, 144, 324]"
      ]
     },
     "execution_count": 7,
     "metadata": {},
     "output_type": "execute_result"
    }
   ],
   "source": [
    "new_lst = [ele**2 for ele in li if ele%2==0 if ele%3==0]\n",
    "new_lst"
   ]
  },
  {
   "cell_type": "code",
   "execution_count": 8,
   "id": "70601b3e",
   "metadata": {},
   "outputs": [
    {
     "data": {
      "text/plain": [
       "[1, 2, 3, 4, 5, 6]"
      ]
     },
     "execution_count": 8,
     "metadata": {},
     "output_type": "execute_result"
    }
   ],
   "source": [
    "li_1 = [1,2,3,4,5,6,7,8,9,12,18]\n",
    "li_2 = [1,2,3,4,5,6]\n",
    "li_intersection = []\n",
    "\n",
    "for ele_1 in li_1:\n",
    "    for ele_2 in li_2:\n",
    "        if ele_1 == ele_2:\n",
    "            li_intersection.append(ele_1)\n",
    "li_intersection"
   ]
  },
  {
   "cell_type": "code",
   "execution_count": 9,
   "id": "9c846000",
   "metadata": {},
   "outputs": [
    {
     "data": {
      "text/plain": [
       "[1, 2, 3, 4, 5, 6]"
      ]
     },
     "execution_count": 9,
     "metadata": {},
     "output_type": "execute_result"
    }
   ],
   "source": [
    "li_1 = [1,2,3,4,5,6,7,8,9,12,18]\n",
    "li_2 = [1,2,3,4,5,6]\n",
    "li_intersection_c = [ele_1 for ele_1 in li_1 for ele_2 in li_2 if ele_1==ele_2]\n",
    "li_intersection_c"
   ]
  },
  {
   "cell_type": "code",
   "execution_count": 11,
   "id": "27d6d445",
   "metadata": {},
   "outputs": [
    {
     "data": {
      "text/plain": [
       "[1, 4, 3, 16, 5, 36]"
      ]
     },
     "execution_count": 11,
     "metadata": {},
     "output_type": "execute_result"
    }
   ],
   "source": [
    "li = [1,2,3,4,5,6]\n",
    "new_li = [ele**2 if ele%2==0 else ele for ele in li]\n",
    "new_li"
   ]
  },
  {
   "cell_type": "code",
   "execution_count": 12,
   "id": "454e1c76",
   "metadata": {},
   "outputs": [
    {
     "data": {
      "text/plain": [
       "['F',\n",
       " 'a',\n",
       " 'z',\n",
       " 'l',\n",
       " 'u',\n",
       " 'l',\n",
       " 'l',\n",
       " 'a',\n",
       " 'h',\n",
       " ' ',\n",
       " 'B',\n",
       " 'o',\n",
       " 'k',\n",
       " 'h',\n",
       " 'a',\n",
       " 'r',\n",
       " 'i']"
      ]
     },
     "execution_count": 12,
     "metadata": {},
     "output_type": "execute_result"
    }
   ],
   "source": [
    "name = \"Fazlullah Bokhari\"\n",
    "nlist = [ch for ch in name]\n",
    "nlist"
   ]
  },
  {
   "cell_type": "code",
   "execution_count": 15,
   "id": "45280310",
   "metadata": {},
   "outputs": [
    {
     "data": {
      "text/plain": [
       "[['M', 'r', '.'],\n",
       " ['F', 'a', 'z', 'l', 'u', 'l', 'l', 'a', 'h'],\n",
       " ['B', 'o', 'k', 'h', 'a', 'r', 'i']]"
      ]
     },
     "execution_count": 15,
     "metadata": {},
     "output_type": "execute_result"
    }
   ],
   "source": [
    "name = [\"Mr.\",\"Fazlullah\",\"Bokhari\"]\n",
    "list_chr = [[ch for ch in ele] for ele in name]\n",
    "list_chr"
   ]
  },
  {
   "cell_type": "code",
   "execution_count": 18,
   "id": "86620255",
   "metadata": {},
   "outputs": [
    {
     "name": "stdout",
     "output_type": "stream",
     "text": [
      "3 2\n",
      "1 2 3 4 5 6\n",
      " 7 8 9 10 11 12\n",
      "13 14 15 16 17\n"
     ]
    },
    {
     "data": {
      "text/plain": [
       "[[1, 2, 3, 4, 5, 6], [7, 8, 9, 10, 11, 12], [13, 14, 15, 16, 17]]"
      ]
     },
     "execution_count": 18,
     "metadata": {},
     "output_type": "execute_result"
    }
   ],
   "source": [
    "lst = input().split()\n",
    "n,m = int(lst[0]),int(lst[1])\n",
    "two_d_list = [[int(j) for j in input().split()] for i in range(n)]\n",
    "two_d_list"
   ]
  },
  {
   "cell_type": "code",
   "execution_count": null,
   "id": "9c818b48",
   "metadata": {},
   "outputs": [],
   "source": []
  }
 ],
 "metadata": {
  "kernelspec": {
   "display_name": "Python 3",
   "language": "python",
   "name": "python3"
  },
  "language_info": {
   "codemirror_mode": {
    "name": "ipython",
    "version": 3
   },
   "file_extension": ".py",
   "mimetype": "text/x-python",
   "name": "python",
   "nbconvert_exporter": "python",
   "pygments_lexer": "ipython3",
   "version": "3.8.8"
  }
 },
 "nbformat": 4,
 "nbformat_minor": 5
}
