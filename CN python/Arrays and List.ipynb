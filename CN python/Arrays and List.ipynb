{
 "cells": [
  {
   "cell_type": "code",
   "execution_count": 1,
   "id": "a0b533d3",
   "metadata": {},
   "outputs": [
    {
     "name": "stdout",
     "output_type": "stream",
     "text": [
      "['abcd', 'def', 5]\n"
     ]
    }
   ],
   "source": [
    "li =['abcd','def']\n",
    "li.insert(4,5)\n",
    "print(li)"
   ]
  },
  {
   "cell_type": "code",
   "execution_count": 2,
   "id": "185e8775",
   "metadata": {},
   "outputs": [
    {
     "name": "stdout",
     "output_type": "stream",
     "text": [
      "['abcd', 'def', 5]\n"
     ]
    }
   ],
   "source": [
    "li = ['abcd',5,'def',5]\n",
    "li.remove(5)\n",
    "print(li)"
   ]
  },
  {
   "cell_type": "code",
   "execution_count": 3,
   "id": "bff1b63e",
   "metadata": {},
   "outputs": [
    {
     "name": "stdout",
     "output_type": "stream",
     "text": [
      "[5, 2, 8]\n",
      "[5, 2, 8, 10]\n"
     ]
    }
   ],
   "source": [
    "li = [5,2,6,8]\n",
    "li.pop(2)\n",
    "print(li)\n",
    "li.append(10)\n",
    "print(li)"
   ]
  },
  {
   "cell_type": "code",
   "execution_count": 4,
   "id": "ba3f56a1",
   "metadata": {},
   "outputs": [
    {
     "name": "stdout",
     "output_type": "stream",
     "text": [
      "5\n",
      "9\n",
      "3\n",
      "1\n",
      "0\n",
      "4\n"
     ]
    }
   ],
   "source": [
    "li = []\n",
    "n = int(input())\n",
    "for i in range(n):\n",
    "    curr = int(input())\n",
    "    li.append(curr)"
   ]
  },
  {
   "cell_type": "code",
   "execution_count": 5,
   "id": "e263c8cf",
   "metadata": {},
   "outputs": [
    {
     "data": {
      "text/plain": [
       "[9, 3, 1, 0, 4]"
      ]
     },
     "execution_count": 5,
     "metadata": {},
     "output_type": "execute_result"
    }
   ],
   "source": [
    "li"
   ]
  },
  {
   "cell_type": "code",
   "execution_count": 6,
   "id": "d6ec6ed4",
   "metadata": {},
   "outputs": [
    {
     "name": "stdout",
     "output_type": "stream",
     "text": [
      "9\n",
      "3\n",
      "1\n",
      "0\n",
      "4\n"
     ]
    }
   ],
   "source": [
    "for ele in li:\n",
    "    print(ele)"
   ]
  },
  {
   "cell_type": "code",
   "execution_count": 7,
   "id": "f473b676",
   "metadata": {},
   "outputs": [
    {
     "name": "stdout",
     "output_type": "stream",
     "text": [
      "1\n",
      "2\n"
     ]
    }
   ],
   "source": [
    "li = []\n",
    "n = int(input())\n",
    "for i in range(n):\n",
    "    curr = input()\n",
    "    li.append(curr)"
   ]
  },
  {
   "cell_type": "code",
   "execution_count": 8,
   "id": "ea93aa2f",
   "metadata": {},
   "outputs": [
    {
     "data": {
      "text/plain": [
       "['2']"
      ]
     },
     "execution_count": 8,
     "metadata": {},
     "output_type": "execute_result"
    }
   ],
   "source": [
    "li"
   ]
  },
  {
   "cell_type": "code",
   "execution_count": 9,
   "id": "9e90f4ef",
   "metadata": {},
   "outputs": [
    {
     "name": "stdout",
     "output_type": "stream",
     "text": [
      "2\n"
     ]
    }
   ],
   "source": [
    "str = input()"
   ]
  },
  {
   "cell_type": "code",
   "execution_count": 10,
   "id": "05714888",
   "metadata": {},
   "outputs": [
    {
     "data": {
      "text/plain": [
       "'2'"
      ]
     },
     "execution_count": 10,
     "metadata": {},
     "output_type": "execute_result"
    }
   ],
   "source": [
    "str"
   ]
  },
  {
   "cell_type": "code",
   "execution_count": 11,
   "id": "92b85944",
   "metadata": {},
   "outputs": [],
   "source": [
    "li = []"
   ]
  },
  {
   "cell_type": "code",
   "execution_count": 12,
   "id": "89c2c9b6",
   "metadata": {},
   "outputs": [],
   "source": [
    "str_split = str.split(' ')"
   ]
  },
  {
   "cell_type": "code",
   "execution_count": 13,
   "id": "17a39936",
   "metadata": {},
   "outputs": [
    {
     "data": {
      "text/plain": [
       "['2']"
      ]
     },
     "execution_count": 13,
     "metadata": {},
     "output_type": "execute_result"
    }
   ],
   "source": [
    "str_split"
   ]
  },
  {
   "cell_type": "code",
   "execution_count": 14,
   "id": "3a8390ef",
   "metadata": {},
   "outputs": [
    {
     "data": {
      "text/plain": [
       "[2]"
      ]
     },
     "execution_count": 14,
     "metadata": {},
     "output_type": "execute_result"
    }
   ],
   "source": [
    "for ele in str_split:\n",
    "    li.append(int(ele))\n",
    "li"
   ]
  },
  {
   "cell_type": "code",
   "execution_count": 15,
   "id": "0529eb68",
   "metadata": {},
   "outputs": [
    {
     "name": "stdout",
     "output_type": "stream",
     "text": [
      "3\n"
     ]
    },
    {
     "data": {
      "text/plain": [
       "[3]"
      ]
     },
     "execution_count": 15,
     "metadata": {},
     "output_type": "execute_result"
    }
   ],
   "source": [
    "li = [int(x) for x in input().split()]\n",
    "li"
   ]
  },
  {
   "cell_type": "code",
   "execution_count": 16,
   "id": "18103711",
   "metadata": {},
   "outputs": [
    {
     "data": {
      "text/plain": [
       "[3]"
      ]
     },
     "execution_count": 16,
     "metadata": {},
     "output_type": "execute_result"
    }
   ],
   "source": [
    "li"
   ]
  },
  {
   "cell_type": "code",
   "execution_count": 18,
   "id": "f1a66526",
   "metadata": {},
   "outputs": [
    {
     "name": "stdout",
     "output_type": "stream",
     "text": [
      "2\n",
      "2 3 4\n"
     ]
    },
    {
     "data": {
      "text/plain": [
       "5"
      ]
     },
     "execution_count": 18,
     "metadata": {},
     "output_type": "execute_result"
    }
   ],
   "source": [
    "n = int(input())\n",
    "li = input()\n",
    "Sum = 0\n",
    "str_split = li.split()\n",
    "for i in range(n):\n",
    "    curr = int(str_split[i])\n",
    "    Sum = Sum + curr\n",
    "Sum"
   ]
  },
  {
   "cell_type": "code",
   "execution_count": 19,
   "id": "9b9ffb69",
   "metadata": {},
   "outputs": [
    {
     "data": {
      "text/plain": [
       "[6, 5, 4, 3, 2, 1]"
      ]
     },
     "execution_count": 19,
     "metadata": {},
     "output_type": "execute_result"
    }
   ],
   "source": [
    "def reverse_list(li):\n",
    "    length = len(li)\n",
    "    for i in range(length//2):\n",
    "        li[i],li[length-i-1] = li[length-i-1],li[i]\n",
    "    return li\n",
    "\n",
    "li = [1,2,3,4,5,6]\n",
    "reverse_list(li)"
   ]
  },
  {
   "cell_type": "code",
   "execution_count": 20,
   "id": "23a582e6",
   "metadata": {},
   "outputs": [
    {
     "name": "stdout",
     "output_type": "stream",
     "text": [
      "[1, 4, 3, 4, 5]\n"
     ]
    }
   ],
   "source": [
    "def change(li):\n",
    "    li[1] = li[1] + 2\n",
    "    li = [3,3,3,4,5]\n",
    "li = [1,2,3,4,5]\n",
    "change(li)\n",
    "print(li)"
   ]
  },
  {
   "cell_type": "code",
   "execution_count": 21,
   "id": "cdc6bdc7",
   "metadata": {},
   "outputs": [
    {
     "name": "stdout",
     "output_type": "stream",
     "text": [
      "[9, 3, 6, 12, 4, 32]\n"
     ]
    }
   ],
   "source": [
    "def swapAlternate(arr, n) :\n",
    "    #Your code goes here\n",
    "    i = 0\n",
    "    while n>i:\n",
    "        arr[i],arr[i+1] = arr[i+1],arr[i]\n",
    "        i = i+2\n",
    "        n = n-1\n",
    "li = [9,3,6,12,4,32]\n",
    "print(li)\n",
    "swapAlternate(li,6)"
   ]
  },
  {
   "cell_type": "code",
   "execution_count": 22,
   "id": "1bc97547",
   "metadata": {},
   "outputs": [
    {
     "name": "stdout",
     "output_type": "stream",
     "text": [
      "2 3\n",
      "3 2\n"
     ]
    }
   ],
   "source": [
    "a = 2\n",
    "b = 3\n",
    "print(a,b)\n",
    "a,b=b,a\n",
    "print(a,b)"
   ]
  },
  {
   "cell_type": "code",
   "execution_count": 23,
   "id": "d62e56f3",
   "metadata": {},
   "outputs": [
    {
     "data": {
      "text/plain": [
       "4"
      ]
     },
     "execution_count": 23,
     "metadata": {},
     "output_type": "execute_result"
    }
   ],
   "source": [
    "def findUnique(arr, n):\n",
    "    #Your code goes here\n",
    "    for n in arr:\n",
    "        if arr.count(n) == 1:\n",
    "            return n\n",
    "        \n",
    "li = [2,4,7,2,7]\n",
    "findUnique(li,3)"
   ]
  },
  {
   "cell_type": "code",
   "execution_count": 24,
   "id": "0a602e13",
   "metadata": {},
   "outputs": [
    {
     "name": "stdout",
     "output_type": "stream",
     "text": [
      "2 1 2 "
     ]
    }
   ],
   "source": [
    "import sys\n",
    "def intersections(arr1, n, arr2, m) :\n",
    "    \n",
    "    for i in range(n) :\n",
    "        for j in range(m) :\n",
    "            if arr1[i] == arr2[j] :\n",
    "                print(arr1[i], end = \" \")\n",
    "                arr2[j] = sys.maxsize\n",
    "                break\n",
    "arr1 = [2, 6, 1, 2]\n",
    "n = len(arr1)\n",
    "arr2 = [1, 2, 3, 4, 2]\n",
    "m = len(arr2)\n",
    "intersections(arr1, n, arr2, m)"
   ]
  },
  {
   "cell_type": "raw",
   "id": "a8a58af5",
   "metadata": {},
   "source": [
    "9\n",
    "1 3 6 2 5 4 3 2 4\n",
    "7\n",
    "\n",
    "1. 3 6\n",
    "2. 5 4\n",
    "3. 6 3\n",
    "4. 5 4\n"
   ]
  },
  {
   "cell_type": "code",
   "execution_count": 26,
   "id": "14328b6a",
   "metadata": {},
   "outputs": [
    {
     "name": "stdout",
     "output_type": "stream",
     "text": [
      "1 ---> 0 5 -----> 4\n",
      "1\n",
      "3 ---> 1 3 -----> 6\n",
      "2\n",
      "2 ---> 3 4 -----> 5\n",
      "3\n",
      "2 ---> 3 4 -----> 8\n",
      "4\n",
      "4 ---> 5 2 -----> 7\n",
      "5\n",
      "2 ---> 7 4 -----> 8\n",
      "6\n",
      "6\n"
     ]
    }
   ],
   "source": [
    "lst = [1,3,6,2,5,4,3,2,4]\n",
    "n = len(lst)\n",
    "count = 0\n",
    "x = 6\n",
    "for i in range(n):\n",
    "    for j in range(i+1,n):\n",
    "        if lst[i] + lst[j] == x:\n",
    "            print(lst[i],\"--->\",i,lst[j],\"----->\",j)\n",
    "            count += 1\n",
    "            print(count)\n",
    "print(count)"
   ]
  },
  {
   "cell_type": "code",
   "execution_count": 27,
   "id": "24ad09a7",
   "metadata": {},
   "outputs": [
    {
     "data": {
      "text/plain": [
       "[0, 0, 0, 1, 1, 1, 1]"
      ]
     },
     "execution_count": 27,
     "metadata": {},
     "output_type": "execute_result"
    }
   ],
   "source": [
    "def sortZeroesAndOne(arr, n):\n",
    "    #Your code goes here \n",
    "    count_0 = 0\n",
    "    count_1 = 0\n",
    "    for i in range(n):\n",
    "        if arr[i] == 0:\n",
    "            count_0 += 1\n",
    "        if arr[i] == 1:\n",
    "            count_1 += 1\n",
    "    for i in range(0,count_0):\n",
    "        arr[i] = 0\n",
    "    for j in range(count_0,count_0+count_1):\n",
    "        arr[j] = 1\n",
    "    return arr\n",
    "\n",
    "n = 7\n",
    "arr = [0,1,1,0,1,0,1]\n",
    "sortZeroesAndOne(arr, n)"
   ]
  },
  {
   "cell_type": "code",
   "execution_count": 28,
   "id": "5e46aa02",
   "metadata": {},
   "outputs": [
    {
     "name": "stdout",
     "output_type": "stream",
     "text": [
      "0\n",
      "1\n",
      "2\n",
      "true\n"
     ]
    }
   ],
   "source": [
    "def isPalindrome(string) :\n",
    "\n",
    "    n = len(string)//2\n",
    "    flag = \"none\"\n",
    "    for i in range(n):\n",
    "        if string[i] == string[len(string)-i-1]:\n",
    "            print(i)\n",
    "            flag = True\n",
    "        else:\n",
    "            flag = False\n",
    "    return flag\n",
    "\n",
    "string = \"abcdcba\"\n",
    "ans = isPalindrome(string)\n",
    "\n",
    "if ans :\n",
    "    print('true')\n",
    "else :\n",
    "    print('false')"
   ]
  },
  {
   "cell_type": "code",
   "execution_count": 29,
   "id": "dc3e46b6",
   "metadata": {},
   "outputs": [
    {
     "data": {
      "text/plain": [
       "[1, 4, 9]"
      ]
     },
     "execution_count": 29,
     "metadata": {},
     "output_type": "execute_result"
    }
   ],
   "source": [
    "li = [1,2,3]\n",
    "new_list = []\n",
    "for i in li:\n",
    "    new_list.append(i**2)\n",
    "new_list"
   ]
  },
  {
   "cell_type": "code",
   "execution_count": 30,
   "id": "815678d6",
   "metadata": {},
   "outputs": [
    {
     "data": {
      "text/plain": [
       "[1, 4, 9]"
      ]
     },
     "execution_count": 30,
     "metadata": {},
     "output_type": "execute_result"
    }
   ],
   "source": [
    "new_list_c = [i**2 for i in li]\n",
    "new_list_c"
   ]
  },
  {
   "cell_type": "code",
   "execution_count": 31,
   "id": "8ccffeb3",
   "metadata": {},
   "outputs": [
    {
     "data": {
      "text/plain": [
       "[4, 16, 36]"
      ]
     },
     "execution_count": 31,
     "metadata": {},
     "output_type": "execute_result"
    }
   ],
   "source": [
    "li = [1,2,3,4,5,6]\n",
    "new_list_even = [ele**2 for ele in li if ele%2==0]\n",
    "new_list_even"
   ]
  },
  {
   "cell_type": "code",
   "execution_count": 32,
   "id": "e0511ebe",
   "metadata": {},
   "outputs": [
    {
     "data": {
      "text/plain": [
       "[36, 144, 324]"
      ]
     },
     "execution_count": 32,
     "metadata": {},
     "output_type": "execute_result"
    }
   ],
   "source": [
    "li = [1,2,3,4,5,6,7,8,9,12,18]\n",
    "new_l = []\n",
    "for ele in li:\n",
    "    if ele%2==0:\n",
    "        if ele%3==0:\n",
    "            new_l.append(ele**2)\n",
    "new_l"
   ]
  },
  {
   "cell_type": "code",
   "execution_count": 33,
   "id": "98575982",
   "metadata": {},
   "outputs": [
    {
     "data": {
      "text/plain": [
       "[36, 144, 324]"
      ]
     },
     "execution_count": 33,
     "metadata": {},
     "output_type": "execute_result"
    }
   ],
   "source": [
    "new_lst = [ele**2 for ele in li if ele%2==0 if ele%3==0]\n",
    "new_lst"
   ]
  },
  {
   "cell_type": "code",
   "execution_count": 34,
   "id": "fe57553a",
   "metadata": {},
   "outputs": [
    {
     "data": {
      "text/plain": [
       "[1, 2, 3, 4, 5, 6]"
      ]
     },
     "execution_count": 34,
     "metadata": {},
     "output_type": "execute_result"
    }
   ],
   "source": [
    "li_1 = [1,2,3,4,5,6,7,8,9,12,18]\n",
    "li_2 = [1,2,3,4,5,6]\n",
    "li_intersection = []\n",
    "\n",
    "for ele_1 in li_1:\n",
    "    for ele_2 in li_2:\n",
    "        if ele_1 == ele_2:\n",
    "            li_intersection.append(ele_1)\n",
    "li_intersection"
   ]
  },
  {
   "cell_type": "code",
   "execution_count": 35,
   "id": "a6295715",
   "metadata": {},
   "outputs": [
    {
     "data": {
      "text/plain": [
       "[1, 2, 3, 4, 5, 6]"
      ]
     },
     "execution_count": 35,
     "metadata": {},
     "output_type": "execute_result"
    }
   ],
   "source": [
    "li_1 = [1,2,3,4,5,6,7,8,9,12,18]\n",
    "li_2 = [1,2,3,4,5,6]\n",
    "li_intersection_c = [ele_1 for ele_1 in li_1 for ele_2 in li_2 if ele_1==ele_2]\n",
    "li_intersection_c"
   ]
  },
  {
   "cell_type": "code",
   "execution_count": 36,
   "id": "fe46dd3d",
   "metadata": {},
   "outputs": [
    {
     "data": {
      "text/plain": [
       "[1, 4, 3, 16, 5, 36]"
      ]
     },
     "execution_count": 36,
     "metadata": {},
     "output_type": "execute_result"
    }
   ],
   "source": [
    "li = [1,2,3,4,5,6]\n",
    "new_li = [ele**2 if ele%2==0 else ele for ele in li]\n",
    "new_li"
   ]
  },
  {
   "cell_type": "code",
   "execution_count": 37,
   "id": "5ce6be0c",
   "metadata": {},
   "outputs": [
    {
     "data": {
      "text/plain": [
       "['F',\n",
       " 'a',\n",
       " 'z',\n",
       " 'l',\n",
       " 'u',\n",
       " 'l',\n",
       " 'l',\n",
       " 'a',\n",
       " 'h',\n",
       " ' ',\n",
       " 'B',\n",
       " 'o',\n",
       " 'k',\n",
       " 'h',\n",
       " 'a',\n",
       " 'r',\n",
       " 'i']"
      ]
     },
     "execution_count": 37,
     "metadata": {},
     "output_type": "execute_result"
    }
   ],
   "source": [
    "name = \"Fazlullah Bokhari\"\n",
    "nlist = [ch for ch in name]\n",
    "nlist"
   ]
  },
  {
   "cell_type": "code",
   "execution_count": 38,
   "id": "6c02d34e",
   "metadata": {},
   "outputs": [
    {
     "data": {
      "text/plain": [
       "[['M', 'r', '.'],\n",
       " ['F', 'a', 'z', 'l', 'u', 'l', 'l', 'a', 'h'],\n",
       " ['B', 'o', 'k', 'h', 'a', 'r', 'i']]"
      ]
     },
     "execution_count": 38,
     "metadata": {},
     "output_type": "execute_result"
    }
   ],
   "source": [
    "name = [\"Mr.\",\"Fazlullah\",\"Bokhari\"]\n",
    "list_chr = [[ch for ch in ele] for ele in name]\n",
    "list_chr"
   ]
  },
  {
   "cell_type": "code",
   "execution_count": 39,
   "id": "ef63b6f1",
   "metadata": {},
   "outputs": [
    {
     "name": "stdout",
     "output_type": "stream",
     "text": [
      "2 3\n",
      "1 2 3\n",
      "1 4 7 8\n"
     ]
    },
    {
     "data": {
      "text/plain": [
       "[[1, 2, 3], [1, 4, 7, 8]]"
      ]
     },
     "execution_count": 39,
     "metadata": {},
     "output_type": "execute_result"
    }
   ],
   "source": [
    "lst = input().split()\n",
    "n,m = int(lst[0]),int(lst[1])\n",
    "two_d_list = [[int(j) for j in input().split()] for i in range(n)]\n",
    "two_d_list"
   ]
  },
  {
   "cell_type": "code",
   "execution_count": 45,
   "id": "2151f8b7",
   "metadata": {},
   "outputs": [
    {
     "name": "stdout",
     "output_type": "stream",
     "text": [
      "3 2\n",
      "1 2 3 4 5 6\n"
     ]
    },
    {
     "data": {
      "text/plain": [
       "[[1, 2], [3, 4], [5, 6]]"
      ]
     },
     "execution_count": 45,
     "metadata": {},
     "output_type": "execute_result"
    }
   ],
   "source": [
    "st = input().split()\n",
    "n,m = int(st[0]),int(st[1])\n",
    "b = input().split()\n",
    "\n",
    "result = [[int(b[m*i+j]) for j in range(m)] for i in range(n)]\n",
    "result"
   ]
  },
  {
   "cell_type": "code",
   "execution_count": 46,
   "id": "3030b847",
   "metadata": {},
   "outputs": [
    {
     "name": "stdout",
     "output_type": "stream",
     "text": [
      "3 4 1 2 3 4 5 6 7 8 9 10 11 12\n"
     ]
    },
    {
     "data": {
      "text/plain": [
       "[[1, 2, 3, 4], [5, 6, 7, 8], [9, 10, 11, 12]]"
      ]
     },
     "execution_count": 46,
     "metadata": {},
     "output_type": "execute_result"
    }
   ],
   "source": [
    "st = input().split()\n",
    "n,m = int(st[0]),int(st[1])\n",
    "b = st[2:]\n",
    "\n",
    "result = [[int(b[m*i+j]) for j in range(m)] for i in range(n)]\n",
    "result"
   ]
  },
  {
   "cell_type": "code",
   "execution_count": 47,
   "id": "fd5239a1",
   "metadata": {},
   "outputs": [
    {
     "data": {
      "text/plain": [
       "'f12a12z12l12u12l12l12a12h'"
      ]
     },
     "execution_count": 47,
     "metadata": {},
     "output_type": "execute_result"
    }
   ],
   "source": [
    "\"12\".join(\"fazlullah\")"
   ]
  },
  {
   "cell_type": "code",
   "execution_count": 51,
   "id": "931368da",
   "metadata": {},
   "outputs": [
    {
     "name": "stdout",
     "output_type": "stream",
     "text": [
      "1 2 3 4 \n",
      "5 6 7 8 \n",
      "9 10 11 12 \n"
     ]
    }
   ],
   "source": [
    "result = [[1, 2, 3, 4], [5, 6, 7, 8], [9, 10, 11, 12]]\n",
    "\n",
    "for row in result:\n",
    "    for col in row:\n",
    "        print(col,end=\" \")\n",
    "    print()"
   ]
  },
  {
   "cell_type": "code",
   "execution_count": 1,
   "id": "89d84548",
   "metadata": {},
   "outputs": [
    {
     "name": "stdout",
     "output_type": "stream",
     "text": [
      "1 2 3 4\n",
      "5 6 7 8\n",
      "9 10 11 12\n"
     ]
    }
   ],
   "source": [
    "result = [[1, 2, 3, 4], [5, 6, 7, 8], [9, 10, 11, 12]]\n",
    "\n",
    "for row in result:\n",
    "    output = \" \".join([str(ele) for ele in row])\n",
    "    print(output)"
   ]
  },
  {
   "cell_type": "code",
   "execution_count": 6,
   "id": "1be86ee3",
   "metadata": {},
   "outputs": [
    {
     "name": "stdout",
     "output_type": "stream",
     "text": [
      "24 3\n"
     ]
    }
   ],
   "source": [
    "def lar_col_sum(lst):\n",
    "    row = len(lst)\n",
    "    col = len(lst[0])\n",
    "    \n",
    "    max_sum = -1\n",
    "    max_col_index = -1\n",
    "    for j in range(col):\n",
    "        Sum = 0\n",
    "        for i in range(row):\n",
    "            Sum = Sum + lst[i][j]\n",
    "        if Sum>max_sum:\n",
    "            max_col_index = j\n",
    "            max_sum = Sum\n",
    "    return max_sum,max_col_index\n",
    "            \n",
    "\n",
    "result = [[1, 2, 3, 4], [5, 6, 7, 8], [9, 10, 11, 12]]\n",
    "col_sum,lar_col_index = lar_col_sum(result)\n",
    "print(col_sum,lar_col_index)"
   ]
  },
  {
   "cell_type": "code",
   "execution_count": 8,
   "id": "0d0f8872",
   "metadata": {},
   "outputs": [
    {
     "name": "stdout",
     "output_type": "stream",
     "text": [
      "24 3\n"
     ]
    }
   ],
   "source": [
    "def lar_col_sum(lst):\n",
    "    row = len(lst)\n",
    "    col = len(lst[0])\n",
    "    \n",
    "    max_sum = -1\n",
    "    max_col_index = -1\n",
    "    for j in range(col):\n",
    "        Sum = 0\n",
    "        for ele in lst:\n",
    "            Sum = Sum + ele[j]\n",
    "        if Sum>max_sum:\n",
    "            max_col_index = j\n",
    "            max_sum = Sum\n",
    "    return max_sum,max_col_index\n",
    "            \n",
    "\n",
    "result = [[1, 2, 3, 4], [5, 6, 7, 8], [9, 10, 11, 12]]\n",
    "col_sum,lar_col_index = lar_col_sum(result)\n",
    "print(col_sum,lar_col_index)"
   ]
  },
  {
   "cell_type": "code",
   "execution_count": 9,
   "id": "426bf446",
   "metadata": {},
   "outputs": [
    {
     "name": "stdout",
     "output_type": "stream",
     "text": [
      "21 3\n"
     ]
    }
   ],
   "source": [
    "def lar_Col_Sum(li):\n",
    "    n=len(li)\n",
    "    m=len(li[0])\n",
    "    max_sum=-1\n",
    "    max_col_Index=-1\n",
    "    for j in range(m):#going through each column\n",
    "        sum=0\n",
    "        for ele in li:\n",
    "            sum+=ele[j]\n",
    "        if sum>max_sum:\n",
    "            max_col_index=j\n",
    "            max_sum=sum\n",
    "    return max_sum,max_col_index\n",
    "        \n",
    "li=[[1,2,3,4],[8,7,6,5],[9,10,11,12]]\n",
    "lar_sum,lar_col_index=lar_Col_Sum(li)\n",
    "print(lar_sum,lar_col_index)"
   ]
  },
  {
   "cell_type": "code",
   "execution_count": null,
   "id": "21fa3430",
   "metadata": {},
   "outputs": [],
   "source": []
  },
  {
   "cell_type": "code",
   "execution_count": null,
   "id": "78b07ba3",
   "metadata": {},
   "outputs": [],
   "source": [
    "def rowWiseSum(mat, nRows, mCols):\n",
    "    #Your code goes here\n",
    "    sum_list = []\n",
    "    sum_row = 0\n",
    "    \n",
    "    for i in range(nRows):\n",
    "        for j in range(mCols):\n",
    "            sum_row = sum_row + mat[i][j]\n",
    "        sum_list.append(sum_row)\n",
    "        sum_row = 0\n",
    "    for ele in sum_list:\n",
    "        print(ele,end=\" \")\n",
    "mat = [[1,2,3,4],[5,6,7,8],[9,10,11,12]]\n",
    "n = 3\n",
    "m = 4\n",
    "rowWiseSum(mat, n, m)"
   ]
  },
  {
   "cell_type": "code",
   "execution_count": null,
   "id": "f37b33b9",
   "metadata": {},
   "outputs": [],
   "source": [
    "st = input().split()\n",
    "n,m = int(st[0]), int(st[1])\n",
    "b = input().split()\n",
    "arr = [[ int(b[m*i+j]) for j in range(m)] for i in range(n)]\n",
    "arr"
   ]
  },
  {
   "cell_type": "code",
   "execution_count": null,
   "id": "0f68b1bd",
   "metadata": {},
   "outputs": [],
   "source": []
  }
 ],
 "metadata": {
  "kernelspec": {
   "display_name": "Python 3",
   "language": "python",
   "name": "python3"
  },
  "language_info": {
   "codemirror_mode": {
    "name": "ipython",
    "version": 3
   },
   "file_extension": ".py",
   "mimetype": "text/x-python",
   "name": "python",
   "nbconvert_exporter": "python",
   "pygments_lexer": "ipython3",
   "version": "3.8.8"
  }
 },
 "nbformat": 4,
 "nbformat_minor": 5
}
