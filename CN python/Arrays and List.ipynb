{
 "cells": [
  {
   "cell_type": "code",
   "execution_count": 3,
   "id": "a0b533d3",
   "metadata": {},
   "outputs": [
    {
     "name": "stdout",
     "output_type": "stream",
     "text": [
      "['abcd', 'def', 5]\n"
     ]
    }
   ],
   "source": [
    "li =['abcd','def']\n",
    "li.insert(4,5)\n",
    "print(li)"
   ]
  },
  {
   "cell_type": "code",
   "execution_count": 4,
   "id": "185e8775",
   "metadata": {},
   "outputs": [
    {
     "name": "stdout",
     "output_type": "stream",
     "text": [
      "['abcd', 'def', 5]\n"
     ]
    }
   ],
   "source": [
    "li = ['abcd',5,'def',5]\n",
    "li.remove(5)\n",
    "print(li)"
   ]
  },
  {
   "cell_type": "code",
   "execution_count": 6,
   "id": "bff1b63e",
   "metadata": {},
   "outputs": [
    {
     "name": "stdout",
     "output_type": "stream",
     "text": [
      "[5, 2, 8]\n",
      "[5, 2, 8, 10]\n"
     ]
    }
   ],
   "source": [
    "li = [5,2,6,8]\n",
    "li.pop(2)\n",
    "print(li)\n",
    "li.append(10)\n",
    "print(li)"
   ]
  },
  {
   "cell_type": "code",
   "execution_count": 2,
   "id": "ba3f56a1",
   "metadata": {},
   "outputs": [
    {
     "name": "stdout",
     "output_type": "stream",
     "text": [
      "5\n",
      "10\n",
      "12\n",
      "13\n",
      "45\n",
      "65\n"
     ]
    }
   ],
   "source": [
    "li = []\n",
    "n = int(input())\n",
    "for i in range(n):\n",
    "    curr = int(input())\n",
    "    li.append(curr)"
   ]
  },
  {
   "cell_type": "code",
   "execution_count": 3,
   "id": "e263c8cf",
   "metadata": {},
   "outputs": [
    {
     "data": {
      "text/plain": [
       "[10, 12, 13, 45, 65]"
      ]
     },
     "execution_count": 3,
     "metadata": {},
     "output_type": "execute_result"
    }
   ],
   "source": [
    "li"
   ]
  },
  {
   "cell_type": "code",
   "execution_count": 4,
   "id": "d6ec6ed4",
   "metadata": {},
   "outputs": [
    {
     "name": "stdout",
     "output_type": "stream",
     "text": [
      "10\n",
      "12\n",
      "13\n",
      "45\n",
      "65\n"
     ]
    }
   ],
   "source": [
    "for ele in li:\n",
    "    print(ele)"
   ]
  },
  {
   "cell_type": "code",
   "execution_count": 5,
   "id": "f473b676",
   "metadata": {},
   "outputs": [
    {
     "name": "stdout",
     "output_type": "stream",
     "text": [
      "5\n",
      "1\n",
      "2\n",
      "3\n",
      "4\n",
      "5\n"
     ]
    }
   ],
   "source": [
    "li = []\n",
    "n = int(input())\n",
    "for i in range(n):\n",
    "    curr = input()\n",
    "    li.append(curr)"
   ]
  },
  {
   "cell_type": "code",
   "execution_count": 6,
   "id": "ea93aa2f",
   "metadata": {},
   "outputs": [
    {
     "data": {
      "text/plain": [
       "['1', '2', '3', '4', '5']"
      ]
     },
     "execution_count": 6,
     "metadata": {},
     "output_type": "execute_result"
    }
   ],
   "source": [
    "li"
   ]
  },
  {
   "cell_type": "code",
   "execution_count": 7,
   "id": "9e90f4ef",
   "metadata": {},
   "outputs": [
    {
     "name": "stdout",
     "output_type": "stream",
     "text": [
      "1 2 3 4 5\n"
     ]
    }
   ],
   "source": [
    "str = input()"
   ]
  },
  {
   "cell_type": "code",
   "execution_count": 8,
   "id": "05714888",
   "metadata": {},
   "outputs": [
    {
     "data": {
      "text/plain": [
       "'1 2 3 4 5'"
      ]
     },
     "execution_count": 8,
     "metadata": {},
     "output_type": "execute_result"
    }
   ],
   "source": [
    "str"
   ]
  },
  {
   "cell_type": "code",
   "execution_count": 9,
   "id": "92b85944",
   "metadata": {},
   "outputs": [],
   "source": [
    "li = []"
   ]
  },
  {
   "cell_type": "code",
   "execution_count": 10,
   "id": "89c2c9b6",
   "metadata": {},
   "outputs": [],
   "source": [
    "str_split = str.split(' ')"
   ]
  },
  {
   "cell_type": "code",
   "execution_count": 11,
   "id": "17a39936",
   "metadata": {},
   "outputs": [
    {
     "data": {
      "text/plain": [
       "['1', '2', '3', '4', '5']"
      ]
     },
     "execution_count": 11,
     "metadata": {},
     "output_type": "execute_result"
    }
   ],
   "source": [
    "str_split"
   ]
  },
  {
   "cell_type": "code",
   "execution_count": 12,
   "id": "3a8390ef",
   "metadata": {},
   "outputs": [
    {
     "data": {
      "text/plain": [
       "[1, 2, 3, 4, 5]"
      ]
     },
     "execution_count": 12,
     "metadata": {},
     "output_type": "execute_result"
    }
   ],
   "source": [
    "for ele in str_split:\n",
    "    li.append(int(ele))\n",
    "li"
   ]
  },
  {
   "cell_type": "code",
   "execution_count": 15,
   "id": "0529eb68",
   "metadata": {},
   "outputs": [
    {
     "name": "stdout",
     "output_type": "stream",
     "text": [
      "1 2 3 4 5 6 7 8 9 10\n"
     ]
    },
    {
     "data": {
      "text/plain": [
       "[1, 2, 3, 4, 5, 6, 7, 8, 9, 10]"
      ]
     },
     "execution_count": 15,
     "metadata": {},
     "output_type": "execute_result"
    }
   ],
   "source": [
    "li = [int(x) for x in input().split()]\n",
    "li"
   ]
  },
  {
   "cell_type": "code",
   "execution_count": 16,
   "id": "18103711",
   "metadata": {},
   "outputs": [
    {
     "data": {
      "text/plain": [
       "[1, 2, 3, 4, 5, 6, 7, 8, 9, 10]"
      ]
     },
     "execution_count": 16,
     "metadata": {},
     "output_type": "execute_result"
    }
   ],
   "source": [
    "li"
   ]
  },
  {
   "cell_type": "code",
   "execution_count": 19,
   "id": "f1a66526",
   "metadata": {},
   "outputs": [
    {
     "name": "stdout",
     "output_type": "stream",
     "text": [
      "5\n",
      "1 2 3 4 5\n"
     ]
    },
    {
     "data": {
      "text/plain": [
       "15"
      ]
     },
     "execution_count": 19,
     "metadata": {},
     "output_type": "execute_result"
    }
   ],
   "source": [
    "n = int(input())\n",
    "li = input()\n",
    "Sum = 0\n",
    "str_split = li.split()\n",
    "for i in range(n):\n",
    "    curr = int(str_split[i])\n",
    "    Sum = Sum + curr\n",
    "Sum"
   ]
  },
  {
   "cell_type": "code",
   "execution_count": 21,
   "id": "9b9ffb69",
   "metadata": {},
   "outputs": [
    {
     "data": {
      "text/plain": [
       "[6, 5, 4, 3, 2, 1]"
      ]
     },
     "execution_count": 21,
     "metadata": {},
     "output_type": "execute_result"
    }
   ],
   "source": [
    "def reverse_list(li):\n",
    "    length = len(li)\n",
    "    for i in range(length//2):\n",
    "        li[i],li[length-i-1] = li[length-i-1],li[i]\n",
    "    return li\n",
    "\n",
    "li = [1,2,3,4,5,6]\n",
    "reverse_list(li)"
   ]
  },
  {
   "cell_type": "code",
   "execution_count": 22,
   "id": "23a582e6",
   "metadata": {},
   "outputs": [
    {
     "name": "stdout",
     "output_type": "stream",
     "text": [
      "[1, 4, 3, 4, 5]\n"
     ]
    }
   ],
   "source": [
    "def change(li):\n",
    "    li[1] = li[1] + 2\n",
    "    li = [3,3,3,4,5]\n",
    "li = [1,2,3,4,5]\n",
    "change(li)\n",
    "print(li)"
   ]
  },
  {
   "cell_type": "code",
   "execution_count": null,
   "id": "cdc6bdc7",
   "metadata": {},
   "outputs": [],
   "source": []
  }
 ],
 "metadata": {
  "kernelspec": {
   "display_name": "Python 3",
   "language": "python",
   "name": "python3"
  },
  "language_info": {
   "codemirror_mode": {
    "name": "ipython",
    "version": 3
   },
   "file_extension": ".py",
   "mimetype": "text/x-python",
   "name": "python",
   "nbconvert_exporter": "python",
   "pygments_lexer": "ipython3",
   "version": "3.8.8"
  }
 },
 "nbformat": 4,
 "nbformat_minor": 5
}
