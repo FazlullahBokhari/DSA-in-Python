{
 "cells": [
  {
   "cell_type": "code",
   "execution_count": 1,
   "id": "65dfccbb",
   "metadata": {},
   "outputs": [],
   "source": [
    "def fact(n):\n",
    "    if n==0:\n",
    "        return 1\n",
    "    return n*fact(n-1)"
   ]
  },
  {
   "cell_type": "code",
   "execution_count": 2,
   "id": "dd64d917",
   "metadata": {},
   "outputs": [
    {
     "data": {
      "text/plain": [
       "120"
      ]
     },
     "execution_count": 2,
     "metadata": {},
     "output_type": "execute_result"
    }
   ],
   "source": [
    "fact(5)"
   ]
  },
  {
   "cell_type": "code",
   "execution_count": 5,
   "id": "6266d8e2",
   "metadata": {},
   "outputs": [],
   "source": [
    "def sum_natural_number(x):\n",
    "    if x==0:\n",
    "        return 0\n",
    "    return x+sum_natural_number(x-1)"
   ]
  },
  {
   "cell_type": "code",
   "execution_count": 6,
   "id": "134e6dd4",
   "metadata": {},
   "outputs": [
    {
     "data": {
      "text/plain": [
       "55"
      ]
     },
     "execution_count": 6,
     "metadata": {},
     "output_type": "execute_result"
    }
   ],
   "source": [
    "sum_natural_number(10)"
   ]
  },
  {
   "cell_type": "code",
   "execution_count": 7,
   "id": "1cb2f4aa",
   "metadata": {},
   "outputs": [],
   "source": [
    "def x_pow_y(x,y):\n",
    "    if x==0:\n",
    "        return 0\n",
    "    if x==1:\n",
    "        return 1\n",
    "    if y==0:\n",
    "        return 1\n",
    "    if y==1:\n",
    "        return x\n",
    "    return x*x_pow_y(x,y-1)"
   ]
  },
  {
   "cell_type": "code",
   "execution_count": 9,
   "id": "67885fef",
   "metadata": {},
   "outputs": [
    {
     "data": {
      "text/plain": [
       "32"
      ]
     },
     "execution_count": 9,
     "metadata": {},
     "output_type": "execute_result"
    }
   ],
   "source": [
    "x_pow_y(2,5)"
   ]
  },
  {
   "cell_type": "code",
   "execution_count": null,
   "id": "e3819650",
   "metadata": {},
   "outputs": [],
   "source": []
  }
 ],
 "metadata": {
  "kernelspec": {
   "display_name": "Python 3 (ipykernel)",
   "language": "python",
   "name": "python3"
  },
  "language_info": {
   "codemirror_mode": {
    "name": "ipython",
    "version": 3
   },
   "file_extension": ".py",
   "mimetype": "text/x-python",
   "name": "python",
   "nbconvert_exporter": "python",
   "pygments_lexer": "ipython3",
   "version": "3.9.13"
  }
 },
 "nbformat": 4,
 "nbformat_minor": 5
}
