{
 "cells": [
  {
   "cell_type": "code",
   "execution_count": 28,
   "id": "1b6f85ff",
   "metadata": {},
   "outputs": [],
   "source": [
    "class ExpenseTracker:\n",
    "    # class attribute\n",
    "    version_application = 0.1\n",
    "    \"\"\"This is a class to do expense trackin\"\"\" \n",
    "    def __init__(self,date, description, transaction_type, amount):\n",
    "        # Instance/Object Attribute\n",
    "        self.data = date\n",
    "        self.description = description \n",
    "        self.transaction_type = transaction_type \n",
    "        self.amount = amount"
   ]
  },
  {
   "cell_type": "code",
   "execution_count": 29,
   "id": "af7e9ebc",
   "metadata": {},
   "outputs": [],
   "source": [
    "obj2 = ExpenseTracker(\"12Jan\",\"ExpenseTracker\",\"Debit\",\"500\")"
   ]
  },
  {
   "cell_type": "code",
   "execution_count": 30,
   "id": "630075e6",
   "metadata": {},
   "outputs": [
    {
     "data": {
      "text/plain": [
       "<__main__.ExpenseTracker at 0x202e87d6910>"
      ]
     },
     "execution_count": 30,
     "metadata": {},
     "output_type": "execute_result"
    }
   ],
   "source": [
    "obj2"
   ]
  },
  {
   "cell_type": "code",
   "execution_count": 31,
   "id": "c3955686",
   "metadata": {},
   "outputs": [
    {
     "data": {
      "text/plain": [
       "'500'"
      ]
     },
     "execution_count": 31,
     "metadata": {},
     "output_type": "execute_result"
    }
   ],
   "source": [
    "obj2.amount"
   ]
  },
  {
   "cell_type": "code",
   "execution_count": 32,
   "id": "3f0103b5",
   "metadata": {},
   "outputs": [
    {
     "data": {
      "text/plain": [
       "{'data': '12Jan',\n",
       " 'description': 'ExpenseTracker',\n",
       " 'transaction_type': 'Debit',\n",
       " 'amount': '500'}"
      ]
     },
     "execution_count": 32,
     "metadata": {},
     "output_type": "execute_result"
    }
   ],
   "source": [
    "obj2.__dict__"
   ]
  },
  {
   "cell_type": "code",
   "execution_count": 33,
   "id": "28f80321",
   "metadata": {},
   "outputs": [
    {
     "data": {
      "text/plain": [
       "'500'"
      ]
     },
     "execution_count": 33,
     "metadata": {},
     "output_type": "execute_result"
    }
   ],
   "source": [
    "getattr(obj2,'amount')"
   ]
  },
  {
   "cell_type": "code",
   "execution_count": 34,
   "id": "0639ccd5",
   "metadata": {},
   "outputs": [
    {
     "ename": "AttributeError",
     "evalue": "'ExpenseTracker' object has no attribute 'faiz'",
     "output_type": "error",
     "traceback": [
      "\u001b[1;31m---------------------------------------------------------------------------\u001b[0m",
      "\u001b[1;31mAttributeError\u001b[0m                            Traceback (most recent call last)",
      "\u001b[1;32m~\\AppData\\Local\\Temp\\ipykernel_10140\\4208866778.py\u001b[0m in \u001b[0;36m<module>\u001b[1;34m\u001b[0m\n\u001b[1;32m----> 1\u001b[1;33m \u001b[0mgetattr\u001b[0m\u001b[1;33m(\u001b[0m\u001b[0mobj2\u001b[0m\u001b[1;33m,\u001b[0m\u001b[1;34m\"faiz\"\u001b[0m\u001b[1;33m)\u001b[0m\u001b[1;33m\u001b[0m\u001b[1;33m\u001b[0m\u001b[0m\n\u001b[0m",
      "\u001b[1;31mAttributeError\u001b[0m: 'ExpenseTracker' object has no attribute 'faiz'"
     ]
    }
   ],
   "source": [
    "getattr(obj2,\"faiz\")"
   ]
  },
  {
   "cell_type": "code",
   "execution_count": 35,
   "id": "63d96a67",
   "metadata": {},
   "outputs": [
    {
     "data": {
      "text/plain": [
       "True"
      ]
     },
     "execution_count": 35,
     "metadata": {},
     "output_type": "execute_result"
    }
   ],
   "source": [
    "hasattr(obj2,'amount')"
   ]
  },
  {
   "cell_type": "code",
   "execution_count": 36,
   "id": "e221a0e2",
   "metadata": {},
   "outputs": [
    {
     "data": {
      "text/plain": [
       "False"
      ]
     },
     "execution_count": 36,
     "metadata": {},
     "output_type": "execute_result"
    }
   ],
   "source": [
    "hasattr(obj2,'faiz')"
   ]
  },
  {
   "cell_type": "code",
   "execution_count": 37,
   "id": "a2ed7932",
   "metadata": {},
   "outputs": [
    {
     "ename": "AttributeError",
     "evalue": "faiz",
     "output_type": "error",
     "traceback": [
      "\u001b[1;31m---------------------------------------------------------------------------\u001b[0m",
      "\u001b[1;31mAttributeError\u001b[0m                            Traceback (most recent call last)",
      "\u001b[1;32m~\\AppData\\Local\\Temp\\ipykernel_10140\\1234070696.py\u001b[0m in \u001b[0;36m<module>\u001b[1;34m\u001b[0m\n\u001b[1;32m----> 1\u001b[1;33m \u001b[0mdelattr\u001b[0m\u001b[1;33m(\u001b[0m\u001b[0mobj2\u001b[0m\u001b[1;33m,\u001b[0m\u001b[1;34m'faiz'\u001b[0m\u001b[1;33m)\u001b[0m\u001b[1;33m\u001b[0m\u001b[1;33m\u001b[0m\u001b[0m\n\u001b[0m",
      "\u001b[1;31mAttributeError\u001b[0m: faiz"
     ]
    }
   ],
   "source": [
    "delattr(obj2,'faiz')"
   ]
  },
  {
   "cell_type": "code",
   "execution_count": 38,
   "id": "121c4a7f",
   "metadata": {},
   "outputs": [
    {
     "data": {
      "text/plain": [
       "{'data': '12Jan',\n",
       " 'description': 'ExpenseTracker',\n",
       " 'transaction_type': 'Debit',\n",
       " 'amount': '500'}"
      ]
     },
     "execution_count": 38,
     "metadata": {},
     "output_type": "execute_result"
    }
   ],
   "source": [
    "obj2.__dict__"
   ]
  },
  {
   "cell_type": "code",
   "execution_count": 39,
   "id": "5dca6c44",
   "metadata": {},
   "outputs": [],
   "source": [
    "delattr(obj2,'amount')"
   ]
  },
  {
   "cell_type": "code",
   "execution_count": 40,
   "id": "e1e5fc45",
   "metadata": {},
   "outputs": [
    {
     "data": {
      "text/plain": [
       "{'data': '12Jan', 'description': 'ExpenseTracker', 'transaction_type': 'Debit'}"
      ]
     },
     "execution_count": 40,
     "metadata": {},
     "output_type": "execute_result"
    }
   ],
   "source": [
    "obj2.__dict__"
   ]
  },
  {
   "cell_type": "code",
   "execution_count": 41,
   "id": "1e8c8bcd",
   "metadata": {},
   "outputs": [
    {
     "data": {
      "text/plain": [
       "0.1"
      ]
     },
     "execution_count": 41,
     "metadata": {},
     "output_type": "execute_result"
    }
   ],
   "source": [
    "obj2.version_application"
   ]
  },
  {
   "cell_type": "code",
   "execution_count": 46,
   "id": "8dbe4e6f",
   "metadata": {},
   "outputs": [],
   "source": [
    "class Student:\n",
    "    name = \"Faiz\"\n",
    "    def store_details(self):\n",
    "        self.age = 60\n",
    "    def print_details(self):\n",
    "        print(self.name, end=\" \")\n",
    "        print(self.age)"
   ]
  },
  {
   "cell_type": "code",
   "execution_count": 49,
   "id": "5892fc3e",
   "metadata": {},
   "outputs": [],
   "source": [
    "s = Student()\n",
    "s.store_details()"
   ]
  },
  {
   "cell_type": "code",
   "execution_count": 50,
   "id": "b5008da1",
   "metadata": {},
   "outputs": [
    {
     "name": "stdout",
     "output_type": "stream",
     "text": [
      "Faiz 60\n"
     ]
    }
   ],
   "source": [
    "s.print_details()"
   ]
  },
  {
   "cell_type": "code",
   "execution_count": null,
   "id": "b2c691b7",
   "metadata": {},
   "outputs": [],
   "source": []
  }
 ],
 "metadata": {
  "kernelspec": {
   "display_name": "Python 3 (ipykernel)",
   "language": "python",
   "name": "python3"
  },
  "language_info": {
   "codemirror_mode": {
    "name": "ipython",
    "version": 3
   },
   "file_extension": ".py",
   "mimetype": "text/x-python",
   "name": "python",
   "nbconvert_exporter": "python",
   "pygments_lexer": "ipython3",
   "version": "3.9.13"
  }
 },
 "nbformat": 4,
 "nbformat_minor": 5
}
