{
 "cells": [
  {
   "cell_type": "code",
   "execution_count": 25,
   "id": "1b6f85ff",
   "metadata": {},
   "outputs": [],
   "source": [
    "class ExpenseTracker:\n",
    "    # class attribute\n",
    "    version_application = 0.1\n",
    "    \"\"\"This is a class to do expense trackin\"\"\" \n",
    "    def __init__(self,date, description, transaction_type, amount):\n",
    "        # Instance/Object Attribute\n",
    "        self.data = date\n",
    "        self.description = description \n",
    "        self.transaction_type = transaction_type \n",
    "        self.amount = amount\n",
    "    # instance method\n",
    "    def get_original_amount(self):\n",
    "        return self.amount"
   ]
  },
  {
   "cell_type": "code",
   "execution_count": 26,
   "id": "af7e9ebc",
   "metadata": {},
   "outputs": [],
   "source": [
    "obj2 = ExpenseTracker(\"12Jan\",\"ExpenseTracker\",\"Debit\",\"500\")"
   ]
  },
  {
   "cell_type": "code",
   "execution_count": 27,
   "id": "630075e6",
   "metadata": {},
   "outputs": [
    {
     "data": {
      "text/plain": [
       "<__main__.ExpenseTracker at 0x1d6a1e1c1c0>"
      ]
     },
     "execution_count": 27,
     "metadata": {},
     "output_type": "execute_result"
    }
   ],
   "source": [
    "obj2"
   ]
  },
  {
   "cell_type": "code",
   "execution_count": 28,
   "id": "c3955686",
   "metadata": {},
   "outputs": [
    {
     "data": {
      "text/plain": [
       "'500'"
      ]
     },
     "execution_count": 28,
     "metadata": {},
     "output_type": "execute_result"
    }
   ],
   "source": [
    "obj2.amount"
   ]
  },
  {
   "cell_type": "code",
   "execution_count": 29,
   "id": "a54183d4",
   "metadata": {},
   "outputs": [
    {
     "data": {
      "text/plain": [
       "'500'"
      ]
     },
     "execution_count": 29,
     "metadata": {},
     "output_type": "execute_result"
    }
   ],
   "source": [
    "obj2.get_original_amount()"
   ]
  },
  {
   "cell_type": "code",
   "execution_count": 12,
   "id": "3f0103b5",
   "metadata": {},
   "outputs": [
    {
     "data": {
      "text/plain": [
       "{'data': '12Jan',\n",
       " 'description': 'ExpenseTracker',\n",
       " 'transaction_type': 'Debit',\n",
       " 'amount': '500'}"
      ]
     },
     "execution_count": 12,
     "metadata": {},
     "output_type": "execute_result"
    }
   ],
   "source": [
    "obj2.__dict__"
   ]
  },
  {
   "cell_type": "code",
   "execution_count": 13,
   "id": "28f80321",
   "metadata": {},
   "outputs": [
    {
     "data": {
      "text/plain": [
       "'500'"
      ]
     },
     "execution_count": 13,
     "metadata": {},
     "output_type": "execute_result"
    }
   ],
   "source": [
    "getattr(obj2,'amount')"
   ]
  },
  {
   "cell_type": "code",
   "execution_count": 14,
   "id": "0639ccd5",
   "metadata": {},
   "outputs": [
    {
     "ename": "AttributeError",
     "evalue": "'ExpenseTracker' object has no attribute 'faiz'",
     "output_type": "error",
     "traceback": [
      "\u001b[1;31m---------------------------------------------------------------------------\u001b[0m",
      "\u001b[1;31mAttributeError\u001b[0m                            Traceback (most recent call last)",
      "\u001b[1;32m~\\AppData\\Local\\Temp\\ipykernel_18568\\4208866778.py\u001b[0m in \u001b[0;36m<module>\u001b[1;34m\u001b[0m\n\u001b[1;32m----> 1\u001b[1;33m \u001b[0mgetattr\u001b[0m\u001b[1;33m(\u001b[0m\u001b[0mobj2\u001b[0m\u001b[1;33m,\u001b[0m\u001b[1;34m\"faiz\"\u001b[0m\u001b[1;33m)\u001b[0m\u001b[1;33m\u001b[0m\u001b[1;33m\u001b[0m\u001b[0m\n\u001b[0m",
      "\u001b[1;31mAttributeError\u001b[0m: 'ExpenseTracker' object has no attribute 'faiz'"
     ]
    }
   ],
   "source": [
    "getattr(obj2,\"faiz\")"
   ]
  },
  {
   "cell_type": "code",
   "execution_count": 15,
   "id": "63d96a67",
   "metadata": {},
   "outputs": [
    {
     "data": {
      "text/plain": [
       "True"
      ]
     },
     "execution_count": 15,
     "metadata": {},
     "output_type": "execute_result"
    }
   ],
   "source": [
    "hasattr(obj2,'amount')"
   ]
  },
  {
   "cell_type": "code",
   "execution_count": 16,
   "id": "e221a0e2",
   "metadata": {},
   "outputs": [
    {
     "data": {
      "text/plain": [
       "False"
      ]
     },
     "execution_count": 16,
     "metadata": {},
     "output_type": "execute_result"
    }
   ],
   "source": [
    "hasattr(obj2,'faiz')"
   ]
  },
  {
   "cell_type": "code",
   "execution_count": 17,
   "id": "a2ed7932",
   "metadata": {},
   "outputs": [
    {
     "ename": "AttributeError",
     "evalue": "faiz",
     "output_type": "error",
     "traceback": [
      "\u001b[1;31m---------------------------------------------------------------------------\u001b[0m",
      "\u001b[1;31mAttributeError\u001b[0m                            Traceback (most recent call last)",
      "\u001b[1;32m~\\AppData\\Local\\Temp\\ipykernel_18568\\1234070696.py\u001b[0m in \u001b[0;36m<module>\u001b[1;34m\u001b[0m\n\u001b[1;32m----> 1\u001b[1;33m \u001b[0mdelattr\u001b[0m\u001b[1;33m(\u001b[0m\u001b[0mobj2\u001b[0m\u001b[1;33m,\u001b[0m\u001b[1;34m'faiz'\u001b[0m\u001b[1;33m)\u001b[0m\u001b[1;33m\u001b[0m\u001b[1;33m\u001b[0m\u001b[0m\n\u001b[0m",
      "\u001b[1;31mAttributeError\u001b[0m: faiz"
     ]
    }
   ],
   "source": [
    "delattr(obj2,'faiz')"
   ]
  },
  {
   "cell_type": "code",
   "execution_count": 18,
   "id": "121c4a7f",
   "metadata": {},
   "outputs": [
    {
     "data": {
      "text/plain": [
       "{'data': '12Jan',\n",
       " 'description': 'ExpenseTracker',\n",
       " 'transaction_type': 'Debit',\n",
       " 'amount': '500'}"
      ]
     },
     "execution_count": 18,
     "metadata": {},
     "output_type": "execute_result"
    }
   ],
   "source": [
    "obj2.__dict__"
   ]
  },
  {
   "cell_type": "code",
   "execution_count": 19,
   "id": "5dca6c44",
   "metadata": {},
   "outputs": [],
   "source": [
    "delattr(obj2,'amount')"
   ]
  },
  {
   "cell_type": "code",
   "execution_count": 20,
   "id": "e1e5fc45",
   "metadata": {},
   "outputs": [
    {
     "data": {
      "text/plain": [
       "{'data': '12Jan', 'description': 'ExpenseTracker', 'transaction_type': 'Debit'}"
      ]
     },
     "execution_count": 20,
     "metadata": {},
     "output_type": "execute_result"
    }
   ],
   "source": [
    "obj2.__dict__"
   ]
  },
  {
   "cell_type": "code",
   "execution_count": 21,
   "id": "1e8c8bcd",
   "metadata": {},
   "outputs": [
    {
     "data": {
      "text/plain": [
       "0.1"
      ]
     },
     "execution_count": 21,
     "metadata": {},
     "output_type": "execute_result"
    }
   ],
   "source": [
    "obj2.version_application"
   ]
  },
  {
   "cell_type": "code",
   "execution_count": 22,
   "id": "8dbe4e6f",
   "metadata": {},
   "outputs": [],
   "source": [
    "class Student:\n",
    "    name = \"Faiz\"\n",
    "    def store_details(self):\n",
    "        self.age = 60\n",
    "    def print_details(self):\n",
    "        print(self.name, end=\" \")\n",
    "        print(self.age)"
   ]
  },
  {
   "cell_type": "code",
   "execution_count": 23,
   "id": "5892fc3e",
   "metadata": {},
   "outputs": [],
   "source": [
    "s = Student()\n",
    "s.store_details()"
   ]
  },
  {
   "cell_type": "code",
   "execution_count": 24,
   "id": "b5008da1",
   "metadata": {},
   "outputs": [
    {
     "name": "stdout",
     "output_type": "stream",
     "text": [
      "Faiz 60\n"
     ]
    }
   ],
   "source": [
    "s.print_details()"
   ]
  },
  {
   "cell_type": "code",
   "execution_count": 112,
   "id": "b2c691b7",
   "metadata": {},
   "outputs": [],
   "source": [
    "class ExpenseTracker:\n",
    "    # class attribute\n",
    "    version_application = 0.1\n",
    "    \"\"\"This is a class to do expense trackin\"\"\" \n",
    "    def __init__(self,date, description, transaction_type,budget, amount):\n",
    "        # Instance/Object Attribute\n",
    "        self.data = date\n",
    "        self.description = description \n",
    "        self.transaction_type = transaction_type \n",
    "        self.budget = budget\n",
    "        self.amount = amount\n",
    "    # instance method\n",
    "    def get_original_amount(self):\n",
    "        return self.amount\n",
    "    \n",
    "    # instance method\n",
    "    def check_balance(self,limit=1000):\n",
    "        if self.budget>=limit:\n",
    "            return True\n",
    "        else:\n",
    "            return \"Your opening balance is less than limit\"\n",
    "    \n",
    "    @staticmethod\n",
    "    def convert_amount(amount):\n",
    "        return float(amount)\n",
    "    \n",
    "    # Factory method\n",
    "    @classmethod\n",
    "    def get_attribute_from_string(cls,date,description,diary_entry:str):\n",
    "        transaction_type,budget, amount = diary_entry.split(\" \")\n",
    "        return ExpenseTracker( date,description,\n",
    "            transaction_type.capitalize(),\n",
    "            cls.convert_amount(budget), \n",
    "            cls.convert_amount(amount)\n",
    "        )"
   ]
  },
  {
   "cell_type": "code",
   "execution_count": 113,
   "id": "d0efb93f",
   "metadata": {},
   "outputs": [],
   "source": [
    "obj = ExpenseTracker(\"12Jan\",\"ExpenseTracker\",\"Debit\",10000,500000)"
   ]
  },
  {
   "cell_type": "code",
   "execution_count": 114,
   "id": "db4d3db2",
   "metadata": {},
   "outputs": [
    {
     "data": {
      "text/plain": [
       "{'data': '12Jan',\n",
       " 'description': 'ExpenseTracker',\n",
       " 'transaction_type': 'Debit',\n",
       " 'budget': 10000,\n",
       " 'amount': 500000}"
      ]
     },
     "execution_count": 114,
     "metadata": {},
     "output_type": "execute_result"
    }
   ],
   "source": [
    "obj.__dict__"
   ]
  },
  {
   "cell_type": "code",
   "execution_count": 115,
   "id": "f0f8ab96",
   "metadata": {},
   "outputs": [
    {
     "data": {
      "text/plain": [
       "500000"
      ]
     },
     "execution_count": 115,
     "metadata": {},
     "output_type": "execute_result"
    }
   ],
   "source": [
    "obj.get_original_amount()"
   ]
  },
  {
   "cell_type": "code",
   "execution_count": 116,
   "id": "399de89f",
   "metadata": {},
   "outputs": [
    {
     "data": {
      "text/plain": [
       "10000"
      ]
     },
     "execution_count": 116,
     "metadata": {},
     "output_type": "execute_result"
    }
   ],
   "source": [
    "obj.budget"
   ]
  },
  {
   "cell_type": "code",
   "execution_count": 117,
   "id": "5a9a8164",
   "metadata": {},
   "outputs": [
    {
     "data": {
      "text/plain": [
       "True"
      ]
     },
     "execution_count": 117,
     "metadata": {},
     "output_type": "execute_result"
    }
   ],
   "source": [
    "obj.check_balance()"
   ]
  },
  {
   "cell_type": "code",
   "execution_count": 118,
   "id": "19accd36",
   "metadata": {},
   "outputs": [
    {
     "data": {
      "text/plain": [
       "'Your opening balance is less than limit'"
      ]
     },
     "execution_count": 118,
     "metadata": {},
     "output_type": "execute_result"
    }
   ],
   "source": [
    "obj.check_balance(100000)"
   ]
  },
  {
   "cell_type": "code",
   "execution_count": 119,
   "id": "ceb06db8",
   "metadata": {},
   "outputs": [
    {
     "data": {
      "text/plain": [
       "123000.0"
      ]
     },
     "execution_count": 119,
     "metadata": {},
     "output_type": "execute_result"
    }
   ],
   "source": [
    "obj.convert_amount(123000)"
   ]
  },
  {
   "cell_type": "code",
   "execution_count": 120,
   "id": "a0e0b4f6",
   "metadata": {},
   "outputs": [],
   "source": [
    "class_obj = ExpenseTracker.get_attribute_from_string(\"15Feb\",\"Faiz\",\"debit 123000 520000\")"
   ]
  },
  {
   "cell_type": "code",
   "execution_count": 121,
   "id": "e7649f84",
   "metadata": {},
   "outputs": [
    {
     "data": {
      "text/plain": [
       "{'data': '15Feb',\n",
       " 'description': 'Faiz',\n",
       " 'transaction_type': 'Debit',\n",
       " 'budget': 123000.0,\n",
       " 'amount': 520000.0}"
      ]
     },
     "execution_count": 121,
     "metadata": {},
     "output_type": "execute_result"
    }
   ],
   "source": [
    "class_obj.__dict__"
   ]
  },
  {
   "cell_type": "code",
   "execution_count": 122,
   "id": "48d9802e",
   "metadata": {},
   "outputs": [
    {
     "data": {
      "text/plain": [
       "{'data': '15Feb',\n",
       " 'description': 'Faiz',\n",
       " 'transaction_type': 'Debit',\n",
       " 'budget': 123000.0,\n",
       " 'amount': 520000.0}"
      ]
     },
     "execution_count": 122,
     "metadata": {},
     "output_type": "execute_result"
    }
   ],
   "source": [
    "obj.get_attribute_from_string(\"15Feb\",\"Faiz\",\"debit 123000 520000\").__dict__"
   ]
  },
  {
   "cell_type": "code",
   "execution_count": 124,
   "id": "7cc967e6",
   "metadata": {},
   "outputs": [
    {
     "data": {
      "text/plain": [
       "'Your opening balance is less than limit'"
      ]
     },
     "execution_count": 124,
     "metadata": {},
     "output_type": "execute_result"
    }
   ],
   "source": [
    "obj.check_balance(152300)"
   ]
  },
  {
   "cell_type": "code",
   "execution_count": null,
   "id": "90f29b86",
   "metadata": {},
   "outputs": [],
   "source": []
  },
  {
   "cell_type": "code",
   "execution_count": null,
   "id": "52a118e3",
   "metadata": {},
   "outputs": [],
   "source": []
  },
  {
   "cell_type": "code",
   "execution_count": 53,
   "id": "dde03263",
   "metadata": {},
   "outputs": [],
   "source": [
    "class Student:\n",
    "    def __init__(self,name,age):\n",
    "        self.name = \"Faiz\"\n",
    "        self.age = 26\n",
    "    def print_details(self):\n",
    "        print(self.name, end=\" \")\n",
    "        print(self.age)"
   ]
  },
  {
   "cell_type": "code",
   "execution_count": 55,
   "id": "4ace6d33",
   "metadata": {},
   "outputs": [],
   "source": [
    "s = Student('Fazlu',26)"
   ]
  },
  {
   "cell_type": "code",
   "execution_count": 56,
   "id": "4b6056a0",
   "metadata": {},
   "outputs": [
    {
     "name": "stdout",
     "output_type": "stream",
     "text": [
      "Faiz 26\n"
     ]
    }
   ],
   "source": [
    "s.print_details()"
   ]
  },
  {
   "cell_type": "code",
   "execution_count": 140,
   "id": "b3082b2e",
   "metadata": {},
   "outputs": [],
   "source": [
    "class ExpenseTracker:\n",
    "    # class attribute\n",
    "    version_application = 0.1\n",
    "    \"\"\"This is a class to do expense trackin\"\"\" \n",
    "    def __init__(self,date, description, transaction_type,budget, amount):\n",
    "        # Instance/Object Attribute\n",
    "        self.data = date\n",
    "        self.description = description \n",
    "        self.transaction_type = transaction_type \n",
    "        \n",
    "        #private\n",
    "        self.__budget = budget\n",
    "        self.__amount = amount\n",
    "        \n",
    "     #private   \n",
    "    # instance method\n",
    "    def __get_original_amount(self):\n",
    "        return self.__amount\n",
    "    \n",
    "    # instance method\n",
    "    def check_balance(self,limit=1000):\n",
    "        if self.__budget>=limit:\n",
    "            return True\n",
    "        else:\n",
    "            return \"Your opening balance is less than limit\"\n",
    "    \n",
    "    @staticmethod\n",
    "    def convert_amount(amount):\n",
    "        return float(amount)\n",
    "    \n",
    "    # Factory method\n",
    "    @classmethod\n",
    "    def get_attribute_from_string(cls,date,description,diary_entry:str):\n",
    "        transaction_type,budget, amount = diary_entry.split(\" \")\n",
    "        return ExpenseTracker( date,description,\n",
    "            transaction_type.capitalize(),\n",
    "            cls.convert_amount(budget), \n",
    "            cls.convert_amount(amount)\n",
    "        )"
   ]
  },
  {
   "cell_type": "code",
   "execution_count": 141,
   "id": "a2e4503a",
   "metadata": {},
   "outputs": [],
   "source": [
    "faiz = ExpenseTracker.get_attribute_from_string(\"15Feb\",\"Faiz\",\"debit 123000 520000\")"
   ]
  },
  {
   "cell_type": "code",
   "execution_count": 142,
   "id": "d31b1966",
   "metadata": {},
   "outputs": [
    {
     "name": "stdout",
     "output_type": "stream",
     "text": [
      "True\n"
     ]
    }
   ],
   "source": [
    "print(faiz.check_balance(12000))"
   ]
  },
  {
   "cell_type": "code",
   "execution_count": 143,
   "id": "6289106d",
   "metadata": {},
   "outputs": [
    {
     "data": {
      "text/plain": [
       "{'data': '15Feb',\n",
       " 'description': 'Faiz',\n",
       " 'transaction_type': 'Debit',\n",
       " '_ExpenseTracker__budget': 123000.0,\n",
       " '_ExpenseTracker__amount': 520000.0}"
      ]
     },
     "execution_count": 143,
     "metadata": {},
     "output_type": "execute_result"
    }
   ],
   "source": [
    "faiz.__dict__"
   ]
  },
  {
   "cell_type": "code",
   "execution_count": 144,
   "id": "aa8dc1fa",
   "metadata": {},
   "outputs": [
    {
     "data": {
      "text/plain": [
       "123000.0"
      ]
     },
     "execution_count": 144,
     "metadata": {},
     "output_type": "execute_result"
    }
   ],
   "source": [
    "faiz._ExpenseTracker__budget"
   ]
  },
  {
   "cell_type": "code",
   "execution_count": 145,
   "id": "3a36e774",
   "metadata": {},
   "outputs": [
    {
     "data": {
      "text/plain": [
       "520000.0"
      ]
     },
     "execution_count": 145,
     "metadata": {},
     "output_type": "execute_result"
    }
   ],
   "source": [
    "faiz._ExpenseTracker__amount"
   ]
  },
  {
   "cell_type": "code",
   "execution_count": 146,
   "id": "19ba1c1a",
   "metadata": {},
   "outputs": [
    {
     "data": {
      "text/plain": [
       "520000.0"
      ]
     },
     "execution_count": 146,
     "metadata": {},
     "output_type": "execute_result"
    }
   ],
   "source": [
    "faiz._ExpenseTracker__get_original_amount()"
   ]
  },
  {
   "cell_type": "code",
   "execution_count": null,
   "id": "a4823493",
   "metadata": {},
   "outputs": [],
   "source": []
  }
 ],
 "metadata": {
  "kernelspec": {
   "display_name": "Python 3 (ipykernel)",
   "language": "python",
   "name": "python3"
  },
  "language_info": {
   "codemirror_mode": {
    "name": "ipython",
    "version": 3
   },
   "file_extension": ".py",
   "mimetype": "text/x-python",
   "name": "python",
   "nbconvert_exporter": "python",
   "pygments_lexer": "ipython3",
   "version": "3.9.13"
  }
 },
 "nbformat": 4,
 "nbformat_minor": 5
}
