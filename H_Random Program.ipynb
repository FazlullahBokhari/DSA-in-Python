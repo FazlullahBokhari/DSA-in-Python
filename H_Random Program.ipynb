{
 "cells": [
  {
   "cell_type": "code",
   "execution_count": 1,
   "id": "508f1823",
   "metadata": {},
   "outputs": [],
   "source": [
    "def timeConversion(s):\n",
    "    # Write your code here\n",
    "    time = s[0:2]\n",
    "    check_am_pm = s[len(s)-2:len(s)]\n",
    "    if check_am_pm == 'PM':\n",
    "        if int(time) > 0 and int(time)<12:\n",
    "            time = str(int(time)+12)\n",
    "        else:\n",
    "            time = time\n",
    "    else:\n",
    "        if int(time) == 12:\n",
    "            time = '00' \n",
    "        else:\n",
    "            time = time\n",
    "                       \n",
    "    new_time = time+s[2:len(s)-2]  \n",
    "    return new_time     "
   ]
  },
  {
   "cell_type": "code",
   "execution_count": 2,
   "id": "7cdbfe78",
   "metadata": {},
   "outputs": [
    {
     "data": {
      "text/plain": [
       "'19:05:45'"
      ]
     },
     "execution_count": 2,
     "metadata": {},
     "output_type": "execute_result"
    }
   ],
   "source": [
    "timeConversion(\"07:05:45PM\")"
   ]
  },
  {
   "cell_type": "code",
   "execution_count": 3,
   "id": "7f694abf",
   "metadata": {},
   "outputs": [
    {
     "data": {
      "text/plain": [
       "'07:05:45'"
      ]
     },
     "execution_count": 3,
     "metadata": {},
     "output_type": "execute_result"
    }
   ],
   "source": [
    "timeConversion(\"07:05:45AM\")"
   ]
  },
  {
   "cell_type": "code",
   "execution_count": 4,
   "id": "715906d7",
   "metadata": {},
   "outputs": [],
   "source": [
    "grades = [73,67,38,33]"
   ]
  },
  {
   "cell_type": "code",
   "execution_count": 21,
   "id": "72ff6786",
   "metadata": {},
   "outputs": [
    {
     "name": "stdout",
     "output_type": "stream",
     "text": [
      "75\n",
      "67\n",
      "40\n",
      "33\n"
     ]
    }
   ],
   "source": [
    "import math as m\n",
    "def getReviseGrade(g):\n",
    "    reviseG = []\n",
    "    for i in g:\n",
    "        newGrade = i\n",
    "        if i+3 >= 40:\n",
    "            r = i%5\n",
    "            if r>2:\n",
    "                a = 5-r\n",
    "                newGrade = i+a\n",
    "        reviseG.append(newGrade)    \n",
    "    for j in reviseG:\n",
    "        print(j)\n",
    "\n",
    "getReviseGrade(grades)"
   ]
  },
  {
   "cell_type": "code",
   "execution_count": 22,
   "id": "5ca3aee4",
   "metadata": {},
   "outputs": [],
   "source": [
    "def countApplesAndOranges(s, t, a, b, apples, oranges):\n",
    "    # Write your code here\n",
    "    pass"
   ]
  },
  {
   "cell_type": "code",
   "execution_count": null,
   "id": "3fe580d1",
   "metadata": {},
   "outputs": [],
   "source": [
    "s,t= 7,11\n",
    "#5 15\n",
    "#3 2\n",
    "#-2 2 1\n",
    "#5 -6"
   ]
  }
 ],
 "metadata": {
  "kernelspec": {
   "display_name": "Python 3",
   "language": "python",
   "name": "python3"
  },
  "language_info": {
   "codemirror_mode": {
    "name": "ipython",
    "version": 3
   },
   "file_extension": ".py",
   "mimetype": "text/x-python",
   "name": "python",
   "nbconvert_exporter": "python",
   "pygments_lexer": "ipython3",
   "version": "3.8.8"
  }
 },
 "nbformat": 4,
 "nbformat_minor": 5
}
