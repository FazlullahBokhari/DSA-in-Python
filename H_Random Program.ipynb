{
 "cells": [
  {
   "cell_type": "code",
   "execution_count": 29,
   "id": "508f1823",
   "metadata": {},
   "outputs": [],
   "source": [
    "def timeConversion(s):\n",
    "    # Write your code here\n",
    "    time = s[0:2]\n",
    "    check_am_pm = s[len(s)-2:len(s)]\n",
    "    if check_am_pm == 'PM':\n",
    "        if int(time) > 0 and int(time)<12:\n",
    "            time = str(int(time)+12)\n",
    "        else:\n",
    "            time = time\n",
    "    else:\n",
    "        if int(time) == 12:\n",
    "            time = '00' \n",
    "        else:\n",
    "            time = time\n",
    "                       \n",
    "    new_time = time+s[2:len(s)-2]  \n",
    "    return new_time     "
   ]
  },
  {
   "cell_type": "code",
   "execution_count": 30,
   "id": "7cdbfe78",
   "metadata": {},
   "outputs": [
    {
     "data": {
      "text/plain": [
       "'19:05:45'"
      ]
     },
     "execution_count": 30,
     "metadata": {},
     "output_type": "execute_result"
    }
   ],
   "source": [
    "timeConversion(\"07:05:45PM\")"
   ]
  },
  {
   "cell_type": "code",
   "execution_count": 31,
   "id": "7f694abf",
   "metadata": {},
   "outputs": [
    {
     "data": {
      "text/plain": [
       "'07:05:45'"
      ]
     },
     "execution_count": 31,
     "metadata": {},
     "output_type": "execute_result"
    }
   ],
   "source": [
    "timeConversion(\"07:05:45AM\")"
   ]
  },
  {
   "cell_type": "code",
   "execution_count": null,
   "id": "715906d7",
   "metadata": {},
   "outputs": [],
   "source": []
  },
  {
   "cell_type": "code",
   "execution_count": null,
   "id": "72ff6786",
   "metadata": {},
   "outputs": [],
   "source": []
  }
 ],
 "metadata": {
  "kernelspec": {
   "display_name": "Python 3",
   "language": "python",
   "name": "python3"
  },
  "language_info": {
   "codemirror_mode": {
    "name": "ipython",
    "version": 3
   },
   "file_extension": ".py",
   "mimetype": "text/x-python",
   "name": "python",
   "nbconvert_exporter": "python",
   "pygments_lexer": "ipython3",
   "version": "3.8.8"
  }
 },
 "nbformat": 4,
 "nbformat_minor": 5
}
