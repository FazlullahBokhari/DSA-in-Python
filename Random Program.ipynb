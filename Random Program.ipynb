{
 "cells": [
  {
   "cell_type": "code",
   "execution_count": 24,
   "id": "dd3d19dc",
   "metadata": {},
   "outputs": [],
   "source": [
    "l = [1,2,3,8]\n",
    "def add_one(l):\n",
    "    l1 = []\n",
    "    for i in l:\n",
    "        if i != l[-1]:\n",
    "            l1.append(i)\n",
    "        else:\n",
    "            if i == 9:\n",
    "                i = i + 1\n",
    "                i = str(i)\n",
    "                for num in i:\n",
    "                    l1.append(num)\n",
    "                return l1        \n",
    "            i = i+1\n",
    "            l1.append(i)\n",
    "            \n",
    "    return l1        "
   ]
  },
  {
   "cell_type": "code",
   "execution_count": 25,
   "id": "1521751d",
   "metadata": {},
   "outputs": [
    {
     "data": {
      "text/plain": [
       "[1, 2, 3, 9]"
      ]
     },
     "execution_count": 25,
     "metadata": {},
     "output_type": "execute_result"
    }
   ],
   "source": [
    "add_one(l)"
   ]
  },
  {
   "cell_type": "code",
   "execution_count": 19,
   "id": "cede9291",
   "metadata": {},
   "outputs": [
    {
     "name": "stdout",
     "output_type": "stream",
     "text": [
      "The original number is 2019\n",
      "The list from number is [2, 0, 1, 9]\n"
     ]
    }
   ],
   "source": [
    "num = 2019\n",
    "\n",
    "print (\"The original number is \" + str(num))\n",
    "\n",
    "res = [int(x) for x in str(num)]\n",
    "\n",
    "# printing result\n",
    "print (\"The list from number is \" + str(res))\n"
   ]
  },
  {
   "cell_type": "code",
   "execution_count": 21,
   "id": "3ce7968a",
   "metadata": {},
   "outputs": [
    {
     "name": "stdout",
     "output_type": "stream",
     "text": [
      "1\n",
      "2\n",
      "3\n",
      "4\n"
     ]
    }
   ],
   "source": [
    "r = 1234\n",
    "for i in str(r):\n",
    "    print(i)"
   ]
  },
  {
   "cell_type": "code",
   "execution_count": 4,
   "id": "19da6e5f",
   "metadata": {},
   "outputs": [],
   "source": [
    "def repeat_word_count(text, n):\n",
    "\n",
    "        my_string = text.split()\n",
    "        my_dict = {}\n",
    "        for word in my_string:\n",
    "            if word in my_dict:\n",
    "                my_dict[word] += 1\n",
    "            else:\n",
    "                my_dict[word] = 1\n",
    "\n",
    "        result = []\n",
    "        for key, value in my_dict.items():\n",
    "            if value >= n:\n",
    "                result.append(key)\n",
    "        return result"
   ]
  },
  {
   "cell_type": "code",
   "execution_count": 6,
   "id": "e70b878c",
   "metadata": {},
   "outputs": [
    {
     "data": {
      "text/plain": [
       "['buffalo', 'faiz']"
      ]
     },
     "execution_count": 6,
     "metadata": {},
     "output_type": "execute_result"
    }
   ],
   "source": [
    "test = \"buffalo buffalo buffalo buffalo faiz faiz fazlullah\"\n",
    "n = 2\n",
    "\n",
    "repeat_word_count(test,n)"
   ]
  },
  {
   "cell_type": "code",
   "execution_count": null,
   "id": "74274988",
   "metadata": {},
   "outputs": [],
   "source": []
  }
 ],
 "metadata": {
  "kernelspec": {
   "display_name": "Python 3",
   "language": "python",
   "name": "python3"
  },
  "language_info": {
   "codemirror_mode": {
    "name": "ipython",
    "version": 3
   },
   "file_extension": ".py",
   "mimetype": "text/x-python",
   "name": "python",
   "nbconvert_exporter": "python",
   "pygments_lexer": "ipython3",
   "version": "3.8.8"
  }
 },
 "nbformat": 4,
 "nbformat_minor": 5
}
