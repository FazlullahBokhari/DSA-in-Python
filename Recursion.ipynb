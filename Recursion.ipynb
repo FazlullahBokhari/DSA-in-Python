{
 "cells": [
  {
   "cell_type": "code",
   "execution_count": 1,
   "id": "a18304be",
   "metadata": {},
   "outputs": [],
   "source": [
    "def fact(n):\n",
    "    if n==0:\n",
    "        return 1\n",
    "    return n*fact(n-1)"
   ]
  },
  {
   "cell_type": "code",
   "execution_count": 2,
   "id": "3d818da6",
   "metadata": {},
   "outputs": [
    {
     "data": {
      "text/plain": [
       "120"
      ]
     },
     "execution_count": 2,
     "metadata": {},
     "output_type": "execute_result"
    }
   ],
   "source": [
    "fact(5)"
   ]
  },
  {
   "cell_type": "code",
   "execution_count": 5,
   "id": "7b7ab28b",
   "metadata": {},
   "outputs": [],
   "source": [
    "def sum_natural_number(x):\n",
    "    if x==0:\n",
    "        return 0\n",
    "    return x+sum_natural_number(x-1)"
   ]
  },
  {
   "cell_type": "code",
   "execution_count": 6,
   "id": "cfcb76c7",
   "metadata": {},
   "outputs": [
    {
     "data": {
      "text/plain": [
       "55"
      ]
     },
     "execution_count": 6,
     "metadata": {},
     "output_type": "execute_result"
    }
   ],
   "source": [
    "sum_natural_number(10)"
   ]
  },
  {
   "cell_type": "code",
   "execution_count": 19,
   "id": "44693380",
   "metadata": {},
   "outputs": [],
   "source": [
    "def x_pow_y(x,y):\n",
    "    if x==0:\n",
    "        return 0\n",
    "    if x==1 or y==0:\n",
    "        return 1\n",
    "    if y==1:\n",
    "        return x\n",
    "    return x*x_pow_y(x,y-1)"
   ]
  },
  {
   "cell_type": "code",
   "execution_count": 23,
   "id": "ad0760ed",
   "metadata": {},
   "outputs": [
    {
     "name": "stdout",
     "output_type": "stream",
     "text": [
      "3 4\n"
     ]
    },
    {
     "data": {
      "text/plain": [
       "81"
      ]
     },
     "execution_count": 23,
     "metadata": {},
     "output_type": "execute_result"
    }
   ],
   "source": [
    "x,y = input().split()\n",
    "x = int(x)\n",
    "y = int(y)\n",
    "x_pow_y(x,y)"
   ]
  },
  {
   "cell_type": "code",
   "execution_count": 28,
   "id": "592d7333",
   "metadata": {},
   "outputs": [],
   "source": [
    "def printN(n):\n",
    "    if n==0:\n",
    "        return\n",
    "    printN(n-1)\n",
    "    print(n)\n",
    "    return "
   ]
  },
  {
   "cell_type": "code",
   "execution_count": 29,
   "id": "20c765c0",
   "metadata": {},
   "outputs": [
    {
     "name": "stdout",
     "output_type": "stream",
     "text": [
      "1\n",
      "2\n",
      "3\n",
      "4\n",
      "5\n"
     ]
    }
   ],
   "source": [
    "printN(5)"
   ]
  },
  {
   "cell_type": "code",
   "execution_count": 30,
   "id": "b31621bd",
   "metadata": {},
   "outputs": [],
   "source": [
    "def printN(n):\n",
    "    if n==0:\n",
    "        return\n",
    "    print(n)\n",
    "    return printN(n-1)"
   ]
  },
  {
   "cell_type": "code",
   "execution_count": 31,
   "id": "ba092871",
   "metadata": {},
   "outputs": [
    {
     "name": "stdout",
     "output_type": "stream",
     "text": [
      "5\n",
      "4\n",
      "3\n",
      "2\n",
      "1\n"
     ]
    }
   ],
   "source": [
    "printN(5)"
   ]
  },
  {
   "cell_type": "code",
   "execution_count": null,
   "id": "232fb4e1",
   "metadata": {},
   "outputs": [],
   "source": []
  }
 ],
 "metadata": {
  "kernelspec": {
   "display_name": "Python 3 (ipykernel)",
   "language": "python",
   "name": "python3"
  },
  "language_info": {
   "codemirror_mode": {
    "name": "ipython",
    "version": 3
   },
   "file_extension": ".py",
   "mimetype": "text/x-python",
   "name": "python",
   "nbconvert_exporter": "python",
   "pygments_lexer": "ipython3",
   "version": "3.9.13"
  }
 },
 "nbformat": 4,
 "nbformat_minor": 5
}
